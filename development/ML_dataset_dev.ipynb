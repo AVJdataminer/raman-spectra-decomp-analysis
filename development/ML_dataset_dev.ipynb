{
 "cells": [
  {
   "cell_type": "code",
   "execution_count": 3,
   "metadata": {},
   "outputs": [],
   "source": [
    "import pandas as pd\n",
    "import numpy as np\n",
    "import matplotlib.pyplot as plt\n",
    "import h5py\n",
    "from scipy import interpolate\n",
    "\n",
    "from ramandecompy import dataprep"
   ]
  },
  {
   "cell_type": "code",
   "execution_count": 2,
   "metadata": {},
   "outputs": [],
   "source": [
    "# dataprep.new_hdf5('ML_calibration')\n",
    "# dataprep.add_calibration('ML_calibration.hdf5', '../ramandecompy/tests/test_files/water.xlsx', 'water')\n",
    "# dataprep.add_calibration('ML_calibration.hdf5', '../ramandecompy/tests/test_files/Hydrogen_Baseline_Calibration.xlsx', 'hydrogen')\n",
    "# dataprep.add_calibration('ML_calibration.hdf5', '../ramandecompy/tests/test_files/Methane_Baseline_Calibration.xlsx', 'methane')\n",
    "# dataprep.add_calibration('ML_calibration.hdf5', '../ramandecompy/tests/test_files/CarbonMonoxide_Baseline_Calibration.xlsx', 'carbon monoxide')\n",
    "# dataprep.add_calibration('ML_calibration.hdf5', '../ramandecompy/tests/test_files/CO2_100wt%.csv', 'carbon dioxide')"
   ]
  },
  {
   "cell_type": "code",
   "execution_count": 3,
   "metadata": {},
   "outputs": [
    {
     "name": "stdout",
     "output_type": "stream",
     "text": [
      "**** ML_calibration.hdf5 ****\n",
      "\u001b[1mcarbon dioxide\u001b[0m\n",
      "|    Peak_01\n",
      "|    Peak_02\n",
      "|    counts\n",
      "|    residuals\n",
      "|    wavenumber\n",
      "\u001b[1mcarbon monoxide\u001b[0m\n",
      "|    Peak_01\n",
      "|    counts\n",
      "|    residuals\n",
      "|    wavenumber\n",
      "\u001b[1mhydrogen\u001b[0m\n",
      "|    Peak_01\n",
      "|    Peak_02\n",
      "|    Peak_03\n",
      "|    Peak_04\n",
      "|    counts\n",
      "|    residuals\n",
      "|    wavenumber\n",
      "\u001b[1mmethane\u001b[0m\n",
      "|    Peak_01\n",
      "|    counts\n",
      "|    residuals\n",
      "|    wavenumber\n",
      "\u001b[1mwater\u001b[0m\n",
      "|    Peak_01\n",
      "|    Peak_02\n",
      "|    counts\n",
      "|    residuals\n",
      "|    wavenumber\n"
     ]
    }
   ],
   "source": [
    "dataprep.view_hdf5('ML_calibration.hdf5')"
   ]
  },
  {
   "cell_type": "markdown",
   "metadata": {},
   "source": [
    "### Now to write a function that will interpolate all the spectra in the hdf5_file, and sum them in a random distribution"
   ]
  },
  {
   "cell_type": "code",
   "execution_count": 6,
   "metadata": {
    "scrolled": false
   },
   "outputs": [
    {
     "data": {
      "text/plain": [
       "10"
      ]
     },
     "execution_count": 6,
     "metadata": {},
     "output_type": "execute_result"
    },
    {
     "data": {
      "image/png": "[encoded data removed]",
      "text/plain": [
       "<Figure size 432x288 with 1 Axes>"
      ]
     },
     "metadata": {
      "needs_background": "light"
     },
     "output_type": "display_data"
    }
   ],
   "source": [
    "# first a function that will return a normalized interpolated spectra\n",
    "target_compound = 'water'\n",
    "# compound = 'water'\n",
    "hdf5_filename = 'ML_calibration.hdf5'\n",
    "spectra_count = 10\n",
    "\n",
    "x_data, y_data, label = generate_spectra_dataset(hdf5_filename, target_compound, spectra_count)\n",
    "len(x_data)"
   ]
  },
  {
   "cell_type": "code",
   "execution_count": 5,
   "metadata": {
    "scrolled": false
   },
   "outputs": [],
   "source": [
    "def generate_spectra_dataset(hdf5_filename, target_compound, spectra_count):\n",
    "    \"\"\"\n",
    "    docstring\n",
    "    \"\"\"\n",
    "    hdf5 = h5py.File(hdf5_filename, 'r')\n",
    "    # get list of compounds from hdf5 file\n",
    "    compound_list = list(hdf5.keys())\n",
    "    # create list of interpolated spectra\n",
    "    interp_list = []\n",
    "    for compound in compound_list:\n",
    "        # interpolate\n",
    "        tuple_list = interp_and_norm(hdf5_filename, compound)\n",
    "        interp_list.append(tuple_list)\n",
    "    # identify index of target_compound\n",
    "    target_index = [i for i, compound in enumerate(compound_list) if target_compound in compound][0]\n",
    "    # create list of spectra\n",
    "    x_data = []\n",
    "    y_data = []\n",
    "    label = []\n",
    "    for j in range(spectra_count): \n",
    "        # apply scaling to interpolated list\n",
    "        for i, tuple_list in enumerate(interp_list):\n",
    "            if i == 0:\n",
    "                # apply scaling\n",
    "                scaled_tuple_list = apply_scaling(tuple_list, j, i, target_index)\n",
    "                summed_tuples = scaled_tuple_list\n",
    "            else:\n",
    "                # apply scaling\n",
    "                scaled_tuple_list = apply_scaling(tuple_list, j, i, target_index)    \n",
    "                summed_tuples = summed_tuples + scaled_tuple_list\n",
    "        # sort by wavenumber\n",
    "        combined = sorted(summed_tuples)\n",
    "        # add by like\n",
    "        same_x = {x:0 for x, _ in combined}\n",
    "        for name, num in combined:\n",
    "            same_x[name] += num\n",
    "        sum_combined = list(map(tuple, same_x.items()))\n",
    "        # unzip\n",
    "        x_combined, y_combined = zip(*sum_combined)\n",
    "        # set as arrays\n",
    "        x_combined = np.asarray(x_combined)\n",
    "        y_combined = np.asarray(y_combined)\n",
    "        # plots the spectra, will remove from final rev\n",
    "        plt.plot(x_combined, y_combined)\n",
    "        # export data with label (0 = no target, 1 = yes target)\n",
    "        x_data.append(x_combined)\n",
    "        y_data.append(y_combined)\n",
    "        label.append(j % 2)\n",
    "    hdf5.close()\n",
    "    return x_data, y_data, label"
   ]
  },
  {
   "cell_type": "markdown",
   "metadata": {},
   "source": [
    "### now a function that will generate a random number between 0 and 1 and apply that to the counts data"
   ]
  },
  {
   "cell_type": "code",
   "execution_count": 1,
   "metadata": {},
   "outputs": [],
   "source": [
    "def interp_and_norm(hdf5_filename, compound):\n",
    "    \"\"\"\n",
    "    This function interpolates and normalizes wavenumber and counts data for the specified\n",
    "    compound in an hdf5 calibration file.\n",
    "    \n",
    "    Args:\n",
    "        hdf5_filename (str): The name and location of the relevant hdf5 calibration datafile.\n",
    "        compound (str): The compound key in the hdf5 calibration datafile.\n",
    "\n",
    "    Returns:\n",
    "        tuple_list (list): A list of tuples containing pairs of wavenumber and counts values\n",
    "                           for the interpolated and normalized compound spectra.\n",
    "    \"\"\"\n",
    "    # handling input errors\n",
    "    if not isinstance(hdf5_filename, str):\n",
    "        raise TypeError('Passed value of `hdf5_filename` is not a string! Instead, it is: '\n",
    "                        + str(type(hdf5_filename)))\n",
    "    if not hdf5_filename.split('/')[-1].split('.')[-1] == 'hdf5':\n",
    "        raise TypeError('`hdf5_filename` is not type = .hdf5! Instead, it is: '\n",
    "                        + hdf5_filename.split('/')[-1].split('.')[-1])\n",
    "    if not isinstance(compound, str):\n",
    "        raise TypeError('Passed value of `hdf5_filename` is not a string! Instead, it is: '\n",
    "                        + str(type(compound)))\n",
    "    # open hdf5_file\n",
    "    hdf5 = h5py.File(hdf5_filename, 'r')\n",
    "    # interpolate spectra\n",
    "    x_data = np.asarray(hdf5['{}/wavenumber'.format(compound)])\n",
    "    y_data = np.asarray(hdf5['{}/counts'.format(compound)])\n",
    "    interp_spectra = interpolate.interp1d(x_data, y_data, kind='cubic')\n",
    "    # get integer values across x_range, protecting against edge cases\n",
    "    x_range = np.arange(int(min(x_data)+1), int(max(x_data)))\n",
    "    y_interp = interp_spectra(x_range)\n",
    "    # normalize y_interp values\n",
    "    y_interp_norm = y_interp/max(y_interp)\n",
    "    # zip x and y values into tuples\n",
    "    tuple_list = list(zip(x_range, y_interp_norm))\n",
    "    # close hdf5 file\n",
    "    hdf5.close()\n",
    "    return tuple_list\n",
    "\n",
    "def apply_scaling(tuple_list, j, i ,target_index):\n",
    "    \"\"\"\n",
    "    docstring\n",
    "    \"\"\"\n",
    "    # unpack tuple_list\n",
    "    x_data, y_data = zip(*tuple_list)\n",
    "    y_data = np.asarray(y_data)\n",
    "    # alternate including target_compound or not\n",
    "    # if j is odd include target_compound\n",
    "    if j % 2 == 1:\n",
    "        if i == target_index:\n",
    "            y_data_scaled = y_data*np.random.uniform(0.1, 1)\n",
    "        else:\n",
    "            y_data_scaled = y_data*np.random.uniform()\n",
    "    # if j is even no target_compound\n",
    "    elif j % 2 == 0:\n",
    "        if i == target_index:\n",
    "            y_data_scaled = y_data*0\n",
    "        else:\n",
    "            y_data_scaled = y_data*np.random.uniform() \n",
    "    else:\n",
    "        pass\n",
    "    # repack tuple_list\n",
    "    scaled_tuple_list = list(zip(x_data, y_data_scaled))\n",
    "    return scaled_tuple_list"
   ]
  },
  {
   "cell_type": "code",
   "execution_count": 2,
   "metadata": {},
   "outputs": [
    {
     "ename": "NameError",
     "evalue": "name 'h5py' is not defined",
     "output_type": "error",
     "traceback": [
      "\u001b[0;31m---------------------------------------------------------------------------\u001b[0m",
      "\u001b[0;31mNameError\u001b[0m                                 Traceback (most recent call last)",
      "\u001b[0;32m<ipython-input-2-6d731a6a8288>\u001b[0m in \u001b[0;36m<module>\u001b[0;34m\u001b[0m\n\u001b[1;32m      1\u001b[0m \u001b[0mHDF5_FILENAME\u001b[0m \u001b[0;34m=\u001b[0m \u001b[0;34m'../ramandecompy/tests/test_files/test_calibration.hdf5'\u001b[0m\u001b[0;34m\u001b[0m\u001b[0;34m\u001b[0m\u001b[0m\n\u001b[1;32m      2\u001b[0m \u001b[0mTARGET_COMPOUND\u001b[0m \u001b[0;34m=\u001b[0m \u001b[0;34m'water'\u001b[0m\u001b[0;34m\u001b[0m\u001b[0;34m\u001b[0m\u001b[0m\n\u001b[0;32m----> 3\u001b[0;31m \u001b[0mHDF5\u001b[0m \u001b[0;34m=\u001b[0m \u001b[0mh5py\u001b[0m\u001b[0;34m.\u001b[0m\u001b[0mFile\u001b[0m\u001b[0;34m(\u001b[0m\u001b[0mHDF5_FILENAME\u001b[0m\u001b[0;34m,\u001b[0m \u001b[0;34m'r'\u001b[0m\u001b[0;34m)\u001b[0m\u001b[0;34m\u001b[0m\u001b[0;34m\u001b[0m\u001b[0m\n\u001b[0m\u001b[1;32m      4\u001b[0m \u001b[0mX_DATA\u001b[0m \u001b[0;34m=\u001b[0m \u001b[0mnp\u001b[0m\u001b[0;34m.\u001b[0m\u001b[0masarray\u001b[0m\u001b[0;34m(\u001b[0m\u001b[0mHDF5\u001b[0m\u001b[0;34m[\u001b[0m\u001b[0;34m'water/wavenumber'\u001b[0m\u001b[0;34m]\u001b[0m\u001b[0;34m)\u001b[0m\u001b[0;34m\u001b[0m\u001b[0;34m\u001b[0m\u001b[0m\n\u001b[1;32m      5\u001b[0m \u001b[0mY_DATA\u001b[0m \u001b[0;34m=\u001b[0m \u001b[0mnp\u001b[0m\u001b[0;34m.\u001b[0m\u001b[0masarray\u001b[0m\u001b[0;34m(\u001b[0m\u001b[0mHDF5\u001b[0m\u001b[0;34m[\u001b[0m\u001b[0;34m'water/counts'\u001b[0m\u001b[0;34m]\u001b[0m\u001b[0;34m)\u001b[0m\u001b[0;34m\u001b[0m\u001b[0;34m\u001b[0m\u001b[0m\n",
      "\u001b[0;31mNameError\u001b[0m: name 'h5py' is not defined"
     ]
    }
   ],
   "source": [
    "HDF5_FILENAME = '../ramandecompy/tests/test_files/test_calibration.hdf5'\n",
    "TARGET_COMPOUND = 'water'\n",
    "HDF5 = h5py.File(HDF5_FILENAME, 'r')\n",
    "X_DATA = np.asarray(HDF5['water/wavenumber'])\n",
    "Y_DATA = np.asarray(HDF5['water/counts'])\n",
    "TUPLE_LIST = zip(X_DATA, Y_DATA)\n",
    "\n",
    "\n",
    "def test_interp_and_norm():\n",
    "    \"\"\"\n",
    "    docstring\n",
    "    \"\"\"\n",
    "    tuple_list = interp_and_norm(HDF5_FILENAME, TARGET_COMPOUND)\n",
    "    assert isinstance(tuple_list, list), '`tuple_list is not a list'\n",
    "    assert isinstance(tuple_list[0], tuple), 'first element of `tuple_list` is not a tuple'\n",
    "    assert isinstance(tuple_list[0][0], np.int64), 'first element of tuple is not a np.int64'\n",
    "    x_data, y_data = zip(*tuple_list)\n",
    "    assert max(y_data) <= 1, 'spectra was not normalized correctly'\n",
    "\n",
    "test_interp_and_norm()\n",
    "    \n",
    "def test_apply_scaling():\n",
    "    \"\"\"\n",
    "    docstring\n",
    "    \"\"\"\n",
    "    scaled_tuple_list = apply_scaling(TUPLE_LIST)\n",
    "    assert len(scaled_tuple_list) == len(TUPLE_LIST), 'scaled data not the same size as input data'\n",
    "    assert isinstance(scaled_tuple_list, list), '`scaled_tuple_list` is not a list'\n",
    "    assert isinstance(scaled_tuple_list[0], tuple), 'first element of `scaled_tuple_list` is not a tuple'\n"
   ]
  },
  {
   "cell_type": "markdown",
   "metadata": {},
   "source": [
    "### Now implement some sort of machine learning, lets start with a logistic regression"
   ]
  },
  {
   "cell_type": "code",
   "execution_count": 137,
   "metadata": {},
   "outputs": [
    {
     "name": "stdout",
     "output_type": "stream",
     "text": [
      "400 400\n",
      "100 100\n"
     ]
    }
   ],
   "source": [
    "from sklearn.model_selection import train_test_split\n",
    "\n",
    "# divide and extract test/train and validation data\n",
    "\n",
    "X_train, X_test, y_train, y_test = train_test_split(y_data, label, test_size=0.2)\n",
    "print(len(X_train), len(y_train))\n",
    "print(len(X_test), len(y_test))"
   ]
  },
  {
   "cell_type": "code",
   "execution_count": 138,
   "metadata": {},
   "outputs": [
    {
     "data": {
      "text/plain": [
       "1.0"
      ]
     },
     "execution_count": 138,
     "metadata": {},
     "output_type": "execute_result"
    }
   ],
   "source": [
    "import numpy as np\n",
    "import matplotlib.pyplot as plt\n",
    "from sklearn.linear_model import LogisticRegression\n",
    "\n",
    "\n",
    "logreg = LogisticRegression(C=1e5, solver='lbfgs', multi_class='multinomial')\n",
    "\n",
    "# Create an instance of Logistic Regression Classifier and fit the data.\n",
    "logreg.fit(X_train, y_train)\n",
    "\n",
    "# get predictions\n",
    "Z = logreg.predict(X_test)\n",
    "\n",
    "logreg.score(X_test, y_test)\n",
    "\n"
   ]
  },
  {
   "cell_type": "code",
   "execution_count": 139,
   "metadata": {},
   "outputs": [],
   "source": [
    "x = x_data[0]\n",
    "y = logreg.coef_.reshape(-1,1)"
   ]
  },
  {
   "cell_type": "code",
   "execution_count": 140,
   "metadata": {},
   "outputs": [
    {
     "data": {
      "text/plain": [
       "[<matplotlib.lines.Line2D at 0x1c64d667b8>]"
      ]
     },
     "execution_count": 140,
     "metadata": {},
     "output_type": "execute_result"
    },
    {
     "data": {
      "image/png": "[encoded data removed]",
      "text/plain": [
       "<Figure size 432x288 with 1 Axes>"
      ]
     },
     "metadata": {
      "needs_background": "light"
     },
     "output_type": "display_data"
    }
   ],
   "source": [
    "plt.plot(x, y)"
   ]
  },
  {
   "cell_type": "code",
   "execution_count": null,
   "metadata": {},
   "outputs": [],
   "source": []
  }
 ],
 "metadata": {
  "kernelspec": {
   "display_name": "Python 3",
   "language": "python",
   "name": "python3"
  },
  "language_info": {
   "codemirror_mode": {
    "name": "ipython",
    "version": 3
   },
   "file_extension": ".py",
   "mimetype": "text/x-python",
   "name": "python",
   "nbconvert_exporter": "python",
   "pygments_lexer": "ipython3",
   "version": "3.7.1"
  }
 },
 "nbformat": 4,
 "nbformat_minor": 2
}
