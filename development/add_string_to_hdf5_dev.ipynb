{
 "cells": [
  {
   "cell_type": "code",
   "execution_count": 195,
   "metadata": {},
   "outputs": [],
   "source": [
    "import h5py\n",
    "import os\n",
    "import numpy as np\n",
    "\n",
    "from ramandecompy import dataprep"
   ]
  },
  {
   "cell_type": "code",
   "execution_count": 196,
   "metadata": {},
   "outputs": [],
   "source": [
    "os.remove('string_test.hdf5')\n",
    "dataprep.new_hdf5('string_test')"
   ]
  },
  {
   "cell_type": "code",
   "execution_count": 197,
   "metadata": {},
   "outputs": [],
   "source": [
    "hdf5 = h5py.File('string_test.hdf5', 'r+')"
   ]
  },
  {
   "cell_type": "code",
   "execution_count": 198,
   "metadata": {},
   "outputs": [],
   "source": [
    "hdf5['dataset'] = [1, 2, 3, 4, 5, 6, 7]\n",
    "hdf5.close()"
   ]
  },
  {
   "cell_type": "code",
   "execution_count": 199,
   "metadata": {},
   "outputs": [
    {
     "name": "stdout",
     "output_type": "stream",
     "text": [
      "**** string_test.hdf5 ****\n",
      "dataset\n"
     ]
    }
   ],
   "source": [
    "dataprep.view_hdf5('string_test.hdf5')"
   ]
  },
  {
   "cell_type": "code",
   "execution_count": 200,
   "metadata": {},
   "outputs": [],
   "source": [
    "def create_dataset(h5py_file):\n",
    "    data = (1.0, 2.0, 3.0, 4.0, 5.0, 6.0, 7.0, 'label')\n",
    "    my_datatype = np.dtype([('fraction', np.float),\n",
    "                        ('center', np.float),\n",
    "                        ('sigma', np.float),\n",
    "                        ('amplitude', np.float),\n",
    "                        ('fwhm', np.float),\n",
    "                        ('height', np.float),\n",
    "                        ('area under the curve', np.float),\n",
    "                        ('label', h5py.special_dtype(vlen=str))])\n",
    "    dataset = h5py_file.create_dataset('label_added', (len(data),), dtype=my_datatype)\n",
    "    data_array = np.array(data, dtype=my_datatype)\n",
    "    dataset = data_array"
   ]
  },
  {
   "cell_type": "code",
   "execution_count": 201,
   "metadata": {},
   "outputs": [],
   "source": [
    "hdf5 = h5py.File('string_test.hdf5', 'r+')\n",
    "data = (1.0, 2.0, 3.0, 4.0, 5.0, 6.0, 7.0, 'label')\n",
    "my_datatype = np.dtype([('fraction', np.float),\n",
    "                    ('center', np.float),\n",
    "                    ('sigma', np.float),\n",
    "                    ('amplitude', np.float),\n",
    "                    ('fwhm', np.float),\n",
    "                    ('height', np.float),\n",
    "                    ('area under the curve', np.float),\n",
    "                    ('label', h5py.special_dtype(vlen=str))])\n",
    "dataset = hdf5.create_dataset('label_added', (1,), dtype=my_datatype)\n",
    "data_array = np.array(data, dtype=my_datatype)"
   ]
  },
  {
   "cell_type": "code",
   "execution_count": 202,
   "metadata": {},
   "outputs": [
    {
     "name": "stdout",
     "output_type": "stream",
     "text": [
      "**** string_test.hdf5 ****\n",
      "dataset\n",
      "label_added\n"
     ]
    }
   ],
   "source": [
    "dataprep.view_hdf5('string_test.hdf5')"
   ]
  },
  {
   "cell_type": "code",
   "execution_count": 208,
   "metadata": {},
   "outputs": [
    {
     "data": {
      "text/plain": [
       "[(1., 2., 3., 4., 5., 6., 7., 'label')]"
      ]
     },
     "execution_count": 208,
     "metadata": {},
     "output_type": "execute_result"
    }
   ],
   "source": [
    "list(hdf5['label_added'])"
   ]
  },
  {
   "cell_type": "code",
   "execution_count": 204,
   "metadata": {},
   "outputs": [],
   "source": [
    "dataset[...] = data_array"
   ]
  },
  {
   "cell_type": "code",
   "execution_count": 205,
   "metadata": {},
   "outputs": [
    {
     "data": {
      "text/plain": [
       "[(1., 2., 3., 4., 5., 6., 7., 'label')]"
      ]
     },
     "execution_count": 205,
     "metadata": {},
     "output_type": "execute_result"
    }
   ],
   "source": [
    "list(hdf5['label_added'])"
   ]
  },
  {
   "cell_type": "code",
   "execution_count": 206,
   "metadata": {},
   "outputs": [
    {
     "data": {
      "text/plain": [
       "'label'"
      ]
     },
     "execution_count": 206,
     "metadata": {},
     "output_type": "execute_result"
    }
   ],
   "source": [
    "foo = list(hdf5['label_added'])\n",
    "foo[0][7]"
   ]
  },
  {
   "cell_type": "code",
   "execution_count": null,
   "metadata": {},
   "outputs": [],
   "source": []
  }
 ],
 "metadata": {
  "kernelspec": {
   "display_name": "Python 3",
   "language": "python",
   "name": "python3"
  },
  "language_info": {
   "codemirror_mode": {
    "name": "ipython",
    "version": 3
   },
   "file_extension": ".py",
   "mimetype": "text/x-python",
   "name": "python",
   "nbconvert_exporter": "python",
   "pygments_lexer": "ipython3",
   "version": "3.7.1"
  }
 },
 "nbformat": 4,
 "nbformat_minor": 2
}
