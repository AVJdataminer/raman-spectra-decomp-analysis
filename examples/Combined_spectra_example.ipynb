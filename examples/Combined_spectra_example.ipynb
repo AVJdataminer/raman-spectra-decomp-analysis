{
 "cells": [
  {
   "cell_type": "code",
   "execution_count": null,
   "metadata": {},
   "outputs": [],
   "source": [
    "import os\n",
    "import h5py\n",
    "import pandas as pd\n",
    "import matplotlib.pyplot as plt\n",
    "import math\n",
    "import numpy as np\n",
    "import lineid_plot\n",
    "from ramandecompy import spectrafit\n",
    "from ramandecompy import peakidentify\n",
    "from ramandecompy import dataprep\n",
    "from ramandecompy import datavis\n",
    "from ramandecompy import dataimport\n",
    "from scipy import interpolate"
   ]
  },
  {
   "cell_type": "code",
   "execution_count": null,
   "metadata": {},
   "outputs": [],
   "source": [
    "dataprep.view_hdf5('ML_quad_calibration.hdf5')"
   ]
  },
  {
   "cell_type": "code",
   "execution_count": null,
   "metadata": {},
   "outputs": [],
   "source": [
    "hdf5_filename = 'ML_quad_calibration.hdf5'"
   ]
  },
  {
   "cell_type": "code",
   "execution_count": null,
   "metadata": {},
   "outputs": [],
   "source": [
    "hdf5 = h5py.File(hdf5_filename, 'r')"
   ]
  },
  {
   "cell_type": "code",
   "execution_count": null,
   "metadata": {},
   "outputs": [],
   "source": [
    "len(hdf5.keys())"
   ]
  },
  {
   "cell_type": "code",
   "execution_count": null,
   "metadata": {},
   "outputs": [],
   "source": [
    "df.keys()[156:][0]"
   ]
  },
  {
   "cell_type": "code",
   "execution_count": null,
   "metadata": {},
   "outputs": [],
   "source": [
    "def clean_spectra(df,compound):\n",
    "    \"\"\"\n",
    "    Function that cleans the data of any duplicate x-values that will cause\n",
    "    errors for interpolation.\n",
    "    Args:\n",
    "        compound (str): shoyu_data_dict key for the desired compound\n",
    "    Returns:\n",
    "        comp_data_clean (list): list of tuples containing all the non-repeated\n",
    "                                x and y values\n",
    "    \"\"\"\n",
    "    # handling errors in inputs\n",
    "    if not isinstance(compound, str):\n",
    "        raise TypeError(\"Passed value of `compound` is not a dictionary! Instead, it is: \"\n",
    "                        + str(type(compound)))\n",
    "    # extract data from dictionary\n",
    "    x_comp = df['Wavelength'] # because it wasw \n",
    "    y_comp = df[compound]\n",
    "    # zip x and y values\n",
    "    comp_data = list(zip(x_comp, y_comp))\n",
    "    #clean comp1\n",
    "    comp_data_clean = []\n",
    "    for i in range(1, len(comp_data)-1):\n",
    "        if comp_data[i][0] == comp_data[i-1][0]:\n",
    "            pass\n",
    "        else:\n",
    "            comp_data_clean.append(comp_data[i])\n",
    "    return comp_data_clean\n",
    "\n",
    "\n",
    "def interpolate_spectra(comp_data_clean):\n",
    "    \"\"\"\n",
    "    Function that produces interpolated values for the spectra at integer values\n",
    "    across the range of the data.\n",
    "    Args:\n",
    "        comp_data_clean (list): list of tuples containing all the non-repeated\n",
    "                                x and y values\n",
    "    Returns:\n",
    "        comp_data_int (list): list of interpolated values for the spectra at integer\n",
    "                              values across the range of the input data\n",
    "    \"\"\"\n",
    "    # handling errors in inputs\n",
    "    if not isinstance(comp_data_clean, list):\n",
    "        raise TypeError('Passed value of `comp_data_clean` is not a list! Instead, it is: '\n",
    "                        + str(type(comp_data_clean)))\n",
    "    for i, _ in enumerate(comp_data_clean):\n",
    "        if not isinstance(comp_data_clean[i], tuple):\n",
    "            raise TypeError('Component of the passed value is not a tuple! Instead, it is: '\n",
    "                            + str(type(comp_data_clean[i])))\n",
    "    # unzip data\n",
    "    x_comp, y_comp = zip(*comp_data_clean)\n",
    "    # interpolate data\n",
    "    comp_int = interpolate.interp1d(x_comp, y_comp, kind='linear')\n",
    "    # 'linear', 'nearest', 'zero', 'slinear', 'quadratic', 'cubic',\n",
    "#     'previous', 'next',\n",
    "# cubic and quadratic dont work\n",
    "    # define ranges\n",
    "    comp_range = np.arange(int(min(x_comp))+1, int(max(x_comp)), 1)\n",
    "    # run interpolations\n",
    "    y_comp_interp = comp_int(comp_range)\n",
    "    # zip interpolated values\n",
    "    comp_data_int = list(zip(comp_range, y_comp_interp))\n",
    "    return comp_data_int\n",
    "def sum_spectra(comp1_data_int, comp2_data_int):\n",
    "    \"\"\"\n",
    "    Function that adds the interpolated values for two spectra together.\n",
    "    Args:\n",
    "        comp1_data_int (list): list of tuples containing all the non-repeated\n",
    "                               x and y values for compound 1\n",
    "        comp2_data_int (list): list of tuples containing all the non-repeated\n",
    "                               x and y values for compound 2\n",
    "    Returns:\n",
    "        x_combined (list): list of summed x-values across the range of\n",
    "                           of the two compounds\n",
    "        y_combined (list): list of summed y-values across the range of\n",
    "                           of the two compounds\n",
    "    \"\"\"\n",
    "    # handling errors in inputs\n",
    "    if not isinstance(comp1_data_int, list):\n",
    "        raise TypeError('Passed value of `comp1_data_int` is not a list! Instead, it is: '\n",
    "                        + str(type(comp1_data_int)))\n",
    "    # add the two spectra\n",
    "    combined = sorted(comp1_data_int + comp2_data_int)\n",
    "    # add by like\n",
    "    same_x = {x:0 for x, _ in combined}\n",
    "    for name, num in combined:\n",
    "        same_x[name] += num\n",
    "    sum_combined = list(map(tuple, same_x.items()))\n",
    "    # unzip\n",
    "    x_combined, y_combined = zip(*sum_combined)\n",
    "    # set as arrays\n",
    "    x_combined = np.asarray(x_combined)\n",
    "    y_combined = np.asarray(y_combined)\n",
    "    return x_combined, y_combined\n",
    "def combine_spectra(df,compound_1, compound_2, plot=False):\n",
    "    \"\"\"\n",
    "    Wrapping function that sums two compounds from shoyu_data_dict.p\n",
    "    together. There is an optional plotting function embedded.\n",
    "    Args:\n",
    "         compound_1 (str): dictionary key for the compound in shoyu_data_dict.p\n",
    "         compound_2 (str): dictionary key for the compound in shoyu_data_dict.p\n",
    "         plot (boolean): (Optional) This argument is used to dictate whether or not you\n",
    "                         would like to output a plot which shows the combined spectra,\n",
    "                         as well as the two original spectra, overlaid on the same plot.\n",
    "                         Defaults to False.\n",
    "     Returns:\n",
    "         x_combined (numpy array): The x-values of the new spectra that contains the\n",
    "                                   combined values of the two spectra that were input.\n",
    "         y_combined (numpy array): The y-values of the new spectra that contains the\n",
    "                                   combined values of the two spectra that were input.\n",
    "    \"\"\"\n",
    "    # handling errors in inputs\n",
    "#     if not isinstance(compound_1, str):\n",
    "#         raise TypeError(\"Passed value of `compound_1` is not a dictionary! Instead, it is: \"\n",
    "#                         + str(type(compound_1)))\n",
    "#     if not isinstance(compound_2,str):\n",
    "#         raise TypeError(\"Passed value of `compound_2` is not a dictionary! Instead, it is: \"\n",
    "#                         + str(type(compound_1)))\n",
    "    data1 = clean_spectra(df,compound_1)\n",
    "    data2 = clean_spectra(df,compound_2)\n",
    "    maxwavenumber = len(df['Wavelength'])\n",
    "    comp1_data_int = interpolate_spectra(data1)\n",
    "    comp2_data_int = interpolate_spectra(data2)\n",
    "    x_combined, y_combined = sum_spectra(comp1_data_int, comp2_data_int)\n",
    "    y_combined = pd.DataFrame(y_combined)\n",
    "    column = str(compound_1)+'+'+str(compound_2)\n",
    "    print(column)\n",
    "    if plot:\n",
    "        # plot original data and combined plot\n",
    "        plt.figure(figsize=(15, 5))\n",
    "        plt.plot([i[0] for i in data1], [i[1] for i in data1], 'b--', label=df[compound_1])\n",
    "        plt.plot([i[0] for i in data2], [i[1] for i in data2], 'g--', label=df[compound_2])\n",
    "        plt.plot(x_combined, y_combined, 'r', label='Combination', linewidth=2, alpha=0.7)\n",
    "        plt.legend()\n",
    "        plt.xlabel('cm$^{-1}$', fontsize=14)\n",
    "        plt.ylabel('Absoprtion', fontsize=14)\n",
    "    return y_combined,column"
   ]
  },
  {
   "cell_type": "code",
   "execution_count": null,
   "metadata": {},
   "outputs": [],
   "source": [
    "len(df['Wavelength'])"
   ]
  },
  {
   "cell_type": "code",
   "execution_count": null,
   "metadata": {},
   "outputs": [],
   "source": [
    "# key_list = ['Hydrogen','Sapphire','CarbonDioxide','CarbonMonoxide','Formic Acid','Water','Acetaldehyde','Ethane','Methane','Propane']\n",
    "# frames = [ combine_spectra(df, key_x, key_y, plot=False)[0] for key_x in key_list for key_y in key_list ]\n",
    "# columns = [ combine_spectra(df, key_x, key_y, plot=False)[1] for key_x in key_list for key_y in key_list ]"
   ]
  },
  {
   "cell_type": "code",
   "execution_count": null,
   "metadata": {},
   "outputs": [],
   "source": [
    "# frames"
   ]
  },
  {
   "cell_type": "code",
   "execution_count": null,
   "metadata": {},
   "outputs": [],
   "source": [
    "# columns"
   ]
  },
  {
   "cell_type": "code",
   "execution_count": null,
   "metadata": {},
   "outputs": [],
   "source": [
    "key_list =list(hdf5.keys())\n",
    "from sklearn import preprocessing\n",
    "# create the Labelencoder object\n",
    "le = preprocessing.LabelEncoder()\n",
    "#convert the categorical columns into numeric\n",
    "encoded_value = le.fit_transform(key_list)\n",
    "print(encoded_value)\n",
    "print(key_list)"
   ]
  },
  {
   "cell_type": "code",
   "execution_count": null,
   "metadata": {},
   "outputs": [],
   "source": [
    "# result = pd.concat(frames,axis=1, join='outer', join_axes=None, ignore_index=False,\n",
    "#           keys=columns, levels=None, names=None, verify_integrity=False,\n",
    "#           copy=True,sort=True)"
   ]
  },
  {
   "cell_type": "code",
   "execution_count": null,
   "metadata": {},
   "outputs": [],
   "source": [
    "# result = result.join(df['Wavelength'])"
   ]
  },
  {
   "cell_type": "code",
   "execution_count": null,
   "metadata": {
    "scrolled": true
   },
   "outputs": [],
   "source": []
  },
  {
   "cell_type": "code",
   "execution_count": null,
   "metadata": {},
   "outputs": [],
   "source": [
    "# result"
   ]
  },
  {
   "cell_type": "code",
   "execution_count": null,
   "metadata": {},
   "outputs": [],
   "source": [
    "# result.to_excel(\"double.xlsx\",sheet_name='Sheet_name_1')"
   ]
  },
  {
   "cell_type": "code",
   "execution_count": null,
   "metadata": {},
   "outputs": [],
   "source": [
    "# df = pd.read_excel('../examples/double.xlsx')"
   ]
  },
  {
   "cell_type": "code",
   "execution_count": null,
   "metadata": {},
   "outputs": [],
   "source": [
    "# df"
   ]
  },
  {
   "cell_type": "code",
   "execution_count": null,
   "metadata": {},
   "outputs": [],
   "source": [
    "# combine_spectra(df, 'Hydrogen+Hydrogen','Hydrogen+Formic Acid', plot=True)"
   ]
  },
  {
   "cell_type": "code",
   "execution_count": null,
   "metadata": {},
   "outputs": [],
   "source": [
    "# key_list = columns\n",
    "# frames = [ combine_spectra(df, key_x, key_y, plot=False)[0] for key_x in key_list for key_y in key_list ]\n",
    "# columns = [ combine_spectra(df, key_x, key_y, plot=False)[1] for key_x in key_list for key_y in key_list ]\n"
   ]
  },
  {
   "cell_type": "code",
   "execution_count": null,
   "metadata": {},
   "outputs": [],
   "source": []
  },
  {
   "cell_type": "code",
   "execution_count": null,
   "metadata": {},
   "outputs": [],
   "source": [
    "# result"
   ]
  },
  {
   "cell_type": "code",
   "execution_count": null,
   "metadata": {},
   "outputs": [],
   "source": [
    "# columns"
   ]
  },
  {
   "cell_type": "code",
   "execution_count": null,
   "metadata": {},
   "outputs": [],
   "source": [
    "hdf5_calfilename = 'ML_quad_calibration-Copy2.hdf5' #update to hdf5_calfilename\n",
    "hdf5_expfilename = 'ML_quad_calibration-Copy2.hdf5'\n",
    "frames = []\n",
    "for _, key in enumerate(key_list):\n",
    "    df =peakidentify.peak_assignment(hdf5_expfilename, key, hdf5_calfilename, 50, plot =False)\n",
    "    frames.append(df)"
   ]
  },
  {
   "cell_type": "code",
   "execution_count": null,
   "metadata": {},
   "outputs": [],
   "source": [
    "frames"
   ]
  },
  {
   "cell_type": "code",
   "execution_count": null,
   "metadata": {},
   "outputs": [],
   "source": [
    "df.T"
   ]
  },
  {
   "cell_type": "code",
   "execution_count": null,
   "metadata": {},
   "outputs": [],
   "source": [
    "result = pd.concat(frames,axis=0, join='outer', join_axes=None, ignore_index=False,\n",
    "          keys=None, levels=None, names=None, verify_integrity=False,\n",
    "          copy=True,sort=True)"
   ]
  },
  {
   "cell_type": "code",
   "execution_count": null,
   "metadata": {
    "scrolled": true
   },
   "outputs": [],
   "source": [
    "result"
   ]
  },
  {
   "cell_type": "code",
   "execution_count": null,
   "metadata": {},
   "outputs": [],
   "source": [
    "# result.to_excel(\"triple.xlsx\",sheet_name='Sheet_name_1')"
   ]
  }
 ],
 "metadata": {
  "kernelspec": {
   "display_name": "Python 3",
   "language": "python",
   "name": "python3"
  },
  "language_info": {
   "codemirror_mode": {
    "name": "ipython",
    "version": 3
   },
   "file_extension": ".py",
   "mimetype": "text/x-python",
   "name": "python",
   "nbconvert_exporter": "python",
   "pygments_lexer": "ipython3",
   "version": "3.7.3"
  }
 },
 "nbformat": 4,
 "nbformat_minor": 2
}
