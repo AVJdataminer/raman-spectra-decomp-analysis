{
 "cells": [
  {
   "cell_type": "markdown",
   "metadata": {},
   "source": [
    "# Creating Machine Learning Aspect of Raman Noodles\n",
    "\n",
    "This is a developer notebook for our Machine Learning code. "
   ]
  },
  {
   "cell_type": "markdown",
   "metadata": {},
   "source": [
    "## Creating Ideal Test / Train Data Sets\n",
    "\n",
    "Besides the teaching provided from the DIRECT program where you can find information on the course on their open source GitHub page: (https://github.com/UWDIRECT) there are a ton of online resources for creating the dataset. One useful one we found to suplement our education was: https://www.dataquest.io/blog/sci-kit-learn-tutorial/ \n"
   ]
  },
  {
   "cell_type": "code",
   "execution_count": null,
   "metadata": {},
   "outputs": [],
   "source": []
  }
 ],
 "metadata": {
  "kernelspec": {
   "display_name": "Python 3",
   "language": "python",
   "name": "python3"
  },
  "language_info": {
   "codemirror_mode": {
    "name": "ipython",
    "version": 3
   },
   "file_extension": ".py",
   "mimetype": "text/x-python",
   "name": "python",
   "nbconvert_exporter": "python",
   "pygments_lexer": "ipython3",
   "version": "3.7.1"
  }
 },
 "nbformat": 4,
 "nbformat_minor": 2
}
