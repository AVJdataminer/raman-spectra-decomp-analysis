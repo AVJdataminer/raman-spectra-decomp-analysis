{
 "cells": [
  {
   "cell_type": "markdown",
   "metadata": {},
   "source": [
    "# PeakIdentify - Example and Functionality\n",
    "\n",
    "***\n",
    "\n",
    "This notebook walks you through the usage and functionality of the updated peakidentify function. First, the functionality will be shown by just calling the wrapper function, but subsequent examples will explore the sub-functions and explain their usage. \n",
    "\n",
    "This function was created by the Raman Noodles Dev Team, and we hope you find it to your liking. Feel free to leave issues for suggested improvments. "
   ]
  },
  {
   "cell_type": "markdown",
   "metadata": {},
   "source": [
    "# 2 THINGS TO CONSIDER\n",
    "#### NEED TO IMPROVE Visualization and Documentation\n",
    "#### NEED TO IMPROVE Score sort function and optimize using regression"
   ]
  },
  {
   "cell_type": "markdown",
   "metadata": {},
   "source": [
    "### Example 0.A: Data Input\n",
    "\n",
    "First, we'll generate the dataset that we will use to explore this functionality. This data will be downloaded from _____\n",
    "\n",
    ". In order to generate an \"unknown spectrum\" that we will be attempting to fit, ____________, and feed that in as our unknown dataset. For further explanation of the dataprep or spectrafit packages, refer to the Jupyter notebooks which present examples of their usage, also found in this repo."
   ]
  },
  {
   "cell_type": "code",
   "execution_count": 1,
   "metadata": {},
   "outputs": [],
   "source": [
    "import os\n",
    "import h5py\n",
    "import pandas as pd\n",
    "import matplotlib.pyplot as plt\n",
    "import math\n",
    "import numpy as np\n",
    "import lineid_plot\n",
    "from ramandecompy import spectrafit\n",
    "from ramandecompy import peakidentify\n",
    "from ramandecompy import dataprep\n",
    "from ramandecompy import datavis\n"
   ]
  },
  {
   "cell_type": "markdown",
   "metadata": {},
   "source": [
    "We will use a pair of known spectra from our calibration list and put it in hdf5 format with the dataprep module. See dataprep example for more details. The functions new_hdf5 and add_calibration should only be called once or else an File Already exists error will be raised"
   ]
  },
  {
   "cell_type": "code",
   "execution_count": 2,
   "metadata": {},
   "outputs": [],
   "source": [
    "# when you add a new hdf5 file you use this function below\n",
    "dataprep.new_hdf5('peakidentify_calibration_file')\n"
   ]
  },
  {
   "cell_type": "code",
   "execution_count": 3,
   "metadata": {},
   "outputs": [
    {
     "name": "stdout",
     "output_type": "stream",
     "text": [
      "**** peakidentify_calibration_file.hdf5 ****\n"
     ]
    }
   ],
   "source": [
    "dataprep.view_hdf5('peakidentify_calibration_file.hdf5') #already have this"
   ]
  },
  {
   "cell_type": "code",
   "execution_count": 4,
   "metadata": {},
   "outputs": [
    {
     "name": "stdout",
     "output_type": "stream",
     "text": [
      "Data from ../ramandecompy/tests/test_files/Hydrogen_Baseline_Calibration.xlsx fit with compound pseudo-Voigt model. Results saved to peakidentify_calibration_file.hdf5.\n"
     ]
    }
   ],
   "source": [
    "dataprep.add_calibration('peakidentify_calibration_file.hdf5',\n",
    "                          '../ramandecompy/tests/test_files/Hydrogen_Baseline_Calibration.xlsx',\n",
    "                          label='Hydrogen')"
   ]
  },
  {
   "cell_type": "code",
   "execution_count": 5,
   "metadata": {},
   "outputs": [
    {
     "name": "stdout",
     "output_type": "stream",
     "text": [
      "Data from ../ramandecompy/tests/test_files/CarbonMonoxide_Baseline_Calibration.xlsx fit with compound pseudo-Voigt model. Results saved to peakidentify_calibration_file.hdf5.\n"
     ]
    }
   ],
   "source": [
    "dataprep.add_calibration('peakidentify_calibration_file.hdf5',\n",
    "                          '../ramandecompy/tests/test_files/CarbonMonoxide_Baseline_Calibration.xlsx',\n",
    "                          label='CarbonMonoxide')"
   ]
  },
  {
   "cell_type": "code",
   "execution_count": 6,
   "metadata": {},
   "outputs": [
    {
     "name": "stdout",
     "output_type": "stream",
     "text": [
      "Data from ../ramandecompy/tests/test_files/CO2_100wt%.csv fit with compound pseudo-Voigt model. Results saved to peakidentify_calibration_file.hdf5.\n"
     ]
    }
   ],
   "source": [
    "dataprep.add_calibration('peakidentify_calibration_file.hdf5','../ramandecompy/tests/test_files/CO2_100wt%.csv',label='CO2')"
   ]
  },
  {
   "cell_type": "code",
   "execution_count": 7,
   "metadata": {},
   "outputs": [
    {
     "name": "stdout",
     "output_type": "stream",
     "text": [
      "Data from ../ramandecompy/tests/test_files/water.xlsx fit with compound pseudo-Voigt model. Results saved to peakidentify_calibration_file.hdf5.\n"
     ]
    }
   ],
   "source": [
    "dataprep.add_calibration('peakidentify_calibration_file.hdf5','../ramandecompy/tests/test_files/water.xlsx',label='H2O')"
   ]
  },
  {
   "cell_type": "code",
   "execution_count": 8,
   "metadata": {},
   "outputs": [
    {
     "name": "stdout",
     "output_type": "stream",
     "text": [
      "Data from ../ramandecompy/tests/test_files/sapphire.xlsx fit with compound pseudo-Voigt model. Results saved to peakidentify_calibration_file.hdf5.\n"
     ]
    }
   ],
   "source": [
    "dataprep.add_calibration('peakidentify_calibration_file.hdf5','../ramandecompy/tests/test_files/sapphire.xlsx',label='sapphire')\n",
    "# dataprep.add_calibration('peakidentify_calibration_file.hdf5', '../ramandecompy/tests/test_files/Propane_test.xlsx', 'Propane')\n",
    "# dataprep.add_calibration('peakidentify_calibration_file.hdf5', '../ramandecompy/tests/test_files/Ethane_test.xlsx', 'Ethane')\n",
    "# dataprep.add_calibration('peakidentify_calibration_file.hdf5', '../ramandecompy/tests/test_files/Acetaldehyde_test.xlsx', 'Acetaldehyde')"
   ]
  },
  {
   "cell_type": "code",
   "execution_count": 9,
   "metadata": {},
   "outputs": [
    {
     "name": "stdout",
     "output_type": "stream",
     "text": [
      "Data from ../ramandecompy/tests/test_files/FormicAcid_3_6percent.xlsx fit with compound pseudo-Voigt model. Results saved to peakidentify_calibration_file.hdf5.\n"
     ]
    }
   ],
   "source": [
    "dataprep.add_calibration('peakidentify_calibration_file.hdf5','../ramandecompy/tests/test_files/FormicAcid_3_6percent.xlsx',label='FormicAcid')"
   ]
  },
  {
   "cell_type": "code",
   "execution_count": 10,
   "metadata": {},
   "outputs": [
    {
     "data": {
      "text/plain": [
       "['CO2', 'CarbonMonoxide', 'FormicAcid', 'H2O', 'Hydrogen', 'sapphire']"
      ]
     },
     "execution_count": 10,
     "metadata": {},
     "output_type": "execute_result"
    }
   ],
   "source": [
    "#checking the components in the file -- these are the pure component spectra only for calibration use\n",
    "test_example = h5py.File('peakidentify_calibration_file.hdf5', 'r+')\n",
    "list(test_example.keys())"
   ]
  },
  {
   "cell_type": "code",
   "execution_count": 11,
   "metadata": {},
   "outputs": [
    {
     "data": {
      "text/plain": [
       "[<HDF5 group \"/CO2\" (5 members)>,\n",
       " <HDF5 group \"/CarbonMonoxide\" (4 members)>,\n",
       " <HDF5 group \"/FormicAcid\" (9 members)>,\n",
       " <HDF5 group \"/H2O\" (5 members)>,\n",
       " <HDF5 group \"/Hydrogen\" (7 members)>,\n",
       " <HDF5 group \"/sapphire\" (7 members)>]"
      ]
     },
     "execution_count": 11,
     "metadata": {},
     "output_type": "execute_result"
    }
   ],
   "source": [
    "#checking the values of the files\n",
    "list(test_example.values())"
   ]
  },
  {
   "cell_type": "code",
   "execution_count": 12,
   "metadata": {},
   "outputs": [
    {
     "data": {
      "text/plain": [
       "h5py._hl.files.File"
      ]
     },
     "execution_count": 12,
     "metadata": {},
     "output_type": "execute_result"
    }
   ],
   "source": [
    "type(test_example) #checking the type of the files"
   ]
  },
  {
   "cell_type": "code",
   "execution_count": 13,
   "metadata": {},
   "outputs": [
    {
     "data": {
      "text/plain": [
       "(<Figure size 1080x432 with 2 Axes>,\n",
       " <matplotlib.axes._subplots.AxesSubplot at 0x225c3aaf0b8>,\n",
       " <matplotlib.axes._subplots.AxesSubplot at 0x225c3d33198>)"
      ]
     },
     "execution_count": 13,
     "metadata": {},
     "output_type": "execute_result"
    },
    {
     "data": {
      "image/png": "[encoded data removed]",
      "text/plain": [
       "<Figure size 1080x432 with 2 Axes>"
      ]
     },
     "metadata": {
      "needs_background": "light"
     },
     "output_type": "display_data"
    }
   ],
   "source": [
    "# plotted known spectra with detected peaks\n",
    "datavis.plot_fit('peakidentify_calibration_file.hdf5', 'Hydrogen') #plotting the hydrogen after going through with dataprep"
   ]
  },
  {
   "cell_type": "code",
   "execution_count": 14,
   "metadata": {},
   "outputs": [
    {
     "data": {
      "text/plain": [
       "(<Figure size 1080x432 with 2 Axes>,\n",
       " <matplotlib.axes._subplots.AxesSubplot at 0x225c405b438>,\n",
       " <matplotlib.axes._subplots.AxesSubplot at 0x225c4086748>)"
      ]
     },
     "execution_count": 14,
     "metadata": {},
     "output_type": "execute_result"
    },
    {
     "data": {
      "image/png": "[encoded data removed]",
      "text/plain": [
       "<Figure size 1080x432 with 2 Axes>"
      ]
     },
     "metadata": {
      "needs_background": "light"
     },
     "output_type": "display_data"
    }
   ],
   "source": [
    "datavis.plot_fit('peakidentify_calibration_file.hdf5', 'CarbonMonoxide')"
   ]
  },
  {
   "cell_type": "code",
   "execution_count": 15,
   "metadata": {},
   "outputs": [
    {
     "data": {
      "text/plain": [
       "(<Figure size 1080x432 with 2 Axes>,\n",
       " <matplotlib.axes._subplots.AxesSubplot at 0x225c44d3b38>,\n",
       " <matplotlib.axes._subplots.AxesSubplot at 0x225c42a34a8>)"
      ]
     },
     "execution_count": 15,
     "metadata": {},
     "output_type": "execute_result"
    },
    {
     "data": {
      "image/png": "[encoded data removed]",
      "text/plain": [
       "<Figure size 1080x432 with 2 Axes>"
      ]
     },
     "metadata": {
      "needs_background": "light"
     },
     "output_type": "display_data"
    }
   ],
   "source": [
    "datavis.plot_fit('peakidentify_calibration_file.hdf5', 'H2O')"
   ]
  },
  {
   "cell_type": "code",
   "execution_count": 16,
   "metadata": {},
   "outputs": [
    {
     "data": {
      "text/plain": [
       "(<Figure size 1080x432 with 2 Axes>,\n",
       " <matplotlib.axes._subplots.AxesSubplot at 0x225c44ab4e0>,\n",
       " <matplotlib.axes._subplots.AxesSubplot at 0x225c3fde6a0>)"
      ]
     },
     "execution_count": 16,
     "metadata": {},
     "output_type": "execute_result"
    },
    {
     "data": {
      "image/png": "[encoded data removed]",
      "text/plain": [
       "<Figure size 1080x432 with 2 Axes>"
      ]
     },
     "metadata": {
      "needs_background": "light"
     },
     "output_type": "display_data"
    }
   ],
   "source": [
    "datavis.plot_fit('peakidentify_calibration_file.hdf5', 'sapphire')"
   ]
  },
  {
   "cell_type": "markdown",
   "metadata": {},
   "source": []
  },
  {
   "cell_type": "code",
   "execution_count": 17,
   "metadata": {},
   "outputs": [
    {
     "data": {
      "text/plain": [
       "(<Figure size 1080x432 with 2 Axes>,\n",
       " <matplotlib.axes._subplots.AxesSubplot at 0x225c3a30cf8>,\n",
       " <matplotlib.axes._subplots.AxesSubplot at 0x225c398fb70>)"
      ]
     },
     "execution_count": 17,
     "metadata": {},
     "output_type": "execute_result"
    },
    {
     "data": {
      "image/png": "[encoded data removed]",
      "text/plain": [
       "<Figure size 1080x432 with 2 Axes>"
      ]
     },
     "metadata": {
      "needs_background": "light"
     },
     "output_type": "display_data"
    }
   ],
   "source": [
    "datavis.plot_fit('peakidentify_calibration_file.hdf5', 'CO2')"
   ]
  },
  {
   "cell_type": "code",
   "execution_count": 19,
   "metadata": {},
   "outputs": [],
   "source": [
    "# datavis.plot_fit('peakidentify_calibration_file.hdf5', 'Acetaldehyde')"
   ]
  },
  {
   "cell_type": "code",
   "execution_count": 20,
   "metadata": {},
   "outputs": [],
   "source": [
    "# datavis.plot_fit('peakidentify_calibration_file.hdf5', 'Ethane')"
   ]
  },
  {
   "cell_type": "code",
   "execution_count": 21,
   "metadata": {},
   "outputs": [],
   "source": [
    "# datavis.plot_fit('peakidentify_calibration_file.hdf5', 'Propane')"
   ]
  },
  {
   "cell_type": "code",
   "execution_count": null,
   "metadata": {},
   "outputs": [],
   "source": []
  },
  {
   "cell_type": "code",
   "execution_count": 22,
   "metadata": {},
   "outputs": [
    {
     "name": "stdout",
     "output_type": "stream",
     "text": [
      "Data from ../ramandecompy/tests/test_files/FA_3.6wt%_300C_25s.csv fit with compound pseudo-Voigt model. Results saved to peakidentify_experiment_file.hdf5.\n"
     ]
    }
   ],
   "source": [
    "dataprep.new_hdf5('peakidentify_experiment_file')\n",
    "dataprep.add_experiment('peakidentify_experiment_file.hdf5', '../ramandecompy/tests/test_files/FA_3.6wt%_300C_25s.csv') "
   ]
  },
  {
   "cell_type": "code",
   "execution_count": 23,
   "metadata": {},
   "outputs": [
    {
     "name": "stdout",
     "output_type": "stream",
     "text": [
      "**** peakidentify_experiment_file.hdf5 ****\n",
      "\u001b[1m300C\u001b[0m\n",
      "|    \u001b[1m25s\u001b[0m\n",
      "|    |    Peak_01\n",
      "|    |    Peak_02\n",
      "|    |    Peak_03\n",
      "|    |    Peak_04\n",
      "|    |    Peak_05\n",
      "|    |    Peak_06\n",
      "|    |    Peak_07\n",
      "|    |    Peak_08\n",
      "|    |    Peak_09\n",
      "|    |    Peak_10\n",
      "|    |    Peak_11\n",
      "|    |    Peak_12\n",
      "|    |    Peak_13\n",
      "|    |    Peak_14\n",
      "|    |    Peak_15\n",
      "|    |    Peak_16\n",
      "|    |    counts\n",
      "|    |    residuals\n",
      "|    |    wavenumber\n"
     ]
    }
   ],
   "source": [
    "dataprep.view_hdf5('peakidentify_experiment_file.hdf5')"
   ]
  },
  {
   "cell_type": "code",
   "execution_count": 24,
   "metadata": {},
   "outputs": [
    {
     "data": {
      "text/plain": [
       "(<Figure size 1080x432 with 2 Axes>,\n",
       " <matplotlib.axes._subplots.AxesSubplot at 0x225c444bac8>,\n",
       " <matplotlib.axes._subplots.AxesSubplot at 0x225c39a2d68>)"
      ]
     },
     "execution_count": 24,
     "metadata": {},
     "output_type": "execute_result"
    },
    {
     "data": {
      "image/png": "[encoded data removed]",
      "text/plain": [
       "<Figure size 1080x432 with 2 Axes>"
      ]
     },
     "metadata": {
      "needs_background": "light"
     },
     "output_type": "display_data"
    }
   ],
   "source": [
    "datavis.plot_fit('peakidentify_experiment_file.hdf5', '300C/25s')"
   ]
  },
  {
   "cell_type": "code",
   "execution_count": null,
   "metadata": {},
   "outputs": [],
   "source": []
  },
  {
   "cell_type": "code",
   "execution_count": 25,
   "metadata": {},
   "outputs": [],
   "source": [
    "dataprep.new_hdf5('peakidentify_label_test')\n"
   ]
  },
  {
   "cell_type": "code",
   "execution_count": 26,
   "metadata": {},
   "outputs": [
    {
     "name": "stdout",
     "output_type": "stream",
     "text": [
      "Data from ../ramandecompy/tests/test_files/FA_3.6wt%_300C_25s.csv fit with compound pseudo-Voigt model. Results saved to peakidentify_label_test.hdf5.\n"
     ]
    }
   ],
   "source": [
    "dataprep.add_experiment('peakidentify_label_test.hdf5', '../ramandecompy/tests/test_files/FA_3.6wt%_300C_25s.csv')"
   ]
  },
  {
   "cell_type": "code",
   "execution_count": 27,
   "metadata": {},
   "outputs": [
    {
     "name": "stdout",
     "output_type": "stream",
     "text": [
      "**** peakidentify_calibration_file.hdf5 ****\n",
      "\u001b[1mCO2\u001b[0m\n",
      "|    Peak_01\n",
      "|    Peak_02\n",
      "|    counts\n",
      "|    residuals\n",
      "|    wavenumber\n",
      "\u001b[1mCarbonMonoxide\u001b[0m\n",
      "|    Peak_01\n",
      "|    counts\n",
      "|    residuals\n",
      "|    wavenumber\n",
      "\u001b[1mFormicAcid\u001b[0m\n",
      "|    Peak_01\n",
      "|    Peak_02\n",
      "|    Peak_03\n",
      "|    Peak_04\n",
      "|    Peak_05\n",
      "|    Peak_06\n",
      "|    counts\n",
      "|    residuals\n",
      "|    wavenumber\n",
      "\u001b[1mH2O\u001b[0m\n",
      "|    Peak_01\n",
      "|    Peak_02\n",
      "|    counts\n",
      "|    residuals\n",
      "|    wavenumber\n",
      "\u001b[1mHydrogen\u001b[0m\n",
      "|    Peak_01\n",
      "|    Peak_02\n",
      "|    Peak_03\n",
      "|    Peak_04\n",
      "|    counts\n",
      "|    residuals\n",
      "|    wavenumber\n",
      "\u001b[1msapphire\u001b[0m\n",
      "|    Peak_01\n",
      "|    Peak_02\n",
      "|    Peak_03\n",
      "|    Peak_04\n",
      "|    counts\n",
      "|    residuals\n",
      "|    wavenumber\n"
     ]
    }
   ],
   "source": [
    "dataprep.view_hdf5('peakidentify_calibration_file.hdf5')"
   ]
  },
  {
   "cell_type": "code",
   "execution_count": 28,
   "metadata": {},
   "outputs": [
    {
     "name": "stdout",
     "output_type": "stream",
     "text": [
      "**** peakidentify_label_test.hdf5 ****\n",
      "\u001b[1m300C\u001b[0m\n",
      "|    \u001b[1m25s\u001b[0m\n",
      "|    |    Peak_01\n",
      "|    |    Peak_02\n",
      "|    |    Peak_03\n",
      "|    |    Peak_04\n",
      "|    |    Peak_05\n",
      "|    |    Peak_06\n",
      "|    |    Peak_07\n",
      "|    |    Peak_08\n",
      "|    |    Peak_09\n",
      "|    |    Peak_10\n",
      "|    |    Peak_11\n",
      "|    |    Peak_12\n",
      "|    |    Peak_13\n",
      "|    |    Peak_14\n",
      "|    |    Peak_15\n",
      "|    |    Peak_16\n",
      "|    |    counts\n",
      "|    |    residuals\n",
      "|    |    wavenumber\n"
     ]
    }
   ],
   "source": [
    "dataprep.view_hdf5('peakidentify_label_test.hdf5')"
   ]
  },
  {
   "cell_type": "code",
   "execution_count": 29,
   "metadata": {},
   "outputs": [
    {
     "data": {
      "text/plain": [
       "(<Figure size 1080x432 with 2 Axes>,\n",
       " <matplotlib.axes._subplots.AxesSubplot at 0x225c4dc70b8>,\n",
       " <matplotlib.axes._subplots.AxesSubplot at 0x225c4def630>)"
      ]
     },
     "execution_count": 29,
     "metadata": {},
     "output_type": "execute_result"
    },
    {
     "data": {
      "image/png": "[encoded data removed]",
      "text/plain": [
       "<Figure size 1080x432 with 2 Axes>"
      ]
     },
     "metadata": {
      "needs_background": "light"
     },
     "output_type": "display_data"
    }
   ],
   "source": [
    "datavis.plot_fit('peakidentify_experiment_file.hdf5', '300C/25s')"
   ]
  },
  {
   "cell_type": "markdown",
   "metadata": {},
   "source": [
    "### Example 0.B: Test Driven Development - test functions (will be deleted for final version)\n",
    "06032019 tests have correct directories and nosetests passes\n"
   ]
  },
  {
   "cell_type": "code",
   "execution_count": 30,
   "metadata": {},
   "outputs": [],
   "source": [
    "dataprep.new_hdf5('peakidentify_experiment_test')"
   ]
  },
  {
   "cell_type": "code",
   "execution_count": 31,
   "metadata": {},
   "outputs": [
    {
     "name": "stdout",
     "output_type": "stream",
     "text": [
      "Data from ../ramandecompy/tests/test_files/FA_3.6wt%_300C_25s.csv fit with compound pseudo-Voigt model. Results saved to peakidentify_experiment_test.hdf5.\n"
     ]
    }
   ],
   "source": [
    "dataprep.add_experiment('peakidentify_experiment_test.hdf5', '../ramandecompy/tests/test_files/FA_3.6wt%_300C_25s.csv')"
   ]
  },
  {
   "cell_type": "code",
   "execution_count": 32,
   "metadata": {},
   "outputs": [],
   "source": [
    "dataprep.new_hdf5('peakidentify_calibration_test')"
   ]
  },
  {
   "cell_type": "code",
   "execution_count": 33,
   "metadata": {},
   "outputs": [
    {
     "name": "stdout",
     "output_type": "stream",
     "text": [
      "Data from ../ramandecompy/tests/test_files/Hydrogen_Baseline_Calibration.xlsx fit with compound pseudo-Voigt model. Results saved to peakidentify_calibration_test.hdf5.\n",
      "Data from ../ramandecompy/tests/test_files/CarbonMonoxide_Baseline_Calibration.xlsx fit with compound pseudo-Voigt model. Results saved to peakidentify_calibration_test.hdf5.\n",
      "Data from ../ramandecompy/tests/test_files/CO2_100wt%.csv fit with compound pseudo-Voigt model. Results saved to peakidentify_calibration_test.hdf5.\n",
      "Data from ../ramandecompy/tests/test_files/water.xlsx fit with compound pseudo-Voigt model. Results saved to peakidentify_calibration_test.hdf5.\n",
      "Data from ../ramandecompy/tests/test_files/sapphire.xlsx fit with compound pseudo-Voigt model. Results saved to peakidentify_calibration_test.hdf5.\n",
      "Data from ../ramandecompy/tests/test_files/Propane_test.xlsx fit with compound pseudo-Voigt model. Results saved to peakidentify_calibration_test.hdf5.\n",
      "Data from ../ramandecompy/tests/test_files/Ethane_test.xlsx fit with compound pseudo-Voigt model. Results saved to peakidentify_calibration_test.hdf5.\n",
      "Data from ../ramandecompy/tests/test_files/Acetaldehyde_test.xlsx fit with compound pseudo-Voigt model. Results saved to peakidentify_calibration_test.hdf5.\n",
      "Data from ../ramandecompy/tests/test_files/FormicAcid_3_6percent.xlsx fit with compound pseudo-Voigt model. Results saved to peakidentify_calibration_test.hdf5.\n"
     ]
    }
   ],
   "source": [
    "\n",
    "dataprep.add_calibration('peakidentify_calibration_test.hdf5',\n",
    "                          '../ramandecompy/tests/test_files/Hydrogen_Baseline_Calibration.xlsx',\n",
    "                          label='Hydrogen')\n",
    "dataprep.add_calibration('peakidentify_calibration_test.hdf5',\n",
    "                          '../ramandecompy/tests/test_files/CarbonMonoxide_Baseline_Calibration.xlsx',\n",
    "                          label='CarbonMonoxide')\n",
    "dataprep.add_calibration('peakidentify_calibration_test.hdf5','../ramandecompy/tests/test_files/CO2_100wt%.csv',label='CO2')\n",
    "dataprep.add_calibration('peakidentify_calibration_test.hdf5','../ramandecompy/tests/test_files/water.xlsx',label='H2O')\n",
    "dataprep.add_calibration('peakidentify_calibration_test.hdf5','../ramandecompy/tests/test_files/sapphire.xlsx',label='sapphire')\n",
    "dataprep.add_calibration('peakidentify_calibration_test.hdf5', '../ramandecompy/tests/test_files/Propane_test.xlsx', 'Propane')\n",
    "dataprep.add_calibration('peakidentify_calibration_test.hdf5', '../ramandecompy/tests/test_files/Ethane_test.xlsx', 'Ethane')\n",
    "dataprep.add_calibration('peakidentify_calibration_test.hdf5', '../ramandecompy/tests/test_files/Acetaldehyde_test.xlsx', 'Acetaldehyde')\n",
    "dataprep.add_calibration('peakidentify_calibration_test.hdf5','../ramandecompy/tests/test_files/FormicAcid_3_6percent.xlsx',label='FormicAcid')"
   ]
  },
  {
   "cell_type": "code",
   "execution_count": 34,
   "metadata": {},
   "outputs": [
    {
     "name": "stdout",
     "output_type": "stream",
     "text": [
      "Data from ../ramandecompy/tests/test_files/FA_3.6wt%_300C_25s.csv fit with compound pseudo-Voigt model. Results saved to peakidentify_add_label_test.hdf5.\n"
     ]
    }
   ],
   "source": [
    "dataprep.new_hdf5('peakidentify_add_label_test')\n",
    "dataprep.add_experiment('peakidentify_add_label_test.hdf5',\n",
    "                        '../ramandecompy/tests/test_files/FA_3.6wt%_300C_25s.csv')"
   ]
  },
  {
   "cell_type": "code",
   "execution_count": 35,
   "metadata": {},
   "outputs": [],
   "source": [
    "\"\"\"\n",
    "Module used to unit test the functionality and outputs of the peakidentify.py module\n",
    "\"\"\"\n",
    "# IMPORTING MODULES\n",
    "import os\n",
    "import h5py\n",
    "import numpy as np\n",
    "from ramandecompy import peakidentify\n",
    "from ramandecompy import dataprep\n",
    "hdf5_calfilename = 'peakidentify_calibration_test.hdf5'\n",
    "hdf5_expfilename = 'peakidentify_experiment_test.hdf5'\n",
    "key = '300C/25s'\n",
    "calhdf5 = h5py.File(hdf5_calfilename, 'r+')\n",
    "exphdf5 = h5py.File(hdf5_expfilename, 'r+') \n",
    "hdf5_filename = 'peakidentify_add_label_test.hdf5'\n",
    "key = '300C/25s'\n",
    "peak = 'Peak_01'\n",
    "label = '[Hydrogen]'\n",
    "# open hdf5 file as read/write\n",
    "hdf5 = h5py.File(hdf5_filename, 'r+')\n",
    "def test_peak_assignment():\n",
    "    \"\"\"This function tests the operation of the peak_assignment\n",
    "    function in peakidentify.py\"\"\"\n",
    "    #First, generate a testing dataset.\n",
    "    hdf5_calfilename = 'peakidentify_calibration_test.hdf5'\n",
    "    hdf5_expfilename = 'peakidentify_experiment_test.hdf5'\n",
    "    key = '300C/25s'\n",
    "    calhdf5 = h5py.File(hdf5_calfilename, 'r+')\n",
    "    exphdf5 = h5py.File(hdf5_expfilename, 'r+')\n",
    "    unknown_x = list(exphdf5['{}/wavenumber'.format(key)])\n",
    "    unknown_y = list(exphdf5['{}/counts'.format(key)])\n",
    "    unknown_x = np.asarray(unknown_x)\n",
    "    unknown_y = np.asarray(unknown_y)\n",
    "    precision = 10\n",
    "    peakidentify.peak_assignment(hdf5_expfilename,\n",
    "                                 key, hdf5_calfilename,\n",
    "                                 precision, False, plot = False)\n",
    "    #Various try statements to make sure that bad inputs are handled correctly.\n",
    "\n",
    "    try:\n",
    "        peakidentify.peak_assignment(hdf5_expfilename,\n",
    "                                     key, hdf5_calfilename,\n",
    "                                     precision, False, plot = False)\n",
    "\n",
    "    except TypeError:\n",
    "        print(\"An invalid known_compound_list was passed to the function, \"\n",
    "              \"and it was handled well with a TypeError.\")\n",
    "\n",
    "    try:\n",
    "        peakidentify.peak_assignment(hdf5_expfilename,\n",
    "                                     key, hdf5_calfilename,\n",
    "                                     'precision', False, plot = False)\n",
    "\n",
    "    except TypeError:\n",
    "        print(\"An invalid precision value was passed to the function, and \"\n",
    "              \"it was handled well with a TypeError.\")\n",
    "\n",
    "    try:\n",
    "        peakidentify.peak_assignment(hdf5_expfilename,\n",
    "                                     key, hdf5_calfilename,\n",
    "                                     precision, 'False', plot = False)\n",
    "\n",
    "    except TypeError:\n",
    "        print(\"An invalid export label value was passed to the function, and it \"\n",
    "              \"was handled well with a TypeError.\")\n",
    "\n",
    "    try:\n",
    "        peakidentify.peak_assignment(hdf5_expfilename,\n",
    "                                     key, hdf5_calfilename,\n",
    "                                     precision, False, 'False')\n",
    "\n",
    "    except TypeError:\n",
    "        print(\"An invalid plot value was passed to the function, and it \"\n",
    "              \"was handled well with a TypeError.\")\n",
    "\n",
    "\n",
    "def test_compare_unknown_to_known():\n",
    "    \"\"\"This function tests the operation of the compare_unknown_to_known\n",
    "    function in peakidentify.py\"\"\"\n",
    "    #First, generate a testing dataset.\n",
    "    hdf5_calfilename = 'peakidentify_calibration_test.hdf5'\n",
    "    hdf5_expfilename = 'peakidentify_experiment_test.hdf5'\n",
    "    key = '300C/25s'\n",
    "    calhdf5 = h5py.File(hdf5_calfilename, 'r+')\n",
    "    exphdf5 = h5py.File(hdf5_expfilename, 'r+')\n",
    "    unknown_x = list(exphdf5['{}/wavenumber'.format(key)])\n",
    "    unknown_y = list(exphdf5['{}/counts'.format(key)])\n",
    "    unknown_x = np.asarray(unknown_x)\n",
    "    unknown_y = np.asarray(unknown_y)\n",
    "    known_compound_list = list(calhdf5.keys())\n",
    "    precision = 10\n",
    "    known_peaks = []\n",
    "    known_peaks_list = []\n",
    "    unknown_peaks = []\n",
    "    for i, _ in enumerate(list(exphdf5['{}'.format(key)])[:-3]):\n",
    "        if i < 9:\n",
    "            unknown_peaks.append(list(exphdf5['{}/Peak_0{}'.format(key, i+1)])[0][2])\n",
    "        else:\n",
    "            unknown_peaks.append(list(exphdf5['{}/Peak_{}'.format(key, i+1)])[0][2])\n",
    "    for i, _ in enumerate(known_compound_list):\n",
    "        for _, peak in enumerate(list(calhdf5[known_compound_list[i]])[:-3]):\n",
    "            known_peaks_list.append(list(calhdf5['{}/{}'.format(known_compound_list[i],\n",
    "                                                                peak)])[0][2])\n",
    "        known_peaks.append(known_peaks_list[i])\n",
    "\n",
    "    peakidentify.compare_unknown_to_known(unknown_peaks, known_peaks, precision)\n",
    "    try:\n",
    "        peakidentify.compare_unknown_to_known(1, known_peaks, precision)\n",
    "    except TypeError:\n",
    "        print(\"An invalid unknown_peaks value was passed to the function, \"\n",
    "              \"and was handled correctly.\")\n",
    "\n",
    "    try:\n",
    "        peakidentify.compare_unknown_to_known(unknown_peaks, 'known_peaks', precision)\n",
    "    except TypeError:\n",
    "        print(\"An invalid known_peaks value was passed to the function, \"\n",
    "              \"and was handled correctly.\")\n",
    "\n",
    "    try:\n",
    "        peakidentify.compare_unknown_to_known(unknown_peaks, known_peaks, 'precision')\n",
    "    except TypeError:\n",
    "        print(\"An invalid precision value was passed to the function, and \"\n",
    "              \"was handled correctly.\")\n",
    "\n",
    "    #After testing for resilience to unexpected inputs, now ensure\n",
    "    #outputs are performing correctly\n",
    "\n",
    "    #First, make sure function is returning the list.\n",
    "    assert isinstance(peakidentify.compare_unknown_to_known(\n",
    "        unknown_peaks, known_peaks, precision), np.ndarray), (\"\"\"Function\n",
    "        is not returning list\"\"\")\n",
    "\n",
    "    #Compare one set of peaks to itself. The full association matrix\n",
    "    #should have all values = 1.\n",
    "    self_comp = np.mean(peakidentify.compare_unknown_to_known(known_peaks,\n",
    "                                                              known_peaks,\n",
    "                                                              precision))\n",
    "    assert self_comp == 1, (\"Peak Assignment Error. Comparison of compound \"\n",
    "                            \"against itself should find all peaks.\")\n",
    "\n",
    "    dif_comp = np.mean(peakidentify.compare_unknown_to_known([1, 3, 6],\n",
    "                                                             [1000, 2000, 5000],\n",
    "                                                             precision))\n",
    "    assert dif_comp == 0, (\"Peak Assignment Error. Passed values should \"\n",
    "                           \"have no matching assignments.\")\n",
    "\n",
    "def test_peak_position_comparisons():\n",
    "    \"\"\"This function tests the operation of the peak_position_comparisons\n",
    "    function in peakidentify. Said function returns a list of strings that\n",
    "    contain text assignments of each peak in the unknown spectrum.\"\"\"\n",
    "\n",
    "    #First, generate a testing dataset.\n",
    "    hdf5_calfilename = 'peakidentify_calibration_test.hdf5'\n",
    "    hdf5_expfilename = 'peakidentify_experiment_test.hdf5'\n",
    "    key = '300C/25s'\n",
    "    calhdf5 = h5py.File(hdf5_calfilename, 'r+')\n",
    "    exphdf5 = h5py.File(hdf5_expfilename, 'r+')\n",
    "    unknown_x = list(exphdf5['{}/wavenumber'.format(key)])\n",
    "    unknown_y = list(exphdf5['{}/counts'.format(key)])\n",
    "    unknown_x = np.asarray(unknown_x)\n",
    "    unknown_y = np.asarray(unknown_y)\n",
    "    known_compound_list = list(calhdf5.keys())\n",
    "    precision = 10\n",
    "    known_peaks = []\n",
    "    known_peaks_list = []\n",
    "    association_matrix = []\n",
    "    unknown_peaks = []\n",
    "    for i, _ in enumerate(list(exphdf5['{}'.format(key)])[:-3]):\n",
    "        if i < 9:\n",
    "            unknown_peaks.append(list(exphdf5['{}/Peak_0{}'.format(key, i+1)])[0][2])\n",
    "        else:\n",
    "            unknown_peaks.append(list(exphdf5['{}/Peak_{}'.format(key, i+1)])[0][2])\n",
    "    known_peaks = []\n",
    "    known_peaks_list = []\n",
    "    num_peaks_list = []\n",
    "    association_matrix = []\n",
    "    split__index_list = []\n",
    "    for i, _ in enumerate(known_compound_list):\n",
    "        num_peaks_list.append(len(list(calhdf5[known_compound_list[i]])[:-3]))\n",
    "        split__index_list.append(sum(num_peaks_list))\n",
    "        for j, peak in enumerate(list(calhdf5[known_compound_list[i]])[:-3]):\n",
    "            # Need to separate known peaks to make a list of two separate lists\n",
    "            # to perform custom list split using list comprehension + zip()\n",
    "            # and split_index_list\n",
    "            known_peaks_list.append(list(calhdf5['{}/{}'.format(known_compound_list[i],\n",
    "                                                                peak)])[0][2])\n",
    "            result = [known_peaks_list[i : j] for i, j in zip([0] + split__index_list,\n",
    "                                                              split__index_list +\n",
    "                                                              [None])]\n",
    "        known_peaks.append(result)\n",
    "        association_matrix.append(peakidentify.compare_unknown_to_known(\n",
    "            unknown_peaks, known_peaks[i][i], precision))\n",
    "    peakidentify.peak_position_comparisons(unknown_peaks, known_peaks,\n",
    "                                           association_matrix,\n",
    "                                           hdf5_calfilename)\n",
    "    #Then, test error handling of bad inputs for the function.\n",
    "    try:\n",
    "        peakidentify.peak_position_comparisons(1, known_peaks,\n",
    "                                               association_matrix,\n",
    "                                               hdf5_calfilename)\n",
    "\n",
    "    except TypeError:\n",
    "        print(\"An invalid unknown_peaks value was passed to the function, \"\n",
    "              \"and was handled correctly.\")\n",
    "\n",
    "    try:\n",
    "        peakidentify.peak_position_comparisons(unknown_peaks,\n",
    "                                               'known_peaks',\n",
    "                                               association_matrix,\n",
    "                                               hdf5_calfilename)\n",
    "\n",
    "    except TypeError:\n",
    "        print(\"An invalid known_peaks value was passed to the function, \"\n",
    "              \"and was handled correctly.\")\n",
    "\n",
    "    try:\n",
    "        peakidentify.peak_position_comparisons(unknown_peaks,\n",
    "                                               known_peaks,\n",
    "                                               'association_matrix',\n",
    "                                               hdf5_calfilename)\n",
    "\n",
    "    except TypeError:\n",
    "        print(\"An invalid association_matrix value was passed to the function,\"\n",
    "              \"and was handled correctly.\")\n",
    "\n",
    "    #Check to make sure the function is returning a list.\n",
    "    assert isinstance(peakidentify.peak_position_comparisons(\n",
    "        unknown_peaks, known_peaks,\n",
    "        association_matrix, hdf5_calfilename), list), \"\"\"The function is\n",
    "        not returning a list.\"\"\"\n",
    "\n",
    "    #Test a call that says that no peaks have associations\n",
    "    association_matrix_0 = []\n",
    "\n",
    "    association_matrix_0.append(peakidentify.compare_unknown_to_known(\n",
    "        known_peaks[0][0],\n",
    "        known_peaks[1][0],\n",
    "        precision))\n",
    "\n",
    "    zero_output = peakidentify.peak_position_comparisons(known_peaks[0][0],\n",
    "                                                         [known_peaks[1][0]],\n",
    "                                                         association_matrix_0,\n",
    "                                                         hdf5_calfilename)[0]\n",
    "\n",
    "    assert zero_output[0] == 'Acetaldehyde', \"\"\"The function is not properly\n",
    "    handling unassigned peaks.\"\"\"\n",
    "\n",
    "    #Test the function to make sure that it has the right functionality\n",
    "    association_matrix = []\n",
    "    #Generate a matrix with all associations equal to 1\n",
    "    association_matrix.append(peakidentify.compare_unknown_to_known(\n",
    "        known_peaks[0][0],\n",
    "        known_peaks[0][0],\n",
    "        precision))\n",
    "\n",
    "    #change the middle index to 0\n",
    "    association_matrix[0][1] = 0\n",
    "    test_peak_labels = peakidentify.peak_position_comparisons(known_peaks[0][0],\n",
    "                                                              [known_peaks[0][0]],\n",
    "                                                              association_matrix,\n",
    "                                                              hdf5_calfilename)\n",
    "    print(test_peak_labels[0][0])\n",
    "    print(test_peak_labels[1][0])\n",
    "\n",
    "    assert test_peak_labels[0][0] == 'Acetaldehyde', \"\"\"The funciton is\n",
    "    not correctly assigning peaks when association matrix = 1\"\"\"\n",
    "    assert test_peak_labels[1][0] == 'Unassigned', \"\"\"The function is\n",
    "    not correctly handling a lack of peak assignments\"\"\"\n",
    "\n",
    "def test_percentage_of_peaks_found():\n",
    "    \"\"\"This function tests the operation of the\n",
    "    percentage_of_peaks_found function in peakidentify.py\"\"\"\n",
    "\n",
    "    #First, generate a testing dataset.\n",
    "    hdf5_calfilename = 'peakidentify_calibration_test.hdf5'\n",
    "    hdf5_expfilename = 'peakidentify_experiment_test.hdf5'\n",
    "    key = '300C/25s'\n",
    "    calhdf5 = h5py.File(hdf5_calfilename, 'r+')\n",
    "    exphdf5 = h5py.File(hdf5_expfilename, 'r+')\n",
    "    unknown_x = list(exphdf5['{}/wavenumber'.format(key)])\n",
    "    unknown_y = list(exphdf5['{}/counts'.format(key)])\n",
    "    unknown_x = np.asarray(unknown_x)\n",
    "    unknown_y = np.asarray(unknown_y)\n",
    "    known_compound_list = list(calhdf5.keys())\n",
    "    precision = 10\n",
    "\n",
    "    unknown_peaks = []\n",
    "    for i, _ in enumerate(list(exphdf5['{}'.format(key)])[:-3]):\n",
    "        if i < 9:\n",
    "            unknown_peaks.append(list(exphdf5['{}/Peak_0{}'.format(key, i+1)])[0][2])\n",
    "        else:\n",
    "            unknown_peaks.append(list(exphdf5['{}/Peak_{}'.format(key, i+1)])[0][2])\n",
    "    known_peaks = []\n",
    "    known_peaks_list = []\n",
    "    num_peaks_list = []\n",
    "    association_matrix = []\n",
    "    split__index_list = []\n",
    "    for i, _ in enumerate(known_compound_list):\n",
    "        num_peaks_list.append(len(list(calhdf5[known_compound_list[i]])[:-3]))\n",
    "        split__index_list.append(sum(num_peaks_list))\n",
    "        for j, peak in enumerate(list(calhdf5[known_compound_list[i]])[:-3]):\n",
    "            # Need to separate known peaks to make a list of two separate lists\n",
    "            # to perform custom list split using list comprehension + zip()\n",
    "            # and split_index_list\n",
    "            known_peaks_list.append(list(calhdf5['{}/{}'.format(known_compound_list[i],\n",
    "                                                                peak)])[0][2])\n",
    "            result = [known_peaks_list[i : j] for i, j in zip([0] + split__index_list,\n",
    "                                                              split__index_list +\n",
    "                                                              [None])]\n",
    "        known_peaks.append(result)\n",
    "        association_matrix.append(peakidentify.compare_unknown_to_known(\n",
    "            unknown_peaks, known_peaks[i][i], precision))\n",
    "\n",
    "    #Test for input error handling.\n",
    "    peakidentify.percentage_of_peaks_found(known_peaks, association_matrix,\n",
    "                                           hdf5_calfilename)\n",
    "    try:\n",
    "        peakidentify.percentage_of_peaks_found([[0], [1], [2], [3], [4],\n",
    "                                                [5],[6],[7],[8]],\n",
    "                                                association_matrix,\n",
    "                                                hdf5_calfilename)\n",
    "    except TypeError:\n",
    "        print(\"\"\"The function correctly handled the error when a list of ints\n",
    "        was input instead of the known_peaks list\"\"\")\n",
    "\n",
    "    try:\n",
    "        peakidentify.percentage_of_peaks_found(1, association_matrix,\n",
    "                                               hdf5_calfilename)\n",
    "\n",
    "    except TypeError:\n",
    "        print(\"\"\"The function correctly handled the error when an int\n",
    "        was input instead of the known_peaks list\"\"\")\n",
    "\n",
    "    try:\n",
    "        peakidentify.percentage_of_peaks_found(known_peaks, 1,\n",
    "                                               hdf5_calfilename)\n",
    "\n",
    "    except TypeError:\n",
    "        print(\"\"\"The function correctly handled the error when an int\n",
    "        was input instead of the association matrix\"\"\")\n",
    "\n",
    "\n",
    "    #Test to make sure function returns a dictionary.\n",
    "    assert isinstance(peakidentify.percentage_of_peaks_found(\n",
    "        known_peaks,\n",
    "        association_matrix,\n",
    "        hdf5_calfilename), dict), \"\"\"The function is not\n",
    "        returning a dictionary.\"\"\"\n",
    "\n",
    "    #Test for function output.\n",
    "    hdf5_calfilename = 'peakidentify_calibration_test.hdf5'\n",
    "    acet_peaks = []\n",
    "    key = 'Acetaldehyde'\n",
    "    for _, peak in enumerate(list(calhdf5[key])[:-3]):\n",
    "        acet_peaks.append(list(calhdf5['{}/{}'.format(key, peak)])[0][2])\n",
    "    print(acet_peaks)\n",
    "    acet_dict_0 = peakidentify.percentage_of_peaks_found([acet_peaks, [0], [0], [0],\n",
    "                                                          [0], [0], [0],\n",
    "                                                          [0], [0], [0]],\n",
    "                                                         [[0, 0, 0, 0, 0, 0, 0, 0],\n",
    "                                                         [0], [0], [0],\n",
    "                                                         [0], [0], [0],\n",
    "                                                          [0], [0], [0]],\n",
    "                                                         hdf5_calfilename)\n",
    "    assert acet_dict_0[key] == 0, \"\"\"The function is not correctly\n",
    "    calculating percentages when no peaks are found\"\"\"\n",
    "\n",
    "    acet_dict_1 = peakidentify.percentage_of_peaks_found([acet_peaks, [1], [1], [1],\n",
    "                                                         [1], [1], [1], [1], [1], [1]],\n",
    "                                                        [[1, 1, 1, 1, 1, 1, 1, 1],\n",
    "                                                         [1], [1], [1],\n",
    "                                                         [1], [1], [1], [1], [1], [1]],\n",
    "                                                         hdf5_calfilename)\n",
    "    assert acet_dict_1[key] == 100, \"\"\"The function is not correctly\n",
    "    calculating percentages when all peaks are found\"\"\"\n",
    "    \n",
    "def test_plotting_peak_assignments():\n",
    "    \"\"\"This function tests the operation of the peak_assignment\n",
    "    function in peakidentify.py\"\"\"\n",
    "    #First, generate a testing dataset.\n",
    "    hdf5_calfilename = 'peakidentify_calibration_test.hdf5'\n",
    "    hdf5_expfilename = 'peakidentify_experiment_test.hdf5'\n",
    "    key = '300C/25s'\n",
    "    calhdf5 = h5py.File(hdf5_calfilename, 'r+')\n",
    "    exphdf5 = h5py.File(hdf5_expfilename, 'r+')\n",
    "    unknown_x = list(exphdf5['{}/wavenumber'.format(key)])\n",
    "    unknown_y = list(exphdf5['{}/counts'.format(key)])\n",
    "    unknown_x = np.asarray(unknown_x)\n",
    "    unknown_y = np.asarray(unknown_y)\n",
    "    known_compound_list = list(calhdf5.keys())\n",
    "    precision = 10\n",
    "\n",
    "    unknown_peaks = []\n",
    "    for i, _ in enumerate(list(exphdf5['{}'.format(key)])[:-3]):\n",
    "        if i < 9:\n",
    "            unknown_peaks.append(list(exphdf5['{}/Peak_0{}'.format(key, i+1)])[0][2])\n",
    "        else:\n",
    "            unknown_peaks.append(list(exphdf5['{}/Peak_{}'.format(key, i+1)])[0][2])\n",
    "    known_peaks = []\n",
    "    known_peaks_list = []\n",
    "    num_peaks_list = []\n",
    "    association_matrix = []\n",
    "    split__index_list = []\n",
    "    for i, _ in enumerate(known_compound_list):\n",
    "        num_peaks_list.append(len(list(calhdf5[known_compound_list[i]])[:-3]))\n",
    "        split__index_list.append(sum(num_peaks_list))\n",
    "        for j, peak in enumerate(list(calhdf5[known_compound_list[i]])[:-3]):\n",
    "            # Need to separate known peaks to make a list of two separate lists\n",
    "            # to perform custom list split using list comprehension + zip()\n",
    "            # and split_index_list\n",
    "            known_peaks_list.append(list(calhdf5['{}/{}'.format(known_compound_list[i],\n",
    "                                                                peak)])[0][2])\n",
    "            result = [known_peaks_list[i : j] for i, j in zip([0] + split__index_list,\n",
    "                                                              split__index_list +\n",
    "                                                              [None])]\n",
    "        known_peaks.append(result)\n",
    "        association_matrix.append(peakidentify.compare_unknown_to_known(\n",
    "            unknown_peaks, known_peaks[i][i], precision))\n",
    "    #Ok, so that generates a full association matrix that contains everything\n",
    "    #we need to assign peaks.\n",
    "    #Now, let's go through and actually assign text to peaks.\n",
    "    unknown_peak_assignments = peakidentify.peak_position_comparisons(\n",
    "        unknown_peaks, known_peaks, association_matrix, hdf5_calfilename)\n",
    "    peak_labels = []\n",
    "    for i, _ in enumerate(unknown_peak_assignments):\n",
    "        peak_labels.append(str(unknown_peak_assignments[i]))\n",
    "    #Test for input error handling.\n",
    "    peakidentify.plotting_peak_assignments(unknown_x, unknown_y, unknown_peaks,\n",
    "                                           unknown_peak_assignments,\n",
    "                                           hdf5_expfilename,\n",
    "                                           hdf5_calfilename,\n",
    "                                           key, peak_labels,\n",
    "                                           plot = False)\n",
    "    try:\n",
    "        peakidentify.plotting_peak_assignments(1, unknown_y, unknown_peaks,\n",
    "                                               unknown_peak_assignments,\n",
    "                                               hdf5_expfilename,\n",
    "                                               hdf5_calfilename,\n",
    "                                               key, peak_labels,\n",
    "                                               plot = False)\n",
    "    except TypeError:\n",
    "        print(\"\"\"The function correctly handled the error\n",
    "        when an int was input instead of the unknown_x list\"\"\")\n",
    "\n",
    "    try:\n",
    "        peakidentify.plotting_peak_assignments(unknown_x, 3, unknown_peaks,\n",
    "                                               unknown_peak_assignments,\n",
    "                                               hdf5_expfilename,\n",
    "                                               hdf5_calfilename,\n",
    "                                               key, peak_labels,\n",
    "                                               plot = False)\n",
    "    except TypeError:\n",
    "        print(\"\"\"The function correctly handled the error when an int\n",
    "        was input instead of the unknown_y list\"\"\")\n",
    "\n",
    "    try:\n",
    "        peakidentify.plotting_peak_assignments(unknown_x,\n",
    "                                               unknown_y,\n",
    "                                               'unknown_peaks',\n",
    "                                               unknown_peak_assignments,\n",
    "                                               hdf5_expfilename,\n",
    "                                               hdf5_calfilename,\n",
    "                                               key, peak_labels,\n",
    "                                               plot = False)\n",
    "    except TypeError:\n",
    "        print(\"\"\"The function correctly handled the error when a string\n",
    "        was input instead of the unknown_peaks list\"\"\")\n",
    "\n",
    "    try:\n",
    "        peakidentify.plotting_peak_assignments(unknown_x,\n",
    "                                               unknown_y,\n",
    "                                               unknown_peaks,\n",
    "                                               3,\n",
    "                                               hdf5_expfilename,\n",
    "                                               hdf5_calfilename,\n",
    "                                               key, peak_labels,\n",
    "                                               plot = False)\n",
    "    except TypeError:\n",
    "        print(\"\"\"The function correctly handled the error when an int\n",
    "        was input instead of the unknown_peak_assignments\"\"\")\n",
    "\n",
    "    try:\n",
    "        peakidentify.plotting_peak_assignments(unknown_x,\n",
    "                                               unknown_y,\n",
    "                                               unknown_peaks,\n",
    "                                               ['WATER', 23, 'CO'],\n",
    "                                               hdf5_expfilename,\n",
    "                                               hdf5_calfilename,\n",
    "                                               key, peak_labels,\n",
    "                                               plot = False)\n",
    "\n",
    "    except TypeError:\n",
    "        print(\"\"\"The function correctly handled the case when an int\n",
    "        was passed in the unknown_peak_assignment list\"\"\")\n",
    "\n",
    "    try:\n",
    "        peakidentify.plotting_peak_assignments(unknown_x,\n",
    "                                               unknown_y,\n",
    "                                               unknown_peaks,\n",
    "                                               ['H', 23, 'CO2'],\n",
    "                                               hdf5_expfilename,\n",
    "                                               hdf5_calfilename,\n",
    "                                               key, peak_labels,\n",
    "                                               plot = False)\n",
    "\n",
    "    except TypeError:\n",
    "        print(\"\"\"The function correctly handled the case when an int\n",
    "        was passed in the unknown_peak_assignment list\"\"\")\n",
    "\n",
    "    try:\n",
    "        peakidentify.plotting_peak_assignments(unknown_x,\n",
    "                                               unknown_y,\n",
    "                                               unknown_peaks,\n",
    "                                               unknown_peak_assignments,\n",
    "                                               3,\n",
    "                                               hdf5_calfilename,\n",
    "                                               key, peak_labels,\n",
    "                                               plot = False)\n",
    "\n",
    "    except TypeError:\n",
    "        print(\"\"\"The function correctly handled the case when an int\n",
    "        was passed in the hdf5_filename\"\"\")\n",
    "\n",
    "    try:\n",
    "        peakidentify.plotting_peak_assignments(unknown_x,\n",
    "                                               unknown_y,\n",
    "                                               unknown_peaks,\n",
    "                                               unknown_peak_assignments,\n",
    "                                               hdf5_expfilename,\n",
    "                                               3,\n",
    "                                               key, peak_labels,\n",
    "                                               plot = False)\n",
    "\n",
    "    except TypeError:\n",
    "        print(\"\"\"The function correctly handled the case when an int\n",
    "        was passed in the hdf5_calfilename\"\"\")\n",
    "    \n",
    "def test_add_label():\n",
    "    \"\"\"\n",
    "    Function that adds a label to a peak dataset in the hdf5 file\n",
    "    \"\"\"\n",
    "    key = '300C/25s'\n",
    "    peak = 'Peak_01'\n",
    "    label = '[Hydrogen]'\n",
    "    peakidentify.add_label(hdf5_filename, key, peak, label)\n",
    "    try:\n",
    "        peakidentify.add_label('hdf5_filename', key, peak, label)\n",
    "    except TypeError:\n",
    "        print(\"An invalid hdf5_filename was passed to the function, \"\n",
    "              +\"and it was handled well with a TypeError.\")\n",
    "    try:\n",
    "        peakidentify.add_label(hdf5_filename, 3, peak, label)\n",
    "    except TypeError:\n",
    "        print(\"An invalid key was passed to the function, \"\n",
    "              +\"and it was handled well with a TypeError.\")\n",
    "    try:\n",
    "        peakidentify.add_label(hdf5_filename, key, 3, label)\n",
    "    except TypeError:\n",
    "        print(\"An invalid peak was passed to the function, \"\n",
    "              +\"and it was handled well with a TypeError.\")\n",
    "    try:\n",
    "        peakidentify.add_label(hdf5_filename, key, peak, 3)\n",
    "    except TypeError:\n",
    "        print(\"An invalid label was passed to the function, \"\n",
    "              +\"and it was handled well with a TypeError.\")\n",
    "\n",
    "def test_peak_1d_score():\n",
    "    \"\"\"Evaluates the functionality of the peak_1D_score function\"\"\"\n",
    "    # Initialize the test arguments\n",
    "    row_i = [0, 1]\n",
    "    row_j = [2, 1]\n",
    "    rowcat = row_i + row_j\n",
    "    arraya = np.array([[0, 1], [2, 1], [0, 3]])\n",
    "    arraycat = np.concatenate((arraya[0], arraya[2]))\n",
    "    precision = 10\n",
    "\n",
    "    # Run Bad Function for lists\n",
    "    try:\n",
    "        testscore = peakidentify.peak_1d_score(row_i, row_j, -1, precision)\n",
    "    except ValueError:\n",
    "        print(\"An invalid scoremax value was passed to the function, \"\n",
    "              \"and was handled correctly.\")\n",
    "\n",
    "    # Run Bad Function for arrays\n",
    "    try:\n",
    "        arrayscore = peakidentify.peak_1d_score(arraya[0], arraya[2], -1, precision)\n",
    "\n",
    "    except ValueError:\n",
    "        print(\"An invalid scoremax value was passed to the function, \"\n",
    "              \"and was handled correctly.\")\n",
    "\n",
    "    # Running a good example\n",
    "    testscore = peakidentify.peak_1d_score(row_i, row_j, 1., precision)\n",
    "    arrayscore = peakidentify.peak_1d_score(arraya[0], arraya[2], 1, precision)\n",
    "\n",
    "    # make assertions\n",
    "    assert len(row_i) == len(row_j), 'Input lengths do not match'\n",
    "    assert len(arrayscore[0][:]) == len(arraycat), \"\"\"Output list length\n",
    "    different than concatenated lists length\"\"\"\n",
    "    for i in range(len(rowcat)):\n",
    "        assert 0 <= testscore[0][i] <= 1, 'Output value outside acceptable range'\n",
    "        assert 0 <= arrayscore[0][i] <= 1, 'Output value outside acceptable range'\n",
    "\n",
    "\n",
    "def test_score_max():\n",
    "    \"\"\"Evaluates the functionality of the score_max function\"\"\"\n",
    "    # Initialize the test arguments\n",
    "    k = 2\n",
    "    row_i = [0, 3]\n",
    "    row_j = [2, 1]\n",
    "    rowcat = row_i + row_j\n",
    "    arraya = np.array([[0, 1], [2, 1], [0, 3]])\n",
    "    precision = 10\n",
    "\n",
    "    arraycat = np.concatenate((arraya[0], arraya[1]))\n",
    "\n",
    "    # Run Function for lists\n",
    "    try:\n",
    "\n",
    "        maxscores = peakidentify.score_max(row_i, row_j, -1, precision)\n",
    "\n",
    "    except ValueError:\n",
    "\n",
    "        print(\"An invalid k value was passed to the function, \"\n",
    "              \"and was handled correctly.\")\n",
    "\n",
    "     # Run Function for arrays\n",
    "    try:\n",
    "\n",
    "        arrmaxscores = peakidentify.score_max(arraya[0], arraya[1], -1, precision)\n",
    "\n",
    "    except ValueError:\n",
    "\n",
    "        print(\"An invalid k value was passed to the function, \"\n",
    "              \"and was handled correctly.\")\n",
    "\n",
    "    # Run good examples\n",
    "    maxscores = peakidentify.score_max(row_i, row_j, k, precision)\n",
    "    arrmaxscores = peakidentify.score_max(arraya[0], arraya[1], k, precision)\n",
    "\n",
    "    # make assertions\n",
    "    assert len(arrmaxscores[0]) == len(arraycat), \"\"\"Output list length different\n",
    "    than concatenated lists length\"\"\"\n",
    "    for i, _ in enumerate(rowcat):\n",
    "        assert 0 <= arrmaxscores[0][i] <= 2, 'Output value outside acceptable range'\n",
    "        assert 0 <= maxscores[0][i] <= 2, 'Output value outside acceptable range'\n",
    "    for i, _ in enumerate(maxscores, 1):\n",
    "        assert maxscores[0][i-1] >= maxscores[0][-1], \"\"\"Output values are\n",
    "        less than the max value\"\"\"\n",
    "\n",
    "\n",
    "def test_score_sort():\n",
    "    \"\"\"Evaluates the functionality of the score_sort function\"\"\"\n",
    "    # Initialize the test arguments\n",
    "    row_i = [0, 1]\n",
    "    row_j = [2, 1]\n",
    "    rowcat = row_i + row_j\n",
    "    arraya = np.array([[0, 1], [2, 1], [0, 3]])\n",
    "    k = 2\n",
    "    precision = 10\n",
    "    arraycat = np.concatenate((arraya[0], arraya[1]))\n",
    "    # Run Previous Function to get max score normalization\n",
    "    maxscores = peakidentify.score_max(row_i, row_j, k, precision)\n",
    "\n",
    "    # Run Function for lists\n",
    "\n",
    "    try:\n",
    "        sortedscores = peakidentify.score_sort(row_i, row_j, max(maxscores[0]), precision)\n",
    "\n",
    "    except TypeError:\n",
    "\n",
    "        print(\"An invalid maxscores from score_max was passed to the function, \"\n",
    "              \"and was handled correctly.\")\n",
    "\n",
    "    # Run Function for arrays\n",
    "\n",
    "    try:\n",
    "\n",
    "        arrsortedscores = peakidentify.score_sort(arraya[0], arraya[1],\n",
    "                                                  max(maxscores[0]),\n",
    "                                                  precision)\n",
    "\n",
    "    except TypeError:\n",
    "\n",
    "        print(\"An invalid maxscores from score_max was passed to the function, \"\n",
    "              \"and was handled correctly.\")\n",
    "\n",
    "    # Run good examples\n",
    "    sortedscores = peakidentify.score_sort(row_i, row_j,\n",
    "                                           int(max(maxscores[0])),\n",
    "                                           precision)\n",
    "    arrsortedscores = peakidentify.score_sort(arraya[0], arraya[1],\n",
    "                                              int(max(maxscores[0])),\n",
    "                                              precision)\n",
    "    # make assertions\n",
    "    assert len(arraycat) == len(arrsortedscores[0][0]), \"\"\"Output list length\n",
    "    different than concatenated lists length\"\"\"\n",
    "    assert len(rowcat) == len(sortedscores[0][0]), \"\"\"Output list length\n",
    "    different than concatenated lists length\"\"\"\n",
    "    for i, _ in enumerate(sortedscores):\n",
    "        assert sortedscores[0][0][i] <= sortedscores[0][0][i+1], \"\"\"Output values\n",
    "        is sorted from smallest to largest\"\"\"\n",
    "        assert arrsortedscores[0][0][i] <= arrsortedscores[0][0][i+1], \"\"\"Output\n",
    "        values is sorted from smallest to largest\"\"\"\n",
    "def test_process_score():\n",
    "    \"documentation\"\n",
    "    hdf5_calfilename = 'ramandecompy/tests/test_files/peakidentify_calibration_test.hdf5'\n",
    "    hdf5_expfilename = 'ramandecompy/tests/test_files/peakidentify_experiment_test.hdf5'\n",
    "    key = '300C/25s'\n",
    "    calhdf5 = h5py.File(hdf5_calfilename, 'r+')\n",
    "    exphdf5 = h5py.File(hdf5_expfilename, 'r+')\n",
    "    unknown_x = list(exphdf5['{}/wavenumber'.format(key)])\n",
    "    unknown_y = list(exphdf5['{}/counts'.format(key)])\n",
    "    unknown_x = np.asarray(unknown_x)\n",
    "    unknown_y = np.asarray(unknown_y)\n",
    "    known_compound_list = list(calhdf5.keys())\n",
    "    precision = 10\n",
    "\n",
    "    unknown_peaks = []\n",
    "    for i, _ in enumerate(list(exphdf5['{}'.format(key)])[:-3]):\n",
    "        if i < 9:\n",
    "            unknown_peaks.append(list(exphdf5['{}/Peak_0{}'.format(key, i+1)])[0][2])\n",
    "        else:\n",
    "            unknown_peaks.append(list(exphdf5['{}/Peak_{}'.format(key, i+1)])[0][2])\n",
    "    H2O_peaks = []\n",
    "    for _,peak in enumerate(list(calhdf5[key5])[:-3]):\n",
    "        H2O_peaks.append(list(calhdf5['{}/{}'.format(key5, peak)])[0][2])\n",
    "    precision = 10\n",
    "    unknown_name = 'Formic3.6wt%'\n",
    "    knownname = 'H2O'\n",
    "    # run good examples\n",
    "    process_score(unknown_peaks,known_peaks,k, precision,unknownname,knownname)\n",
    "    #run bad inputs\n",
    "    try:\n",
    "\n",
    "        process_score('unknown_peaks',known_peaks,k, precision,unknownname,knownname)\n",
    "\n",
    "    except TypeError:\n",
    "\n",
    "        print(\"An invalid maxscores from score_max was passed to the function, \"\n",
    "              \"and was handled correctly.\")\n",
    "    try:\n",
    "\n",
    "        process_score(unknown_peaks,'known_peaks',k, precision,unknownname,knownname)\n",
    "\n",
    "    except TypeError:\n",
    "\n",
    "        print(\"An invalid maxscores from score_max was passed to the function, \"\n",
    "              \"and was handled correctly.\")\n",
    "    try:\n",
    "\n",
    "        process_score(unknown_peaks,known_peaks,'k', precision,unknownname,knownname)\n",
    "\n",
    "    except TypeError:\n",
    "\n",
    "        print(\"An invalid maxscores from score_max was passed to the function, \"\n",
    "              \"and was handled correctly.\")\n",
    "        \n",
    "    try:\n",
    "\n",
    "        process_score(unknown_peaks,known_peaks,k, 'precision',unknownname,knownname)\n",
    "\n",
    "    except TypeError:\n",
    "\n",
    "        print(\"An invalid maxscores from score_max was passed to the function, \"\n",
    "              \"and was handled correctly.\")\n",
    "    try:\n",
    "\n",
    "        process_score(unknown_peaks,known_peaks,k, precision,3,knownname)\n",
    "\n",
    "    except TypeError:\n",
    "\n",
    "        print(\"An invalid maxscores from score_max was passed to the function, \"\n",
    "              \"and was handled correctly.\")\n",
    "    try:\n",
    "\n",
    "        process_score(unknown_peaks,known_peaks,k, precision,unknownname,3)\n",
    "\n",
    "    except TypeError:\n",
    "\n",
    "        print(\"An invalid maxscores from score_max was passed to the function, \"\n",
    "              \"and was handled correctly.\")\n",
    "    # make assertions\n",
    "    \n",
    "#     if k<len(known_peaks)+1:\n",
    "#         compdf=pd.DataFrame(data=score_sort(unknown_peaks,known_peaks,k, precision)[0][0][:],\n",
    "#                             columns=[str(unknownname)+'_vs_'+str(knownname)+'_peak_Scores normalized over the #'+\n",
    "#                                      str(k) + ' highest score in the peak set'])\n",
    "#         compdf=compdf.assign(Peaks=score_sort(unknown_peaks,known_peaks,1, precision)[0][1][:])\n",
    "#     else:\n",
    "#         compdf=pd.DataFrame(data=score_sort(unknown_peaks,known_peaks,k, precision)[0][0][:],\n",
    "#                             columns=[str(unknownname)+'_vs_'+str(knownname)+'_peak_Scores Unnormalized'])\n",
    "#         compdf=compdf.assign(Peaks=score_sort(unknown_peaks,known_peaks,1, precision)[0][1][:])\n",
    "    return\n",
    "def test_score_table():\n",
    "    \"documentation\"\n",
    "    hdf5_calfilename = 'ramandecompy/tests/test_files/peakidentify_calibration_test.hdf5'\n",
    "    hdf5_expfilename = 'ramandecompy/tests/test_files/peakidentify_experiment_test.hdf5'\n",
    "    key = '300C/25s'\n",
    "    calhdf5 = h5py.File(hdf5_calfilename, 'r+')\n",
    "    exphdf5 = h5py.File(hdf5_expfilename, 'r+')\n",
    "    unknown_x = list(exphdf5['{}/wavenumber'.format(key)])\n",
    "    unknown_y = list(exphdf5['{}/counts'.format(key)])\n",
    "    unknown_x = np.asarray(unknown_x)\n",
    "    unknown_y = np.asarray(unknown_y)\n",
    "    known_compound_list = list(calhdf5.keys())\n",
    "    precision = 10\n",
    "\n",
    "    unknown_peaks = []\n",
    "    for i, _ in enumerate(list(exphdf5['{}'.format(key)])[:-3]):\n",
    "        if i < 9:\n",
    "            unknown_peaks.append(list(exphdf5['{}/Peak_0{}'.format(key, i+1)])[0][2])\n",
    "        else:\n",
    "            unknown_peaks.append(list(exphdf5['{}/Peak_{}'.format(key, i+1)])[0][2])\n",
    "    H2O_peaks = []\n",
    "    for _,peak in enumerate(list(calhdf5[key5])[:-3]):\n",
    "        H2O_peaks.append(list(calhdf5['{}/{}'.format(key5, peak)])[0][2])\n",
    "    precision = 10\n",
    "    unknown_name = 'Formic3.6wt%'\n",
    "    knownname = 'H2O'\n",
    "    # run good examples\n",
    "    score_table(unknown_peaks,known_peaks,k, precision,unknownname,knownname)\n",
    "    #run bad inputs\n",
    "    try:\n",
    "\n",
    "        score_table('unknown_peaks',H2O_peaks,k, precision,unknownname,knownname)\n",
    "\n",
    "    except TypeError:\n",
    "\n",
    "        print(\"An invalid maxscores from score_max was passed to the function, \"\n",
    "              \"and was handled correctly.\")\n",
    "    try:\n",
    "\n",
    "        score_table(unknown_peaks,'H2O_peaks',k, precision,unknownname,knownname)\n",
    "\n",
    "    except TypeError:\n",
    "\n",
    "        print(\"An invalid maxscores from score_max was passed to the function, \"\n",
    "              \"and was handled correctly.\")\n",
    "    try:\n",
    "\n",
    "        score_table(unknown_peaks,H2O_peaks,'k', precision,unknownname,knownname)\n",
    "\n",
    "    except TypeError:\n",
    "\n",
    "        print(\"An invalid maxscores from score_max was passed to the function, \"\n",
    "              \"and was handled correctly.\")\n",
    "        \n",
    "    try:\n",
    "\n",
    "        score_table(unknown_peaks,H2O_peaks,k, 'precision',unknownname,knownname)\n",
    "\n",
    "    except TypeError:\n",
    "\n",
    "        print(\"An invalid maxscores from score_max was passed to the function, \"\n",
    "              \"and was handled correctly.\")\n",
    "    try:\n",
    "\n",
    "        score_table(unknown_peaks,H2O_peaks,k, precision,3,knownname)\n",
    "\n",
    "    except TypeError:\n",
    "\n",
    "        print(\"An invalid maxscores from score_max was passed to the function, \"\n",
    "              \"and was handled correctly.\")\n",
    "    try:\n",
    "\n",
    "        score_table(unknown_peaks,H2O_peaks,k, precision,unknownname,3)\n",
    "\n",
    "    except TypeError:\n",
    "\n",
    "        print(\"An invalid maxscores from score_max was passed to the function, \"\n",
    "              \"and was handled correctly.\")\n",
    "    # make assertions\n",
    "    \n",
    "#     k_range = range(1,len(known_peaks)+2)\n",
    "#     frames = [ process_score(unknown_peaks,known_peaks,k, precision,unknownname,knownname) for k in k_range ]\n",
    "#     result = pd.concat(frames,axis=1, join='outer', join_axes=None, ignore_index=False,\n",
    "#               keys=None, levels=None, names=None, verify_integrity=False,\n",
    "#               copy=True,sort=True)                                \n",
    "exphdf5.close()\n",
    "calhdf5.close()\n",
    "hdf5.close()"
   ]
  },
  {
   "cell_type": "markdown",
   "metadata": {},
   "source": [
    "# Peakidentify.py Function (will be deleted for final version)"
   ]
  },
  {
   "cell_type": "code",
   "execution_count": 36,
   "metadata": {},
   "outputs": [
    {
     "name": "stdout",
     "output_type": "stream",
     "text": [
      "(2.666322015842937e-06, 9.477841225773703, 314.77, 251.85262399390513, 18.955682451547407, 12.48172103404355, 251.85249801424473, '[Hydrogen]')\n"
     ]
    },
    {
     "data": {
      "text/html": [
       "<div>\n",
       "<style scoped>\n",
       "    .dataframe tbody tr th:only-of-type {\n",
       "        vertical-align: middle;\n",
       "    }\n",
       "\n",
       "    .dataframe tbody tr th {\n",
       "        vertical-align: top;\n",
       "    }\n",
       "\n",
       "    .dataframe thead th {\n",
       "        text-align: right;\n",
       "    }\n",
       "</style>\n",
       "<table border=\"1\" class=\"dataframe\">\n",
       "  <thead>\n",
       "    <tr style=\"text-align: right;\">\n",
       "      <th></th>\n",
       "      <th>0</th>\n",
       "    </tr>\n",
       "  </thead>\n",
       "  <tbody>\n",
       "    <tr>\n",
       "      <th>0</th>\n",
       "      <td>2.66632e-06</td>\n",
       "    </tr>\n",
       "    <tr>\n",
       "      <th>1</th>\n",
       "      <td>9.47784</td>\n",
       "    </tr>\n",
       "    <tr>\n",
       "      <th>2</th>\n",
       "      <td>314.77</td>\n",
       "    </tr>\n",
       "    <tr>\n",
       "      <th>3</th>\n",
       "      <td>251.853</td>\n",
       "    </tr>\n",
       "    <tr>\n",
       "      <th>4</th>\n",
       "      <td>18.9557</td>\n",
       "    </tr>\n",
       "    <tr>\n",
       "      <th>5</th>\n",
       "      <td>12.4817</td>\n",
       "    </tr>\n",
       "    <tr>\n",
       "      <th>6</th>\n",
       "      <td>251.852</td>\n",
       "    </tr>\n",
       "    <tr>\n",
       "      <th>7</th>\n",
       "      <td>[Hydrogen]</td>\n",
       "    </tr>\n",
       "  </tbody>\n",
       "</table>\n",
       "</div>"
      ],
      "text/plain": [
       "             0\n",
       "0  2.66632e-06\n",
       "1      9.47784\n",
       "2       314.77\n",
       "3      251.853\n",
       "4      18.9557\n",
       "5      12.4817\n",
       "6      251.852\n",
       "7   [Hydrogen]"
      ]
     },
     "execution_count": 36,
     "metadata": {},
     "output_type": "execute_result"
    }
   ],
   "source": [
    "\n",
    "hdf5_filename = 'peakidentify_label_test.hdf5'\n",
    "key = '300C/25s'\n",
    "peak = 'Peak_01'\n",
    "label = '[Hydrogen]'\n",
    "\n",
    "data = peakidentify.add_label(hdf5_filename, key, peak, label)\n",
    "data\n",
    "                "
   ]
  },
  {
   "cell_type": "code",
   "execution_count": 37,
   "metadata": {},
   "outputs": [
    {
     "data": {
      "text/plain": [
       "(2.66632202e-06, 9.47784123, 314.77, 251.85262399, 18.95568245, 12.48172103, 251.85249801, '[Hydrogen]')"
      ]
     },
     "execution_count": 37,
     "metadata": {},
     "output_type": "execute_result"
    }
   ],
   "source": [
    "hdf5 = h5py.File(hdf5_filename, 'r+') \n",
    "foo = hdf5['{}/{}'.format(key, peak)][0]\n",
    "foo"
   ]
  },
  {
   "cell_type": "code",
   "execution_count": 38,
   "metadata": {},
   "outputs": [
    {
     "data": {
      "text/plain": [
       "(1, 2, 3, 4, 5, 6, 7)"
      ]
     },
     "execution_count": 38,
     "metadata": {},
     "output_type": "execute_result"
    }
   ],
   "source": [
    "result = [1,2,3,4,5,6,7,8]\n",
    "foo = [tuple(result[:7]),]\n",
    "foo[0]"
   ]
  },
  {
   "cell_type": "code",
   "execution_count": 39,
   "metadata": {},
   "outputs": [],
   "source": [
    "data = tuple(result[:7])\n",
    "data_array = np.array(data, dtype='<f8')"
   ]
  },
  {
   "cell_type": "code",
   "execution_count": 40,
   "metadata": {},
   "outputs": [
    {
     "data": {
      "text/plain": [
       "array([1., 2., 3., 4., 5., 6., 7.])"
      ]
     },
     "execution_count": 40,
     "metadata": {},
     "output_type": "execute_result"
    }
   ],
   "source": [
    "data_array"
   ]
  },
  {
   "cell_type": "code",
   "execution_count": 41,
   "metadata": {},
   "outputs": [],
   "source": [
    "hdf5.close()"
   ]
  },
  {
   "cell_type": "markdown",
   "metadata": {},
   "source": [
    "## Testing the functions in the ^^above .py function (will probs be deleted for final)"
   ]
  },
  {
   "cell_type": "code",
   "execution_count": 42,
   "metadata": {},
   "outputs": [
    {
     "name": "stdout",
     "output_type": "stream",
     "text": [
      "[0. 0. 0. 0. 0. 0. 0. 0. 0. 1. 0. 1. 0. 0. 0. 0.]\n",
      "[0. 0. 0. 0. 0. 0. 0. 0. 0. 0. 0. 0. 0. 0. 0. 0.]\n",
      "[0. 0. 0. 0. 0. 0. 0. 0. 0. 0. 0. 0. 1. 0. 0. 0.]\n",
      "[0. 0. 0. 0. 0. 0. 0. 0. 0. 0. 0. 0. 0. 0. 1. 0.]\n",
      "[0. 0. 0. 0. 0. 1. 0. 1. 1. 1. 0. 1. 0. 0. 1. 0.]\n",
      "[0. 0. 0. 0. 0. 0. 0. 0. 0. 0. 1. 0. 0. 0. 0. 1.]\n",
      "[0. 0. 0. 0. 1. 0. 0. 0. 0. 0. 0. 0. 0. 0. 0. 0.]\n",
      "[0. 0. 0. 0. 0. 0. 0. 0. 0. 0. 0. 0. 0. 0. 0. 0.]\n",
      "[0. 1. 1. 0. 1. 0. 1. 0. 0. 0. 0. 0. 0. 0. 0. 0.]\n",
      "The function correctly handled the error\n",
      "        when an int was input instead of the unknown_x list\n",
      "The function correctly handled the error when an int\n",
      "        was input instead of the unknown_y list\n",
      "The function correctly handled the error when a string\n",
      "        was input instead of the unknown_peaks list\n",
      "The function correctly handled the error when an int\n",
      "        was input instead of the unknown_peak_assignments\n",
      "The function correctly handled the case when an int\n",
      "        was passed in the unknown_peak_assignment list\n",
      "The function correctly handled the case when an int\n",
      "        was passed in the unknown_peak_assignment list\n",
      "The function correctly handled the case when an int\n",
      "        was passed in the hdf5_filename\n",
      "The function correctly handled the case when an int\n",
      "        was passed in the hdf5_calfilename\n"
     ]
    }
   ],
   "source": [
    "test_plotting_peak_assignments()"
   ]
  },
  {
   "cell_type": "code",
   "execution_count": 43,
   "metadata": {},
   "outputs": [
    {
     "name": "stdout",
     "output_type": "stream",
     "text": [
      "An invalid maxscores from score_max was passed to the function, and was handled correctly.\n",
      "An invalid maxscores from score_max was passed to the function, and was handled correctly.\n"
     ]
    }
   ],
   "source": [
    "test_score_sort()"
   ]
  },
  {
   "cell_type": "code",
   "execution_count": 44,
   "metadata": {},
   "outputs": [
    {
     "name": "stdout",
     "output_type": "stream",
     "text": [
      "An invalid k value was passed to the function, and was handled correctly.\n",
      "An invalid k value was passed to the function, and was handled correctly.\n"
     ]
    }
   ],
   "source": [
    "test_score_max()"
   ]
  },
  {
   "cell_type": "code",
   "execution_count": 45,
   "metadata": {},
   "outputs": [
    {
     "name": "stdout",
     "output_type": "stream",
     "text": [
      "An invalid scoremax value was passed to the function, and was handled correctly.\n",
      "An invalid scoremax value was passed to the function, and was handled correctly.\n"
     ]
    }
   ],
   "source": [
    "test_peak_1d_score()"
   ]
  },
  {
   "cell_type": "code",
   "execution_count": 46,
   "metadata": {},
   "outputs": [
    {
     "name": "stdout",
     "output_type": "stream",
     "text": [
      "[0. 0. 0. 0. 0. 0. 0. 0. 0. 1. 0. 1. 0. 0. 0. 0.]\n",
      "[0. 0. 0. 0. 0. 0. 0. 0. 0. 0. 0. 0. 0. 0. 0. 0.]\n",
      "[0. 0. 0. 0. 0. 0. 0. 0. 0. 0. 0. 0. 1. 0. 0. 0.]\n",
      "[0. 0. 0. 0. 0. 0. 0. 0. 0. 0. 0. 0. 0. 0. 1. 0.]\n",
      "[0. 0. 0. 0. 0. 1. 0. 1. 1. 1. 0. 1. 0. 0. 1. 0.]\n",
      "[0. 0. 0. 0. 0. 0. 0. 0. 0. 0. 1. 0. 0. 0. 0. 1.]\n",
      "[0. 0. 0. 0. 1. 0. 0. 0. 0. 0. 0. 0. 0. 0. 0. 0.]\n",
      "[0. 0. 0. 0. 0. 0. 0. 0. 0. 0. 0. 0. 0. 0. 0. 0.]\n",
      "[0. 1. 1. 0. 1. 0. 1. 0. 0. 0. 0. 0. 0. 0. 0. 0.]\n",
      "An invalid unknown_peaks value was passed to the function, and was handled correctly.\n",
      "An invalid known_peaks value was passed to the function, and was handled correctly.\n",
      "An invalid association_matrix value was passed to the function,and was handled correctly.\n",
      "[1. 1. 1. 1. 1. 1. 1. 1.]\n",
      "[1. 1. 1. 1. 1. 1. 1. 1.]\n",
      "Acetaldehyde\n",
      "Unassigned\n"
     ]
    }
   ],
   "source": [
    "test_peak_position_comparisons()"
   ]
  },
  {
   "cell_type": "code",
   "execution_count": 47,
   "metadata": {},
   "outputs": [
    {
     "name": "stdout",
     "output_type": "stream",
     "text": [
      "[0. 0. 0. 0. 0. 0. 0. 0. 0. 1. 0. 1. 0. 0. 0. 0.]\n",
      "[0. 0. 0. 0. 0. 0. 0. 0. 0. 0. 0. 0. 0. 0. 0. 0.]\n",
      "[0. 0. 0. 0. 0. 0. 0. 0. 0. 0. 0. 0. 1. 0. 0. 0.]\n",
      "[0. 0. 0. 0. 0. 0. 0. 0. 0. 0. 0. 0. 0. 0. 1. 0.]\n",
      "[0. 0. 0. 0. 0. 1. 0. 1. 1. 1. 0. 1. 0. 0. 1. 0.]\n",
      "[0. 0. 0. 0. 0. 0. 0. 0. 0. 0. 1. 0. 0. 0. 0. 1.]\n",
      "[0. 0. 0. 0. 1. 0. 0. 0. 0. 0. 0. 0. 0. 0. 0. 0.]\n",
      "[0. 0. 0. 0. 0. 0. 0. 0. 0. 0. 0. 0. 0. 0. 0. 0.]\n",
      "[0. 1. 1. 0. 1. 0. 1. 0. 0. 0. 0. 0. 0. 0. 0. 0.]\n",
      "The function correctly handled the error when an int\n",
      "        was input instead of the known_peaks list\n",
      "The function correctly handled the error when an int\n",
      "        was input instead of the association matrix\n",
      "[858.1315115115115, 930.3443643643643, 1098.8410210210209, 1354.5948748748747, 1402.7367767767767, 1450.8786786786784, 1715.659139139139, 2928.233293293293]\n"
     ]
    }
   ],
   "source": [
    "test_percentage_of_peaks_found()"
   ]
  },
  {
   "cell_type": "code",
   "execution_count": 48,
   "metadata": {},
   "outputs": [
    {
     "name": "stdout",
     "output_type": "stream",
     "text": [
      "[0. 0. 0. 0. 0. 0. 0. 0. 0. 1. 0. 1. 0. 0. 0. 0.]\n",
      "An invalid unknown_peaks value was passed to the function, and was handled correctly.\n",
      "An invalid known_peaks value was passed to the function, and was handled correctly.\n",
      "An invalid precision value was passed to the function, and was handled correctly.\n",
      "[0. 0. 0. 0. 0. 0. 0. 0. 0. 1. 0. 1. 0. 0. 0. 0.]\n",
      "[1. 1. 1. 1. 1. 1. 1. 1. 1.]\n",
      "[0. 0. 0.]\n"
     ]
    }
   ],
   "source": [
    "test_compare_unknown_to_known()"
   ]
  },
  {
   "cell_type": "code",
   "execution_count": 49,
   "metadata": {
    "scrolled": false
   },
   "outputs": [
    {
     "name": "stdout",
     "output_type": "stream",
     "text": [
      "The peaks that we found for Acetaldehyde are: \n",
      "858.1315115115115\n",
      "930.3443643643643\n",
      "1098.8410210210209\n",
      "1354.5948748748747\n",
      "1402.7367767767767\n",
      "1450.8786786786784\n",
      "1715.659139139139\n",
      "2928.233293293293\n",
      "[0. 0. 0. 0. 0. 0. 0. 0. 0. 1. 0. 1. 0. 0. 0. 0.]\n",
      "The peaks that we found for CO2 are: \n",
      "1280.4\n",
      "1385.3\n",
      "[0. 0. 0. 0. 0. 0. 0. 0. 0. 0. 0. 0. 0. 0. 0. 0.]\n",
      "The peaks that we found for CarbonMonoxide are: \n",
      "2139.9096496496495\n",
      "[0. 0. 0. 0. 0. 0. 0. 0. 0. 0. 0. 0. 1. 0. 0. 0.]\n",
      "The peaks that we found for Ethane are: \n",
      "993.5306106106106\n",
      "2898.1446046046044\n",
      "2952.3042442442443\n",
      "[0. 0. 0. 0. 0. 0. 0. 0. 0. 0. 0. 0. 0. 0. 1. 0.]\n",
      "The peaks that we found for FormicAcid are: \n",
      "707.31\n",
      "1055.9\n",
      "1219.5\n",
      "1400.1\n",
      "1716.7\n",
      "2940.6\n",
      "[0. 0. 0. 0. 0. 1. 0. 1. 1. 1. 0. 1. 0. 0. 1. 0.]\n",
      "The peaks that we found for H2O are: \n",
      "1640.6\n",
      "3194.4\n",
      "[0. 0. 0. 0. 0. 0. 0. 0. 0. 0. 1. 0. 0. 0. 0. 1.]\n",
      "The peaks that we found for Hydrogen are: \n",
      "355.6504104104104\n",
      "587.3333133133133\n",
      "816.0073473473473\n",
      "1035.6547747747748\n",
      "[0. 0. 0. 0. 1. 0. 0. 0. 0. 0. 0. 0. 0. 0. 0. 0.]\n",
      "The peaks that we found for Propane are: \n",
      "870.1669869869869\n",
      "[0. 0. 0. 0. 0. 0. 0. 0. 0. 0. 0. 0. 0. 0. 0. 0.]\n",
      "The peaks that we found for sapphire are: \n",
      "378.71\n",
      "418.14\n",
      "575.97\n",
      "751.21\n",
      "[0. 1. 1. 0. 1. 0. 1. 0. 0. 0. 0. 0. 0. 0. 0. 0.]\n",
      "[['Unassigned'], ['sapphire'], ['sapphire'], ['Unassigned'], ['Hydrogen', 'sapphire'], ['FormicAcid'], ['sapphire'], ['FormicAcid'], ['FormicAcid'], ['Acetaldehyde', 'FormicAcid'], ['H2O'], ['Acetaldehyde', 'FormicAcid'], ['CarbonMonoxide'], ['Unassigned'], ['Ethane', 'FormicAcid'], ['H2O']]\n",
      "(2.666322015842937e-06, 9.477841225773703, 314.77, 251.85262399390513, 18.955682451547407, 12.48172103404355, 251.85249801424473, \"['Unassigned']\")\n",
      "(0.5068130496276333, 4.012901918496308, 378.71, 1034.0055449667643, 8.025803836992615, 101.25996269002704, 1028.5886858163933, \"['sapphire']\")\n",
      "(0.6367815519010733, 3.8475936151059624, 418.14, 7306.162432573391, 7.695187230211925, 708.8643986283209, 7270.348693191736, \"['sapphire']\")\n",
      "(2.5523146723549495e-05, 2.6996216949362064, 448.67, 193.73416595859723, 5.399243389872413, 33.70835266609269, 193.74061611467974, \"['Unassigned']\")\n",
      "(0.18866601766321645, 4.210622440160284, 578.11, 1090.4680008060532, 8.421244880320568, 114.2498966320069, 1089.4878695237358, \"['Hydrogen', 'sapphire']\")\n",
      "(1.3877787807814457e-15, 20.49787213344091, 711.51, 6837.1469563207365, 40.99574426688182, 156.67652449243113, 6837.146565096084, \"['FormicAcid']\")\n",
      "(6.887132072419533e-07, 7.194622072591115, 751.21, 3533.4394022877746, 14.38924414518223, 230.68925136921567, 3533.4431522474183, \"['sapphire']\")\n",
      "(0.0, 18.005153870991126, 1055.9, 1438.2353910168954, 36.01030774198225, 37.52069967153426, 1438.2350582627107, \"['FormicAcid']\")\n",
      "(0.841160515588578, 29.158867423907406, 1217.6, 20781.336417309234, 58.31773484781481, 243.99745673788982, 20534.06786697443, \"['FormicAcid']\")\n",
      "(0.9999999958720391, 15.84659208464821, 1400.1, 15275.126734146714, 31.69318416929642, 306.830884253449, 15166.600231050901, \"['Acetaldehyde', 'FormicAcid']\")\n",
      "(1.0517497753603777e-05, 47.91728201006456, 1649.3, 35138.18858345742, 95.83456402012912, 344.4478794033547, 35138.17791152145, \"['H2O']\")\n",
      "(0.17905767814449236, 26.21701236943559, 1714.9, 25828.109828259985, 52.43402473887118, 436.04210682097636, 25776.73308522814, \"['Acetaldehyde', 'FormicAcid']\")\n",
      "(0.9999999835630924, 3.7717551873163035, 2137.9, 285.9437174244525, 7.543510374632607, 24.13165975513254, 285.5213391672587, \"['CarbonMonoxide']\")\n",
      "(0.4896056375696482, 3.6081206476853893, 2328.9, 255.9545663544563, 7.216241295370779, 28.062412623082338, 255.75275214220022, \"['Unassigned']\")\n",
      "(1.609823385706477e-15, 21.97860910902188, 2948.2, 3553.088421439357, 43.95721821804376, 75.93528100570454, 3553.088910320359, \"['Ethane', 'FormicAcid']\")\n",
      "(0.5530107036199006, 79.80955569124941, 3185.1, 53203.06147074777, 159.61911138249883, 257.3093153411256, 41554.5553534982, \"['H2O']\")\n",
      "{'Acetaldehyde': 25.0, 'CO2': 0.0, 'CarbonMonoxide': 100.0, 'Ethane': 33.33333333333333, 'FormicAcid': 100.0, 'H2O': 100.0, 'Hydrogen': 25.0, 'Propane': 0.0, 'sapphire': 100.0}\n",
      "The peaks that we found for Acetaldehyde are: \n",
      "858.1315115115115\n",
      "930.3443643643643\n",
      "1098.8410210210209\n",
      "1354.5948748748747\n",
      "1402.7367767767767\n",
      "1450.8786786786784\n",
      "1715.659139139139\n",
      "2928.233293293293\n",
      "[0. 0. 0. 0. 0. 0. 0. 0. 0. 1. 0. 1. 0. 0. 0. 0.]\n",
      "The peaks that we found for CO2 are: \n",
      "1280.4\n",
      "1385.3\n",
      "[0. 0. 0. 0. 0. 0. 0. 0. 0. 0. 0. 0. 0. 0. 0. 0.]\n",
      "The peaks that we found for CarbonMonoxide are: \n",
      "2139.9096496496495\n",
      "[0. 0. 0. 0. 0. 0. 0. 0. 0. 0. 0. 0. 1. 0. 0. 0.]\n",
      "The peaks that we found for Ethane are: \n",
      "993.5306106106106\n",
      "2898.1446046046044\n",
      "2952.3042442442443\n",
      "[0. 0. 0. 0. 0. 0. 0. 0. 0. 0. 0. 0. 0. 0. 1. 0.]\n",
      "The peaks that we found for FormicAcid are: \n",
      "707.31\n",
      "1055.9\n",
      "1219.5\n",
      "1400.1\n",
      "1716.7\n",
      "2940.6\n",
      "[0. 0. 0. 0. 0. 1. 0. 1. 1. 1. 0. 1. 0. 0. 1. 0.]\n",
      "The peaks that we found for H2O are: \n",
      "1640.6\n",
      "3194.4\n",
      "[0. 0. 0. 0. 0. 0. 0. 0. 0. 0. 1. 0. 0. 0. 0. 1.]\n",
      "The peaks that we found for Hydrogen are: \n",
      "355.6504104104104\n",
      "587.3333133133133\n",
      "816.0073473473473\n",
      "1035.6547747747748\n",
      "[0. 0. 0. 0. 1. 0. 0. 0. 0. 0. 0. 0. 0. 0. 0. 0.]\n",
      "The peaks that we found for Propane are: \n",
      "870.1669869869869\n",
      "[0. 0. 0. 0. 0. 0. 0. 0. 0. 0. 0. 0. 0. 0. 0. 0.]\n",
      "The peaks that we found for sapphire are: \n",
      "378.71\n",
      "418.14\n",
      "575.97\n",
      "751.21\n",
      "[0. 1. 1. 0. 1. 0. 1. 0. 0. 0. 0. 0. 0. 0. 0. 0.]\n",
      "[['Unassigned'], ['sapphire'], ['sapphire'], ['Unassigned'], ['Hydrogen', 'sapphire'], ['FormicAcid'], ['sapphire'], ['FormicAcid'], ['FormicAcid'], ['Acetaldehyde', 'FormicAcid'], ['H2O'], ['Acetaldehyde', 'FormicAcid'], ['CarbonMonoxide'], ['Unassigned'], ['Ethane', 'FormicAcid'], ['H2O']]\n",
      "(2.666322015842937e-06, 9.477841225773703, 314.77, 251.85262399390513, 18.955682451547407, 12.48172103404355, 251.85249801424473, \"['Unassigned']\")\n",
      "(0.5068130496276333, 4.012901918496308, 378.71, 1034.0055449667643, 8.025803836992615, 101.25996269002704, 1028.5886858163933, \"['sapphire']\")\n",
      "(0.6367815519010733, 3.8475936151059624, 418.14, 7306.162432573391, 7.695187230211925, 708.8643986283209, 7270.348693191736, \"['sapphire']\")\n",
      "(2.5523146723549495e-05, 2.6996216949362064, 448.67, 193.73416595859723, 5.399243389872413, 33.70835266609269, 193.74061611467974, \"['Unassigned']\")\n",
      "(0.18866601766321645, 4.210622440160284, 578.11, 1090.4680008060532, 8.421244880320568, 114.2498966320069, 1089.4878695237358, \"['Hydrogen', 'sapphire']\")\n",
      "(1.3877787807814457e-15, 20.49787213344091, 711.51, 6837.1469563207365, 40.99574426688182, 156.67652449243113, 6837.146565096084, \"['FormicAcid']\")\n",
      "(6.887132072419533e-07, 7.194622072591115, 751.21, 3533.4394022877746, 14.38924414518223, 230.68925136921567, 3533.4431522474183, \"['sapphire']\")\n",
      "(0.0, 18.005153870991126, 1055.9, 1438.2353910168954, 36.01030774198225, 37.52069967153426, 1438.2350582627107, \"['FormicAcid']\")\n",
      "(0.841160515588578, 29.158867423907406, 1217.6, 20781.336417309234, 58.31773484781481, 243.99745673788982, 20534.06786697443, \"['FormicAcid']\")\n",
      "(0.9999999958720391, 15.84659208464821, 1400.1, 15275.126734146714, 31.69318416929642, 306.830884253449, 15166.600231050901, \"['Acetaldehyde', 'FormicAcid']\")\n",
      "(1.0517497753603777e-05, 47.91728201006456, 1649.3, 35138.18858345742, 95.83456402012912, 344.4478794033547, 35138.17791152145, \"['H2O']\")\n",
      "(0.17905767814449236, 26.21701236943559, 1714.9, 25828.109828259985, 52.43402473887118, 436.04210682097636, 25776.73308522814, \"['Acetaldehyde', 'FormicAcid']\")\n",
      "(0.9999999835630924, 3.7717551873163035, 2137.9, 285.9437174244525, 7.543510374632607, 24.13165975513254, 285.5213391672587, \"['CarbonMonoxide']\")\n",
      "(0.4896056375696482, 3.6081206476853893, 2328.9, 255.9545663544563, 7.216241295370779, 28.062412623082338, 255.75275214220022, \"['Unassigned']\")\n",
      "(1.609823385706477e-15, 21.97860910902188, 2948.2, 3553.088421439357, 43.95721821804376, 75.93528100570454, 3553.088910320359, \"['Ethane', 'FormicAcid']\")\n",
      "(0.5530107036199006, 79.80955569124941, 3185.1, 53203.06147074777, 159.61911138249883, 257.3093153411256, 41554.5553534982, \"['H2O']\")\n",
      "{'Acetaldehyde': 25.0, 'CO2': 0.0, 'CarbonMonoxide': 100.0, 'Ethane': 33.33333333333333, 'FormicAcid': 100.0, 'H2O': 100.0, 'Hydrogen': 25.0, 'Propane': 0.0, 'sapphire': 100.0}\n",
      "An invalid precision value was passed to the function, and it was handled well with a TypeError.\n",
      "An invalid export label value was passed to the function, and it was handled well with a TypeError.\n",
      "An invalid plot value was passed to the function, and it was handled well with a TypeError.\n"
     ]
    }
   ],
   "source": [
    "test_peak_assignment()"
   ]
  },
  {
   "cell_type": "code",
   "execution_count": 50,
   "metadata": {},
   "outputs": [
    {
     "name": "stdout",
     "output_type": "stream",
     "text": [
      "(2.666322015842937e-06, 9.477841225773703, 314.77, 251.85262399390513, 18.955682451547407, 12.48172103404355, 251.85249801424473, '[Hydrogen]')\n",
      "An invalid hdf5_filename was passed to the function, and it was handled well with a TypeError.\n",
      "An invalid key was passed to the function, and it was handled well with a TypeError.\n",
      "An invalid peak was passed to the function, and it was handled well with a TypeError.\n",
      "An invalid label was passed to the function, and it was handled well with a TypeError.\n"
     ]
    }
   ],
   "source": [
    "test_add_label()"
   ]
  },
  {
   "cell_type": "code",
   "execution_count": 51,
   "metadata": {},
   "outputs": [
    {
     "data": {
      "text/plain": [
       "(<Figure size 1080x432 with 2 Axes>,\n",
       " <matplotlib.axes._subplots.AxesSubplot at 0x225c4ca3438>,\n",
       " <matplotlib.axes._subplots.AxesSubplot at 0x225c4c997b8>)"
      ]
     },
     "execution_count": 51,
     "metadata": {},
     "output_type": "execute_result"
    },
    {
     "data": {
      "image/png": "[encoded data removed]",
      "text/plain": [
       "<Figure size 1080x432 with 2 Axes>"
      ]
     },
     "metadata": {
      "needs_background": "light"
     },
     "output_type": "display_data"
    }
   ],
   "source": [
    "datavis.plot_fit('peakidentify_experiment_test.hdf5', '300C/25s')"
   ]
  },
  {
   "cell_type": "code",
   "execution_count": 52,
   "metadata": {},
   "outputs": [
    {
     "name": "stdout",
     "output_type": "stream",
     "text": [
      "**** peakidentify_experiment_test.hdf5 ****\n",
      "\u001b[1m300C\u001b[0m\n",
      "|    \u001b[1m25s\u001b[0m\n",
      "|    |    Peak_01\n",
      "|    |    Peak_02\n",
      "|    |    Peak_03\n",
      "|    |    Peak_04\n",
      "|    |    Peak_05\n",
      "|    |    Peak_06\n",
      "|    |    Peak_07\n",
      "|    |    Peak_08\n",
      "|    |    Peak_09\n",
      "|    |    Peak_10\n",
      "|    |    Peak_11\n",
      "|    |    Peak_12\n",
      "|    |    Peak_13\n",
      "|    |    Peak_14\n",
      "|    |    Peak_15\n",
      "|    |    Peak_16\n",
      "|    |    counts\n",
      "|    |    residuals\n",
      "|    |    wavenumber\n"
     ]
    }
   ],
   "source": [
    "dataprep.view_hdf5('peakidentify_experiment_test.hdf5')"
   ]
  },
  {
   "cell_type": "markdown",
   "metadata": {},
   "source": [
    "# Example 1: Peakidentify w/o wrapper"
   ]
  },
  {
   "cell_type": "code",
   "execution_count": 53,
   "metadata": {},
   "outputs": [],
   "source": [
    "dataprep.new_hdf5('peakidentify_experiment_testnoadd')"
   ]
  },
  {
   "cell_type": "code",
   "execution_count": 54,
   "metadata": {},
   "outputs": [
    {
     "name": "stdout",
     "output_type": "stream",
     "text": [
      "Data from ../ramandecompy/tests/test_files/FA_3.6wt%_300C_25s.csv fit with compound pseudo-Voigt model. Results saved to peakidentify_experiment_testnoadd.hdf5.\n"
     ]
    }
   ],
   "source": [
    "dataprep.add_experiment('peakidentify_experiment_testnoadd.hdf5', '../ramandecompy/tests/test_files/FA_3.6wt%_300C_25s.csv')"
   ]
  },
  {
   "cell_type": "code",
   "execution_count": 55,
   "metadata": {
    "scrolled": false
   },
   "outputs": [
    {
     "ename": "KeyError",
     "evalue": "\"Unable to open object (object 'Propane' doesn't exist)\"",
     "output_type": "error",
     "traceback": [
      "\u001b[1;31m---------------------------------------------------------------------------\u001b[0m",
      "\u001b[1;31mKeyError\u001b[0m                                  Traceback (most recent call last)",
      "\u001b[1;32m<ipython-input-55-c434aefce956>\u001b[0m in \u001b[0;36m<module>\u001b[1;34m\u001b[0m\n\u001b[0;32m     41\u001b[0m \u001b[1;32mfor\u001b[0m \u001b[0m_\u001b[0m\u001b[1;33m,\u001b[0m\u001b[0mpeak\u001b[0m \u001b[1;32min\u001b[0m \u001b[0menumerate\u001b[0m\u001b[1;33m(\u001b[0m\u001b[0mlist\u001b[0m\u001b[1;33m(\u001b[0m\u001b[0mcalhdf5\u001b[0m\u001b[1;33m[\u001b[0m\u001b[0mkey5\u001b[0m\u001b[1;33m]\u001b[0m\u001b[1;33m)\u001b[0m\u001b[1;33m[\u001b[0m\u001b[1;33m:\u001b[0m\u001b[1;33m-\u001b[0m\u001b[1;36m3\u001b[0m\u001b[1;33m]\u001b[0m\u001b[1;33m)\u001b[0m\u001b[1;33m:\u001b[0m\u001b[1;33m\u001b[0m\u001b[1;33m\u001b[0m\u001b[0m\n\u001b[0;32m     42\u001b[0m     \u001b[0mH2O_peaks\u001b[0m\u001b[1;33m.\u001b[0m\u001b[0mappend\u001b[0m\u001b[1;33m(\u001b[0m\u001b[0mlist\u001b[0m\u001b[1;33m(\u001b[0m\u001b[0mcalhdf5\u001b[0m\u001b[1;33m[\u001b[0m\u001b[1;34m'{}/{}'\u001b[0m\u001b[1;33m.\u001b[0m\u001b[0mformat\u001b[0m\u001b[1;33m(\u001b[0m\u001b[0mkey5\u001b[0m\u001b[1;33m,\u001b[0m \u001b[0mpeak\u001b[0m\u001b[1;33m)\u001b[0m\u001b[1;33m]\u001b[0m\u001b[1;33m)\u001b[0m\u001b[1;33m[\u001b[0m\u001b[1;36m0\u001b[0m\u001b[1;33m]\u001b[0m\u001b[1;33m[\u001b[0m\u001b[1;36m2\u001b[0m\u001b[1;33m]\u001b[0m\u001b[1;33m)\u001b[0m\u001b[1;33m\u001b[0m\u001b[1;33m\u001b[0m\u001b[0m\n\u001b[1;32m---> 43\u001b[1;33m \u001b[1;32mfor\u001b[0m \u001b[0m_\u001b[0m\u001b[1;33m,\u001b[0m\u001b[0mpeak\u001b[0m \u001b[1;32min\u001b[0m \u001b[0menumerate\u001b[0m\u001b[1;33m(\u001b[0m\u001b[0mlist\u001b[0m\u001b[1;33m(\u001b[0m\u001b[0mcalhdf5\u001b[0m\u001b[1;33m[\u001b[0m\u001b[0mkey6\u001b[0m\u001b[1;33m]\u001b[0m\u001b[1;33m)\u001b[0m\u001b[1;33m[\u001b[0m\u001b[1;33m:\u001b[0m\u001b[1;33m-\u001b[0m\u001b[1;36m3\u001b[0m\u001b[1;33m]\u001b[0m\u001b[1;33m)\u001b[0m\u001b[1;33m:\u001b[0m\u001b[1;33m\u001b[0m\u001b[1;33m\u001b[0m\u001b[0m\n\u001b[0m\u001b[0;32m     44\u001b[0m     \u001b[0mprop_peaks\u001b[0m\u001b[1;33m.\u001b[0m\u001b[0mappend\u001b[0m\u001b[1;33m(\u001b[0m\u001b[0mlist\u001b[0m\u001b[1;33m(\u001b[0m\u001b[0mcalhdf5\u001b[0m\u001b[1;33m[\u001b[0m\u001b[1;34m'{}/{}'\u001b[0m\u001b[1;33m.\u001b[0m\u001b[0mformat\u001b[0m\u001b[1;33m(\u001b[0m\u001b[0mkey6\u001b[0m\u001b[1;33m,\u001b[0m \u001b[0mpeak\u001b[0m\u001b[1;33m)\u001b[0m\u001b[1;33m]\u001b[0m\u001b[1;33m)\u001b[0m\u001b[1;33m[\u001b[0m\u001b[1;36m0\u001b[0m\u001b[1;33m]\u001b[0m\u001b[1;33m[\u001b[0m\u001b[1;36m2\u001b[0m\u001b[1;33m]\u001b[0m\u001b[1;33m)\u001b[0m\u001b[1;33m\u001b[0m\u001b[1;33m\u001b[0m\u001b[0m\n\u001b[0;32m     45\u001b[0m \u001b[1;32mfor\u001b[0m \u001b[0m_\u001b[0m\u001b[1;33m,\u001b[0m\u001b[0mpeak\u001b[0m \u001b[1;32min\u001b[0m \u001b[0menumerate\u001b[0m\u001b[1;33m(\u001b[0m\u001b[0mlist\u001b[0m\u001b[1;33m(\u001b[0m\u001b[0mcalhdf5\u001b[0m\u001b[1;33m[\u001b[0m\u001b[0mkey7\u001b[0m\u001b[1;33m]\u001b[0m\u001b[1;33m)\u001b[0m\u001b[1;33m[\u001b[0m\u001b[1;33m:\u001b[0m\u001b[1;33m-\u001b[0m\u001b[1;36m3\u001b[0m\u001b[1;33m]\u001b[0m\u001b[1;33m)\u001b[0m\u001b[1;33m:\u001b[0m\u001b[1;33m\u001b[0m\u001b[1;33m\u001b[0m\u001b[0m\n",
      "\u001b[1;32mh5py\\_objects.pyx\u001b[0m in \u001b[0;36mh5py._objects.with_phil.wrapper\u001b[1;34m()\u001b[0m\n",
      "\u001b[1;32mh5py\\_objects.pyx\u001b[0m in \u001b[0;36mh5py._objects.with_phil.wrapper\u001b[1;34m()\u001b[0m\n",
      "\u001b[1;32m~\\Anaconda3\\lib\\site-packages\\h5py\\_hl\\group.py\u001b[0m in \u001b[0;36m__getitem__\u001b[1;34m(self, name)\u001b[0m\n\u001b[0;32m    260\u001b[0m                 \u001b[1;32mraise\u001b[0m \u001b[0mValueError\u001b[0m\u001b[1;33m(\u001b[0m\u001b[1;34m\"Invalid HDF5 object reference\"\u001b[0m\u001b[1;33m)\u001b[0m\u001b[1;33m\u001b[0m\u001b[1;33m\u001b[0m\u001b[0m\n\u001b[0;32m    261\u001b[0m         \u001b[1;32melse\u001b[0m\u001b[1;33m:\u001b[0m\u001b[1;33m\u001b[0m\u001b[1;33m\u001b[0m\u001b[0m\n\u001b[1;32m--> 262\u001b[1;33m             \u001b[0moid\u001b[0m \u001b[1;33m=\u001b[0m \u001b[0mh5o\u001b[0m\u001b[1;33m.\u001b[0m\u001b[0mopen\u001b[0m\u001b[1;33m(\u001b[0m\u001b[0mself\u001b[0m\u001b[1;33m.\u001b[0m\u001b[0mid\u001b[0m\u001b[1;33m,\u001b[0m \u001b[0mself\u001b[0m\u001b[1;33m.\u001b[0m\u001b[0m_e\u001b[0m\u001b[1;33m(\u001b[0m\u001b[0mname\u001b[0m\u001b[1;33m)\u001b[0m\u001b[1;33m,\u001b[0m \u001b[0mlapl\u001b[0m\u001b[1;33m=\u001b[0m\u001b[0mself\u001b[0m\u001b[1;33m.\u001b[0m\u001b[0m_lapl\u001b[0m\u001b[1;33m)\u001b[0m\u001b[1;33m\u001b[0m\u001b[1;33m\u001b[0m\u001b[0m\n\u001b[0m\u001b[0;32m    263\u001b[0m \u001b[1;33m\u001b[0m\u001b[0m\n\u001b[0;32m    264\u001b[0m         \u001b[0motype\u001b[0m \u001b[1;33m=\u001b[0m \u001b[0mh5i\u001b[0m\u001b[1;33m.\u001b[0m\u001b[0mget_type\u001b[0m\u001b[1;33m(\u001b[0m\u001b[0moid\u001b[0m\u001b[1;33m)\u001b[0m\u001b[1;33m\u001b[0m\u001b[1;33m\u001b[0m\u001b[0m\n",
      "\u001b[1;32mh5py\\_objects.pyx\u001b[0m in \u001b[0;36mh5py._objects.with_phil.wrapper\u001b[1;34m()\u001b[0m\n",
      "\u001b[1;32mh5py\\_objects.pyx\u001b[0m in \u001b[0;36mh5py._objects.with_phil.wrapper\u001b[1;34m()\u001b[0m\n",
      "\u001b[1;32mh5py\\h5o.pyx\u001b[0m in \u001b[0;36mh5py.h5o.open\u001b[1;34m()\u001b[0m\n",
      "\u001b[1;31mKeyError\u001b[0m: \"Unable to open object (object 'Propane' doesn't exist)\""
     ]
    }
   ],
   "source": [
    "hdf5_calfilename = 'peakidentify_calibration_file.hdf5'\n",
    "key = 'CarbonMonoxide'\n",
    "key2 = 'Hydrogen'\n",
    "key3 = 'CO2'\n",
    "key4 = 'sapphire'\n",
    "key5 = 'H2O'\n",
    "# key6 = 'Propane'\n",
    "# key7 = 'Ethane'\n",
    "# key8 = 'Acetaldehyde'\n",
    "key9 = 'FormicAcid'\n",
    "hdf5_expfilename = 'peakidentify_experiment_testnoadd.hdf5'\n",
    "expkey = '300C/25s'\n",
    "# open .hdf5\n",
    "calhdf5 = h5py.File(hdf5_calfilename, 'r+')\n",
    "exphdf5 = h5py.File(hdf5_expfilename, 'r+')\n",
    "# extract spectra data\n",
    "known_x = list(calhdf5['{}/wavenumber'.format(key)])\n",
    "known_y = list(calhdf5['{}/counts'.format(key)])\n",
    "residuals = np.asarray(list(exphdf5['{}/residuals'.format(expkey)]))\n",
    "unknown_x = list(exphdf5['{}/wavenumber'.format(expkey)])\n",
    "unknown_y = list(exphdf5['{}/counts'.format(expkey)])\n",
    "# extract fitted peak center values\n",
    "co_peaks = []\n",
    "H_peaks = []\n",
    "CO2_peaks = []\n",
    "sapphire_peaks = []\n",
    "H2O_peaks = []\n",
    "# prop_peaks = []\n",
    "# ethane_peaks = []\n",
    "# alde_peaks = []\n",
    "formic_peaks = []\n",
    "unknown_peaks = []\n",
    "for _,peak in enumerate(list(calhdf5[key])[:-3]):\n",
    "    co_peaks.append(list(calhdf5['{}/{}'.format(key, peak)])[0][2])\n",
    "for _,peak in enumerate(list(calhdf5[key2])[:-3]):\n",
    "    H_peaks.append(list(calhdf5['{}/{}'.format(key2, peak)])[0][2])\n",
    "for _,peak in enumerate(list(calhdf5[key3])[:-3]):\n",
    "    CO2_peaks.append(list(calhdf5['{}/{}'.format(key3, peak)])[0][2])\n",
    "for _,peak in enumerate(list(calhdf5[key4])[:-3]):\n",
    "    sapphire_peaks.append(list(calhdf5['{}/{}'.format(key4, peak)])[0][2])\n",
    "for _,peak in enumerate(list(calhdf5[key5])[:-3]):\n",
    "    H2O_peaks.append(list(calhdf5['{}/{}'.format(key5, peak)])[0][2])\n",
    "# for _,peak in enumerate(list(calhdf5[key6])[:-3]):\n",
    "#     prop_peaks.append(list(calhdf5['{}/{}'.format(key6, peak)])[0][2])\n",
    "# for _,peak in enumerate(list(calhdf5[key7])[:-3]):\n",
    "#     ethane_peaks.append(list(calhdf5['{}/{}'.format(key7, peak)])[0][2])\n",
    "# for _,peak in enumerate(list(calhdf5[key8])[:-3]):\n",
    "#     alde_peaks.append(list(calhdf5['{}/{}'.format(key8, peak)])[0][2])\n",
    "for _,peak in enumerate(list(calhdf5[key])[:-3]):\n",
    "    formic_peaks.append(list(calhdf5['{}/{}'.format(key9, peak)])[0][2])\n",
    "for i,peak in enumerate(list(exphdf5[expkey])[:-3]):\n",
    "    if i < 9:\n",
    "        unknown_peaks.append(list(exphdf5['{}/Peak_0{}'.format(expkey, i+1)])[0][2])\n",
    "    else:\n",
    "        unknown_peaks.append(list(exphdf5['{}/Peak_{}'.format(expkey, i+1)])[0][2])\n",
    "known_x = np.asarray(known_x)\n",
    "known_y = np.asarray(known_y)\n",
    "unknown_x = np.asarray(unknown_x)\n",
    "unknown_y = np.asarray(unknown_y)\n",
    "known_compound_list = list(calhdf5.keys())\n",
    "precision = 10\n",
    "# known_peaks_listtest = [alde_peaks,co_peaks, CO2_peaks,ethane_peaks,formic_peaks, H_peaks, H2O_peaks, sapphire_peaks,prop_peaks]\n",
    "known_peaks_listtest = [co_peaks, CO2_peaks,formic_peaks, H_peaks, H2O_peaks, sapphire_peaks]\n",
    "known_peakstest = []\n",
    "association_matrixtest = []\n",
    "# for i, _ in enumerate(known_compound_list):\n",
    "#     for _,peak in enumerate(list(hdf5[key])[:-3]):\n",
    "#         known_peakstest.append(known_peaks_listtest[i])\n",
    "#         #print(type(known_peaks))\n",
    "#         association_matrixtest.append(compare_unknown_to_known(\n",
    "#             unknown_peakstest, known_peakstest[i], precision,\n",
    "#             hdf5_expfilename, expkey))\n",
    "\n",
    "        \n",
    "#OK, next identify all of the peaks present in the known compound set.\n",
    "    #For efficiency, we'll also compare them against the unknown in the same for loop.\n",
    "known_peaks = []\n",
    "known_peaks_list = []\n",
    "num_peaks_list = []\n",
    "association_matrix = []\n",
    "split__index_list = []\n",
    "for i, _ in enumerate(known_compound_list):\n",
    "    print(\"The peaks that we found for \"\n",
    "      + str(known_compound_list[i]) + \" are: \")\n",
    "    num_peaks_list.append(len(list(calhdf5[known_compound_list[i]])[:-3]))\n",
    "    split__index_list.append(sum(num_peaks_list))\n",
    "    for j,peak in enumerate(list(calhdf5[known_compound_list[i]])[:-3]):\n",
    "        print(list(calhdf5['{}/{}'.format(known_compound_list[i], peak)])[0][2])\n",
    "        # Need to separate known peaks to make a list of two separate lists\n",
    "        # to perform custom list split using list comprehension + zip() and split_index_list\n",
    "        known_peaks_list.append(list(calhdf5['{}/{}'.format(known_compound_list[i], peak)])[0][2])\n",
    "        result = [known_peaks_list[i : j] for i, j in zip([0] + split__index_list, split__index_list + [None])] \n",
    "    known_peaks.append(result)\n",
    "    association_matrix.append(peakidentify.compare_unknown_to_known(\n",
    "        unknown_peaks, known_peaks[i][i], precision))        \n",
    "       \n",
    "\n",
    "unknown_peak_assignments = peakidentify.peak_position_comparisons(\n",
    "    unknown_peaks,\n",
    "    known_peaks,\n",
    "    association_matrix,\n",
    "    hdf5_calfilename)\n",
    "peak_labels=[]\n",
    "for i, _ in enumerate(unknown_peak_assignments):  \n",
    "        peak_labels.append(str(unknown_peak_assignments[i]))\n",
    "frames = []\n",
    "for j, peak in enumerate(list(exphdf5['{}'.format(expkey)])[:-3]):\n",
    "    frames.append(peakidentify.add_label(hdf5_expfilename, expkey, peak, peak_labels[j]))\n",
    "\n",
    "df = pd.concat(frames,axis=1, join='outer', join_axes=None, ignore_index=True,\n",
    "          keys=None, levels=None, names=None, verify_integrity=False,\n",
    "          copy=True,sort=True)\n",
    "df =df.T\n",
    "peakidentify.plotting_peak_assignments(unknown_x,\n",
    "                                       unknown_y,\n",
    "                                       unknown_peaks,\n",
    "                                       unknown_peak_assignments,\n",
    "                                       hdf5_expfilename,\n",
    "                                       hdf5_calfilename, expkey, peak_labels, exportlabelinput = False )\n",
    "percentages = peakidentify.percentage_of_peaks_found(known_peaks[len(known_compound_list)-1],\n",
    "                                            association_matrix,\n",
    "                                            hdf5_calfilename)\n",
    "print(percentages)\n",
    "calhdf5.close()\n",
    "exphdf5.close()"
   ]
  },
  {
   "cell_type": "code",
   "execution_count": null,
   "metadata": {},
   "outputs": [],
   "source": [
    "df"
   ]
  },
  {
   "cell_type": "code",
   "execution_count": null,
   "metadata": {},
   "outputs": [],
   "source": [
    "dataprep.view_hdf5('peakidentify_experiment_testnoadd.hdf5')"
   ]
  },
  {
   "cell_type": "markdown",
   "metadata": {},
   "source": [
    "# Example 2: Wrapper Function - peak_assignment\n",
    "\n",
    "`peak_assignment` takes as parameters five arguments, of which 2 are optional. First, we must pass the hdf5 filename from the experiment hdf5 file, which is the `hdf5_expfilename`. The second parameter is the key from the experiment hdf5 file, which is the `expkey`. The third parameter is the the hdf5 filename from the calibration hdf5 file, which is the `hdf5_filename`. This calibration hdf5 file contains a list of all of the compounds that you want to check your unknown data for. In other words, if a compound data is not passed in this list, then the function will not look to see if that compound is present in your unknown spectrum. Each of these compounds can be refered to by the key function of the hdf5 file. The fourth parameter contains a list of strings all of the compounds that that are in that calibration file mentioned before.  This is the list that we generated above titled `list_of_compounds`, which we passed data for carbon dioxide, hydrogen, methane. An additional note is that the list of compounds from the calibration file will be listed alphabetically due to the functions of the hdf5 file format. Matching this alphabetical order is important when referencing the `list_of_compounds`. Parameter 5 is `precision`, which is an optional parameter. It is defaulted to 0.08, but can be adjusted by passing a different float value. What it does is it sets a boundary for how close the known peak position has to be to an unknown peak for the function to assign the peak. It is a percentage value, so 0.08 is 8 % of the larger of the two peak positions. The default of .08 will encompass all of the peaks in this example, but adjustments are recommended for your own experimental/calibration data. Finally, parameter 6 is `plot`, which is also an optional parameter. It is a Boolean which defaults to True. If True, this will plot the unknown specrta and labels for all of the peaks in said spectra. \n",
    "\n",
    "For our example, we won't mess with those optional parameters.\n",
    "\n",
    "This function will output the list of known peaks for each compound and the plot for the unknown specrta and labels for all of the peaks in said spectra. Additionally, it will output a percentage of how many of the material's peaks are found in the unknown spectrum. This can be used as a metric of confidence."
   ]
  },
  {
   "cell_type": "code",
   "execution_count": null,
   "metadata": {
    "scrolled": false
   },
   "outputs": [],
   "source": [
    "hdf5_calfilename = 'peakidentify_calibration_file.hdf5' #update to hdf5_calfilename\n",
    "hdf5_expfilename = 'peakidentify_experiment_file.hdf5'\n",
    "expkey ='300C/25s'\n",
    "df = peakidentify.peak_assignment(hdf5_expfilename, expkey, hdf5_calfilename, 10)"
   ]
  },
  {
   "cell_type": "code",
   "execution_count": null,
   "metadata": {},
   "outputs": [],
   "source": [
    "df"
   ]
  },
  {
   "cell_type": "code",
   "execution_count": null,
   "metadata": {},
   "outputs": [],
   "source": [
    "expkey = '300C/25s'\n",
    "dataprep.view_hdf5('peakidentify_experiment_file.hdf5')\n",
    "fig, ax1, ax2 = datavis.plot_fit(hdf5_expfilename, expkey)\n",
    "datavis.plot_components(ax1, hdf5_filename, expkey, [1,2,3,4,5,6,7,8,9,10,11,12,13,14,15,16])"
   ]
  },
  {
   "cell_type": "markdown",
   "metadata": {},
   "source": [
    "### Note:\n",
    "Because plot = True, we see a plot of our unknown spectra with lines indicating the positions of identified possible components. \n",
    "\n",
    "To provide additional clarity as to the likelihood of which peaks are correctly assigned, and which are not, a dictionary is printed out after showing the plot. The dictionary contains the name of the compound, followed by a percentage. The percentage is generated by comparing the total number of peaks in the Raman spectra that are found in the unknown spectra. For example, if 1 peak out of 10 possible are found as is the case for carbon dioxide above, it will show a percentage of 10%, whereas for water if it find 3 peaks out of a possible 3, the percentage reported is 100%. This percentage provides an approximate degree of confidence for how likely it is that a compound is present. \n",
    "\n",
    "For this above example, because we see that water and carbon monoxide show a 100% detection percentage, we're quite confident that they are in-fact present in our unknown sample; however, as carbon dioxide only shows a 10% detection percentage, it's not very likely that it is present in our unknown sample. That said, the final value judgement is left to the user, as these percentages are just approximate guidelines. \n",
    "\n",
    "***"
   ]
  },
  {
   "cell_type": "markdown",
   "metadata": {},
   "source": [
    "# Example 3 - Individual Functions of `peakidentify.py`\n"
   ]
  },
  {
   "cell_type": "markdown",
   "metadata": {},
   "source": [
    "Now that you've seen the broad usage of peakidentify.py, we'll walk through the individual functions and spend a bit more time really explaining each individual use-case.\n",
    "\n",
    "You have already been introduced to the first function, a wrapper function called peak_assignment. Following this, the next function is compare_unknown_to_known. This function takes in the peak positions (the wavenumber position for the peak position) for the unknown's spectrum, and compares it to the peaks positions for a single known compound. \n",
    "\n",
    "compare_unknown_to_known takes 3 parameters. The first parameter, combined_peaks is the peak positions of the unknown peaks. The second parameter, known_peaks, is the peak positions of one of the known compounds. The third parameter is precision, which is the maximum percentage difference between an unknown peak position and a known peak position that will be accepted as close enough to give a positive assignment. The function returns a parameter association_matrix, which contains a list of either 1 or 0, which is the assignment value of whether or not a peak from the unknown peak set was found in the passed known peak set. \n",
    "\n",
    "We'll need to generate some data to pass along, then call the function directly."
   ]
  },
  {
   "cell_type": "code",
   "execution_count": null,
   "metadata": {},
   "outputs": [],
   "source": [
    "hdf5_calfilename = 'peakidentify_calibration_file.hdf5'\n",
    "key = 'CarbonMonoxide'\n",
    "key2 = 'Hydrogen'\n",
    "key3 = 'CO2'\n",
    "key4 = 'sapphire'\n",
    "key5 = 'H2O'\n",
    "# key6 = 'Propane'\n",
    "# key7 = 'Ethane'\n",
    "# key8 = 'Acetaldehyde'\n",
    "key9 = 'FormicAcid'\n",
    "hdf5_expfilename = 'peakidentify_experiment_testnoadd.hdf5'\n",
    "expkey = '300C/25s'\n",
    "# open .hdf5\n",
    "calhdf5 = h5py.File(hdf5_calfilename, 'r+')\n",
    "exphdf5 = h5py.File(hdf5_expfilename, 'r+')\n",
    "# extract spectra data\n",
    "known_x = list(calhdf5['{}/wavenumber'.format(key)])\n",
    "known_y = list(calhdf5['{}/counts'.format(key)])\n",
    "residuals = np.asarray(list(exphdf5['{}/residuals'.format(expkey)]))\n",
    "unknown_x = list(exphdf5['{}/wavenumber'.format(expkey)])\n",
    "unknown_y = list(exphdf5['{}/counts'.format(expkey)])\n",
    "# extract fitted peak center values\n",
    "co_peaks = []\n",
    "H_peaks = []\n",
    "CO2_peaks = []\n",
    "sapphire_peaks = []\n",
    "H2O_peaks = []\n",
    "prop_peaks = []\n",
    "ethane_peaks = []\n",
    "alde_peaks = []\n",
    "formic_peaks = []\n",
    "unknown_peaks = []\n",
    "for _,peak in enumerate(list(calhdf5[key])[:-3]):\n",
    "    co_peaks.append(list(calhdf5['{}/{}'.format(key, peak)])[0][2])\n",
    "\n",
    "for _,peak in enumerate(list(calhdf5[key2])[:-3]):\n",
    "    H_peaks.append(list(calhdf5['{}/{}'.format(key2, peak)])[0][2])\n",
    "for _,peak in enumerate(list(calhdf5[key3])[:-3]):\n",
    "    CO2_peaks.append(list(calhdf5['{}/{}'.format(key3, peak)])[0][2])\n",
    "for _,peak in enumerate(list(calhdf5[key4])[:-3]):\n",
    "    sapphire_peaks.append(list(calhdf5['{}/{}'.format(key4, peak)])[0][2])\n",
    "for _,peak in enumerate(list(calhdf5[key5])[:-3]):\n",
    "    H2O_peaks.append(list(calhdf5['{}/{}'.format(key5, peak)])[0][2])\n",
    "for _,peak in enumerate(list(calhdf5[key6])[:-3]):\n",
    "    prop_peaks.append(list(calhdf5['{}/{}'.format(key6, peak)])[0][2])\n",
    "for _,peak in enumerate(list(calhdf5[key7])[:-3]):\n",
    "    ethane_peaks.append(list(calhdf5['{}/{}'.format(key7, peak)])[0][2])\n",
    "for _,peak in enumerate(list(calhdf5[key8])[:-3]):\n",
    "    alde_peaks.append(list(calhdf5['{}/{}'.format(key8, peak)])[0][2])\n",
    "for _,peak in enumerate(list(calhdf5[key])[:-3]):\n",
    "    formic_peaks.append(list(calhdf5['{}/{}'.format(key9, peak)])[0][2])\n",
    "for i,peak in enumerate(list(exphdf5[expkey])[:-3]):\n",
    "    if i < 9:\n",
    "        unknown_peaks.append(list(exphdf5['{}/Peak_0{}'.format(expkey, i+1)])[0][2])\n",
    "    else:\n",
    "        unknown_peaks.append(list(exphdf5['{}/Peak_{}'.format(expkey, i+1)])[0][2])"
   ]
  },
  {
   "cell_type": "code",
   "execution_count": null,
   "metadata": {},
   "outputs": [],
   "source": [
    "peakidentify.compare_unknown_to_known(unknown_peaks, H_peaks, 10)"
   ]
  },
  {
   "cell_type": "code",
   "execution_count": null,
   "metadata": {},
   "outputs": [],
   "source": [
    "peakidentify.compare_unknown_to_known(unknown_peaks, co_peaks, 10)"
   ]
  },
  {
   "cell_type": "code",
   "execution_count": null,
   "metadata": {},
   "outputs": [],
   "source": [
    "peakidentify.compare_unknown_to_known(unknown_peaks, CO2_peaks, 10)"
   ]
  },
  {
   "cell_type": "code",
   "execution_count": null,
   "metadata": {},
   "outputs": [],
   "source": [
    "peakidentify.compare_unknown_to_known(unknown_peaks, sapphire_peaks, 10)"
   ]
  },
  {
   "cell_type": "code",
   "execution_count": null,
   "metadata": {},
   "outputs": [],
   "source": [
    "peakidentify.compare_unknown_to_known(unknown_peaks, H2O_peaks, 10)"
   ]
  },
  {
   "cell_type": "markdown",
   "metadata": {},
   "source": [
    "So, this function, when called to compare water to the unknown peaks, or carbon monoxide to the unknown peaks, we see that it returns an array of 1 and 0. This array is an assignment array. If the array contains a 0, the peak in that position is not found in the known compound. For example, for the water peak comparison, the value of the returned array is 1 at position 0. That means that it is assigning the peak found at position 0 to be possibly coming from water. The 0 in position 2 implies that the unknown peak is not found in water. If we look at position 2 in the carbon monoxide comparison, we see that it is a 1 there. This implies that the peak in position 2, is likely not coming from water, and could possibly be coming from carbon monoxide."
   ]
  },
  {
   "cell_type": "markdown",
   "metadata": {},
   "source": [
    "The next function to investigate is the `peak_position_comparisons`. It takes four parameters. The first is the list of unknown peaks, and the second is the complete list of peaks for known compounds. The third is the list of compounds that the wrapper function should search through. The fourth is the complete association matrix output from the `compare_unknown_to_known` function. By appending together the matrices returned by that function, the full association_matrix is built. We will build a full association matrix, and then pass it to our `peak_position_comparisons` function."
   ]
  },
  {
   "cell_type": "code",
   "execution_count": null,
   "metadata": {},
   "outputs": [],
   "source": [
    "#Build our test data.\n",
    "association_matrix_beta = []\n",
    "known_peaks_beta = [alde_peaks,co_peaks, CO2_peaks,ethane_peaks,formic_peaks, H_peaks, H2O_peaks, sapphire_peaks,prop_peaks]\n",
    "# Note the order that you append to the association_matrix_beta matters \n",
    "# with the known compound list so make sure these match alphabetically\n",
    "# Known peaks beta, order does not matter\n",
    "association_matrix_beta.append(peakidentify.compare_unknown_to_known(unknown_peaks, alde_peaks, 10))\n",
    "association_matrix_beta.append(peakidentify.compare_unknown_to_known(unknown_peaks, co_peaks, 10))\n",
    "association_matrix_beta.append(peakidentify.compare_unknown_to_known(unknown_peaks, CO2_peaks, 10))\n",
    "association_matrix_beta.append(peakidentify.compare_unknown_to_known(unknown_peaks, ethane_peaks, 10))\n",
    "association_matrix_beta.append(peakidentify.compare_unknown_to_known(unknown_peaks, formic_peaks, 10))\n",
    "association_matrix_beta.append(peakidentify.compare_unknown_to_known(unknown_peaks, H_peaks, 10))\n",
    "association_matrix_beta.append(peakidentify.compare_unknown_to_known(unknown_peaks, H2O_peaks, 10))\n",
    "association_matrix_beta.append(peakidentify.compare_unknown_to_known(unknown_peaks, sapphire_peaks, 10))\n",
    "association_matrix_beta.append(peakidentify.compare_unknown_to_known(unknown_peaks, prop_peaks, 10))\n",
    "\n",
    "print(association_matrix_beta)"
   ]
  },
  {
   "cell_type": "code",
   "execution_count": null,
   "metadata": {},
   "outputs": [],
   "source": [
    "known_compound_list"
   ]
  },
  {
   "cell_type": "code",
   "execution_count": null,
   "metadata": {},
   "outputs": [],
   "source": [
    "known_peakstest"
   ]
  },
  {
   "cell_type": "code",
   "execution_count": null,
   "metadata": {
    "scrolled": false
   },
   "outputs": [],
   "source": [
    "peakidentify.peak_position_comparisons(unknown_peaks, known_peaks_beta[len(known_compound_list)-1], association_matrix_beta, hdf5_calfilename)"
   ]
  },
  {
   "cell_type": "markdown",
   "metadata": {},
   "source": [
    "This function returns a list that shows all of the possible assignments for every peak, in a text format. We can see that for the unknown peak in position 0, there is a potential for that peak to have come from Hydrogen or Methane, whereas the peak in position 2, is labelled as Hydrogen. If this function does not find any possible compound for a peak, it returns a value of 'unassigned', which we will show below. PLEASE check matrix"
   ]
  },
  {
   "cell_type": "code",
   "execution_count": null,
   "metadata": {},
   "outputs": [],
   "source": [
    "peakidentify.peak_position_comparisons(unknown_peaks, [co_peaks], [[1., 0., 1., 1., 1., 0., 0., 1., 0., 0., 0., 0., 0., 0., 0., 0.]], hdf5_calfilename)"
   ]
  },
  {
   "cell_type": "code",
   "execution_count": null,
   "metadata": {
    "scrolled": false
   },
   "outputs": [],
   "source": [
    "peakidentify.peak_position_comparisons(unknown_peaks, [CO2_peaks],[[0., 0., 0., 0., 1., 0., 0., 1., 0., 0., 0., 0., 0., 0., 0., 0.]], hdf5_calfilename)"
   ]
  },
  {
   "cell_type": "code",
   "execution_count": null,
   "metadata": {},
   "outputs": [],
   "source": [
    "peakidentify.peak_position_comparisons(unknown_peaks, [H_peaks], [[1., 0., 1., 1., 1., 0., 0., 1., 0., 0., 0., 0., 0., 0., 0., 0.]], hdf5_calfilename)"
   ]
  },
  {
   "cell_type": "code",
   "execution_count": null,
   "metadata": {},
   "outputs": [],
   "source": [
    "peakidentify.peak_position_comparisons(unknown_peaks, [H2O_peaks],[[0., 0., 0., 0., 0., 0., 0., 0., 0., 0., 0., 0., 0., 0., 0., 1.]], hdf5_calfilename)"
   ]
  },
  {
   "cell_type": "code",
   "execution_count": null,
   "metadata": {},
   "outputs": [],
   "source": [
    "peakidentify.peak_position_comparisons(unknown_peaks, [sapphire_peaks],[[0., 1., 0., 0., 1., 0., 0., 0., 0., 0., 0., 0., 0., 0., 0., 0.]], hdf5_calfilename)"
   ]
  },
  {
   "cell_type": "markdown",
   "metadata": {},
   "source": [
    "As you can see, if the peak isn't found, it labels the value as 'unassigned'! \n",
    "\n",
    "Additionally, the association matrix list of 1s and 0s directly correlates to the list of possible assignments, thus changes in the matrix will affect the possible assignments.\n",
    "\n",
    "\n",
    "\n",
    "The next function to be explored is `percentage_of_peaks_found`. This function calculates a percentage value for how many of the peaks from a known compound were found in the unknown peak list. This function takes 3 parameters. The first is a list of known peaks, the second is the full association matrix, and the third is the list of known compounds, as a list of dictionaries. The function returns a dictionary where the keys are all of the titles of the known compounds, and the values of the keys are all of the percentages of found peaks."
   ]
  },
  {
   "cell_type": "code",
   "execution_count": null,
   "metadata": {},
   "outputs": [],
   "source": [
    "# Test pecentage of peaks found case\n",
    "# Adding random lists not associated with the known compound list will throw off the calculations of found peak percent\n",
    "peakidentify.percentage_of_peaks_found( [alde_peaks,co_peaks, CO2_peaks, [1],ethane_peaks,formic_peaks, H_peaks, H2O_peaks, sapphire_peaks,prop_peaks], \n",
    "                          association_matrix_beta, hdf5_calfilename)"
   ]
  },
  {
   "cell_type": "code",
   "execution_count": null,
   "metadata": {},
   "outputs": [],
   "source": [
    "# THe known peaks found must match the order from the known_compound_list\n",
    "peakidentify.percentage_of_peaks_found( [alde_peaks,co_peaks, CO2_peaks,ethane_peaks, formic_peaks, H_peaks, H2O_peaks, sapphire_peaks,prop_peaks], \n",
    "                          association_matrix_beta, hdf5_calfilename)"
   ]
  },
  {
   "cell_type": "code",
   "execution_count": null,
   "metadata": {},
   "outputs": [],
   "source": [
    "peakidentify.percentage_of_peaks_found(known_peaks_beta, \n",
    "                          association_matrix_beta, hdf5_calfilename)"
   ]
  },
  {
   "cell_type": "code",
   "execution_count": null,
   "metadata": {},
   "outputs": [],
   "source": [
    "peakidentify.percentage_of_peaks_found([alde_peaks,[0], [0], [0],[0],[0],[0],[0],[0], [0] ], \n",
    "                          association_matrix_beta, hdf5_calfilename)"
   ]
  },
  {
   "cell_type": "markdown",
   "metadata": {},
   "source": [
    "Ok, above you can see that 100% of the peaks of water are found, as are 100% of the carbon monoxide peaks. This is pretty reasonable, as the unknown spectra was made up of water and carbon monoxide, and it's a good sign. There is a 10% find-rate for carbon dioxide. If we look at the absolute peak positions for carbon dioxide, we see that this is pretty reasonable, as one of the peaks of carbon dioxide closely overlaps with the first peak of water. However, none of the other carbon dioxide peaks overlap, so overall we get a pretty low percentage of carbon dioxide peaks found. Ultimately, it is up to the user to be sure that the percentages and compound list make sense, and to interpret what the percentages mean.\n",
    "\n",
    "The next function in the peakidentify system is the `plotting_peak_assignments` function, which plot the full unknown spectra, and labels each of the peaks in the unknown spectra with all of the possible compounds present. It takes as inputs 4 parameters. The first is the unknown_x data from before, and the second is the unknown_y data, also from before. The third input is the list of unknown peaks, and the fourth input is the list of assignments for each of those unknown peaks. It does not return any values, but it does generate a plot of all of the input information. "
   ]
  },
  {
   "cell_type": "code",
   "execution_count": null,
   "metadata": {
    "scrolled": false
   },
   "outputs": [],
   "source": [
    "unknown_peak_assignments_beta = peakidentify.peak_position_comparisons(unknown_peaks, known_peaks_beta, association_matrix_beta, hdf5_calfilename)\n",
    "print(unknown_peak_assignments_beta)\n",
    "peakidentify.plotting_peak_assignments(unknown_x, unknown_y, unknown_peaks, unknown_peak_assignments_beta, hdf5_expfilename, hdf5_calfilename, expkey, peak_labels, exportlabelinput = False )"
   ]
  },
  {
   "cell_type": "code",
   "execution_count": null,
   "metadata": {},
   "outputs": [],
   "source": []
  },
  {
   "cell_type": "markdown",
   "metadata": {},
   "source": [
    "Here, we see the exact same plot as above, when we just interacted with the wrapper function. Ultimately, the plot generated should be exactly the same, given that it was generated using the same data. \n",
    "You can change the inputs for the known peaks, but you need to make sure your list of compounds is alphabetical."
   ]
  },
  {
   "cell_type": "code",
   "execution_count": null,
   "metadata": {},
   "outputs": [],
   "source": [
    "dataprep.new_hdf5('peakidentify_calibration_wrong')"
   ]
  },
  {
   "cell_type": "code",
   "execution_count": null,
   "metadata": {},
   "outputs": [],
   "source": [
    "dataprep.add_calibration('peakidentify_calibration_wrong.hdf5',\n",
    "                          '../ramandecompy/tests/test_files/Hydrogen_Baseline_Calibration.xlsx',\n",
    "                          label='Hydrogen')\n",
    "dataprep.add_calibration('peakidentify_calibration_wrong.hdf5',\n",
    "                          '../ramandecompy/tests/test_files/CarbonMonoxide_Baseline_Calibration.xlsx',\n",
    "                          label='CarbonMonoxide')\n",
    "dataprep.add_calibration('peakidentify_calibration_wrong.hdf5','../ramandecompy/tests/test_files/CO2_100wt%.csv',label='CO2')\n",
    "dataprep.add_calibration('peakidentify_calibration_wrong.hdf5','../ramandecompy/tests/test_files/water.xlsx',label='H2O')\n",
    "dataprep.add_calibration('peakidentify_calibration_wrong.hdf5','../ramandecompy/tests/test_files/sapphire.xlsx',label='sapphire')\n",
    "dataprep.add_calibration('peakidentify_calibration_wrong.hdf5', '../ramandecompy/tests/test_files/Propane_test.xlsx', 'Propane')\n",
    "dataprep.add_calibration('peakidentify_calibration_wrong.hdf5', '../ramandecompy/tests/test_files/Ethane_test.xlsx', 'Ethane')\n",
    "dataprep.add_calibration('peakidentify_calibration_wrong.hdf5', '../ramandecompy/tests/test_files/Acetaldehyde_test.xlsx', 'Acetaldehyde')\n",
    "dataprep.add_calibration('peakidentify_calibration_wrong.hdf5','../ramandecompy/tests/test_files/FormicAcid_3_6percent.xlsx',label='FormicAcid')"
   ]
  },
  {
   "cell_type": "code",
   "execution_count": null,
   "metadata": {},
   "outputs": [],
   "source": [
    "dataprep.new_hdf5('peakidentify_experiment_wrong')"
   ]
  },
  {
   "cell_type": "code",
   "execution_count": null,
   "metadata": {},
   "outputs": [],
   "source": [
    "dataprep.add_experiment('peakidentify_experiment_wrong.hdf5', '../ramandecompy/tests/test_files/FA_3.6wt%_300C_25s.csv')"
   ]
  },
  {
   "cell_type": "markdown",
   "metadata": {},
   "source": [
    "# Example 4: Demonstration of Two Wrong Peaks on top of each other\n",
    "(A) For each of vertical line, you can see that the peak labelling function has assigned not just one, but two possible peaks to this position. This is possible with chemicals that have common degradation derivatives.\n",
    "\n",
    "In the demo below of two peaks sharing one spot, the association matrix has been modified to add CO2 and Hydrogen peaks together in the 2nd peak placement, therefore the label shows CO2&Hydrogen.\n",
    "\n",
    "(B) In the future, there might be instances with two peaks peaks that exist in similar locations within the `precision` error bound. \n",
    "\n",
    "To provide additional clarity as to the likelihood of which peaks are correctly assigned, and which are not, a dictionary is printed out after showing the plot. The dictionary contains the name of the compound, followed by a percentage. The percentage is generated by comparing the total number of peaks in the Raman spectra that are found in the unknown spectra. For example, if 1 peak out of 10 possible are found as is the case for carbon dioxide above, it will show a percentage of 10%, whereas for water if it find 3 peaks out of a possible 3, the percentage reported is 100%. This percentage provides an approximate degree of confidence for how likely it is that a compound is present. \n",
    "\n",
    "For this above example, because we see that water and carbon monoxide show a 100% detection percentage, we're quite confident that they are in-fact present in our unknown sample; however, as carbon dioxide only shows a 10% detection percentage, it's not very likely that it is present in our unknown sample. That said, the final value judgement is left to the user, as these percentages are just approximate guidelines. \n",
    "\n",
    "***"
   ]
  },
  {
   "cell_type": "code",
   "execution_count": null,
   "metadata": {},
   "outputs": [],
   "source": [
    "hdf5_calfilename = 'peakidentify_calibration_wrong.hdf5' #update to hdf5_calfilename\n",
    "hdf5_expfilename = 'peakidentify_experiment_wrong.hdf5'\n",
    "expkey ='300C/25s'\n",
    "df = peakidentify.peak_assignment(hdf5_expfilename, expkey, hdf5_calfilename, 10)"
   ]
  },
  {
   "cell_type": "markdown",
   "metadata": {},
   "source": [
    "### Build your own association matrix if you want"
   ]
  },
  {
   "cell_type": "code",
   "execution_count": null,
   "metadata": {},
   "outputs": [],
   "source": [
    "#Build our test data.\n",
    "known_peaks_beta =  [alde_peaks,CO2_peaks, co_peaks,ethane_peaks, H_peaks, H2O_peaks, sapphire_peaks,prop_peaks]\n",
    "# Note the order that you append to the association_matrix_beta matters \n",
    "# with the known compound list so make sure these match alphabetically\n",
    "# Known peaks beta, order does not matter\n",
    "association_matrix_gamma = [[0., 0., 0., 0., 0., 0., 0., 1., 0., 1., 0., 1., 0., 0., 1., 0.],\n",
    "[0., 0., 0., 0., 0., 0., 0., 0., 0., 0., 0., 0., 1., 0., 0., 0.],\n",
    "[0., 0., 0., 0., 0., 0., 0., 0., 0., 1., 0., 0., 0., 0., 0., 0.],\n",
    "[1., 1., 0., 0., 1., 0., 0., 1., 0., 0., 0., 0., 0., 0., 0., 0.],\n",
    "[0., 0., 0., 0., 0., 0., 0., 0., 0., 0., 1., 0., 0., 0., 0., 1.],\n",
    "[0., 0., 0., 0., 0., 0., 0., 0., 0., 0., 0., 0., 0., 0., 1., 0.],\n",
    "[0., 1., 1., 1., 1., 1., 1., 0., 0., 0., 0., 0., 0., 0., 0., 0.],\n",
    "[0., 0., 0., 0., 0., 0., 0., 0., 0., 0., 0., 0., 0., 0., 0., 0.]]\n",
    "print(association_matrix_gamma)"
   ]
  },
  {
   "cell_type": "code",
   "execution_count": null,
   "metadata": {},
   "outputs": [],
   "source": [
    "unknown_peak_assignments_gamma = peakidentify.peak_position_comparisons(unknown_peaks, known_peaks_beta, association_matrix_gamma, hdf5_calfilename)\n",
    "print(unknown_peak_assignments_gamma)\n",
    "peakidentify.plotting_peak_assignments(unknown_x, unknown_y, unknown_peaks, unknown_peak_assignments_gamma, hdf5_expfilename, hdf5_calfilename, expkey, peak_labels, exportlabelinput = False )"
   ]
  },
  {
   "cell_type": "markdown",
   "metadata": {},
   "source": [
    "# Example 5: Peakidentify adjusting peaks"
   ]
  },
  {
   "cell_type": "code",
   "execution_count": null,
   "metadata": {},
   "outputs": [],
   "source": [
    "# when you add a new hdf5 file you use this function below\n",
    "dataprep.new_hdf5('peakidentify_adjust_peaks')"
   ]
  },
  {
   "cell_type": "code",
   "execution_count": null,
   "metadata": {},
   "outputs": [],
   "source": [
    "hdf5_filename = 'peakidentify_adjust_peaks.hdf5'\n",
    "key = '300C/25s'\n"
   ]
  },
  {
   "cell_type": "code",
   "execution_count": null,
   "metadata": {},
   "outputs": [],
   "source": [
    "dataprep.add_experiment(hdf5_filename, '../ramandecompy/tests/test_files/FA_3.6wt%_300C_25s.csv')\n",
    "# dataprep.add_experiment(hdf5_filename, '../ramandecompy/tests/test_files/FA_3.6wt%_300C_35s.csv')\n",
    "# dataprep.add_experiment(hdf5_filename, '../ramandecompy/tests/test_files/FA_3.6wt%_300C_45s.csv')\n",
    "# dataprep.add_experiment(hdf5_filename, '../ramandecompy/tests/test_files/FA_3.6wt%_300C_55s.csv')\n",
    "# dataprep.add_experiment(hdf5_filename, '../ramandecompy/tests/test_files/FA_3.6wt%_300C_65s.csv')"
   ]
  },
  {
   "cell_type": "code",
   "execution_count": null,
   "metadata": {},
   "outputs": [],
   "source": [
    "add_list = [1270, 1350, 1385]#, 1640]\n",
    "# add_list = None\n",
    "drop_list = ['Peak_01']#, 'Peak_02']\n",
    "# drop_list = None\n",
    "\n",
    "dataprep.adjust_peaks(hdf5_filename, key, add_list, drop_list, plot_fits=True)"
   ]
  },
  {
   "cell_type": "code",
   "execution_count": null,
   "metadata": {},
   "outputs": [],
   "source": [
    "dataprep.view_hdf5(hdf5_filename)\n",
    "fig, ax1, ax2 = datavis.plot_fit(hdf5_filename, expkey)\n",
    "datavis.plot_components(ax1, hdf5_filename, expkey, [1,2,3,4,5,6,7,8,9,10,11,12,13,14,15,16,17,18])"
   ]
  },
  {
   "cell_type": "code",
   "execution_count": null,
   "metadata": {},
   "outputs": [],
   "source": [
    "# hdf5 = h5py.File(hdf5_filename, 'r+')\n",
    "# del hdf5['300C/35s']\n",
    "# hdf5.close()"
   ]
  },
  {
   "cell_type": "code",
   "execution_count": null,
   "metadata": {
    "scrolled": false
   },
   "outputs": [],
   "source": [
    "hdf5_calfilename = 'peakidentify_calibration_file.hdf5' #update to hdf5_calfilename\n",
    "hdf5_expfilename = 'peakidentify_adjust_peaks.hdf5'\n",
    "df = peakidentify.peak_assignment(hdf5_expfilename, expkey, hdf5_calfilename, 30)"
   ]
  },
  {
   "cell_type": "code",
   "execution_count": null,
   "metadata": {},
   "outputs": [],
   "source": [
    "dataprep.view_hdf5('peakidentify_adjust_peaks.hdf5')"
   ]
  },
  {
   "cell_type": "code",
   "execution_count": null,
   "metadata": {},
   "outputs": [],
   "source": [
    "dataprep.view_hdf5('peakidentify_adjust_peaks.hdf5')\n",
    "fig, ax1, ax2 = datavis.plot_fit(hdf5_filename, expkey)\n",
    "datavis.plot_components(ax1, hdf5_filename, expkey, [1,2,3,4,5,6,7,8,9,10,11,12,13,14,15,16,17,18])"
   ]
  },
  {
   "cell_type": "markdown",
   "metadata": {},
   "source": [
    "## Example 6 Score Sort for 1D Wavenumber\n",
    "This is a metric of confidence. This score function should be considered as a first visual grading that your peaks are close enough to determine matching. We will provide a simplistic 1D Euclidean distance calculation. \n",
    "\n",
    "The reciprocal of the distance is returned as a percentage of distance comparison in the x dimension with 1 equalling peak centers that are super close and 0 super far away respectively. A tuple of the two peak locations compared is returned for visual confirmation of the score.\n",
    "\n",
    "This scoring function also includes the user input for the choice of normalizing the peak distance scores and sorting them based on the  kth highest score in the peak set. This normalization is performed to bring a better understanding to the peak distance confidence score, and it also allows for future work to be done in determining the best kth highest score normalization to be used. The default k for `peak_1d_score` is zero and is simlpy an integer."
   ]
  },
  {
   "cell_type": "code",
   "execution_count": null,
   "metadata": {},
   "outputs": [],
   "source": [
    "peakidentify.peak_1d_score(unknown_peaks,H_peaks,scoremax =1, precision = 10)"
   ]
  },
  {
   "cell_type": "markdown",
   "metadata": {},
   "source": [
    "The `score_max` function calls upon the `peak_1D_score` to get the highest score = 1 and then will normalize the rest of the score data respectively. Here, the user can input different k values for the # k highest score to be normalized over."
   ]
  },
  {
   "cell_type": "code",
   "execution_count": null,
   "metadata": {},
   "outputs": [],
   "source": [
    "scoremaxk1=peakidentify.score_max(unknown_peaks,H_peaks,k=1, precision = 10)"
   ]
  },
  {
   "cell_type": "markdown",
   "metadata": {},
   "source": [
    "The `score_sort` function just appends the score max normalized scores and peak tuples to a list. There is no additional sorting feature added since the score max function already sorts the scores from the lowest to highest peak tuples compared."
   ]
  },
  {
   "cell_type": "code",
   "execution_count": null,
   "metadata": {},
   "outputs": [],
   "source": [
    "data=peakidentify.score_sort(unknown_peaks,H_peaks,k=1, precision = 10)\n",
    "print(data)"
   ]
  },
  {
   "cell_type": "markdown",
   "metadata": {},
   "source": [
    "The user should spend some time evaluating how to visually grade their peak distance closeness. It might make sense in some cases to not have a normalized highest peak score. This last example showcases how different k values interact with the score grading. The final k value will output the original not normalized score."
   ]
  },
  {
   "cell_type": "markdown",
   "metadata": {},
   "source": [
    "The score table below will "
   ]
  },
  {
   "cell_type": "code",
   "execution_count": null,
   "metadata": {
    "scrolled": true
   },
   "outputs": [],
   "source": [
    "precision = 10\n",
    "result1 = peakidentify.score_table(unknown_peaks,H2O_peaks, precision, 'Formic3.6wt%', 'H2O')\n",
    "result2 = peakidentify.score_table(unknown_peaks,co_peaks, precision, 'Formic3.6wt%', 'CO')\n",
    "result3 = peakidentify.score_table(unknown_peaks,CO2_peaks, precision, 'Formic3.6wt%', 'CO2')\n",
    "result4 = peakidentify.score_table(unknown_peaks,sapphire_peaks, precision, 'Formic3.6wt%', 'sapphire')\n",
    "result5 = peakidentify.score_table(unknown_peaks,H_peaks, precision, 'Formic3.6wt%', 'H')"
   ]
  },
  {
   "cell_type": "code",
   "execution_count": null,
   "metadata": {},
   "outputs": [],
   "source": [
    "result2"
   ]
  },
  {
   "cell_type": "markdown",
   "metadata": {},
   "source": [
    "Remove the hdf5 files to keep the system data clean"
   ]
  },
  {
   "cell_type": "code",
   "execution_count": null,
   "metadata": {},
   "outputs": [],
   "source": [
    "os.remove('peakidentify_calibration_file.hdf5')\n",
    "os.remove('peakidentify_experiment_file.hdf5')\n",
    "os.remove('peakidentify_add_label_test.hdf5')\n",
    "os.remove('peakidentify_label_test.hdf5')\n",
    "os.remove('peakidentify_experiment_test.hdf5')\n",
    "os.remove('peakidentify_experiment_testnoadd.hdf5')\n",
    "os.remove('peakidentify_adjust_peaks.hdf5')"
   ]
  },
  {
   "cell_type": "code",
   "execution_count": null,
   "metadata": {},
   "outputs": [],
   "source": []
  },
  {
   "cell_type": "code",
   "execution_count": null,
   "metadata": {},
   "outputs": [],
   "source": []
  }
 ],
 "metadata": {
  "kernelspec": {
   "display_name": "Python 3",
   "language": "python",
   "name": "python3"
  },
  "language_info": {
   "codemirror_mode": {
    "name": "ipython",
    "version": 3
   },
   "file_extension": ".py",
   "mimetype": "text/x-python",
   "name": "python",
   "nbconvert_exporter": "python",
   "pygments_lexer": "ipython3",
   "version": "3.7.3"
  }
 },
 "nbformat": 4,
 "nbformat_minor": 2
}
