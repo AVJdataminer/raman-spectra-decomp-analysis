{
 "cells": [
  {
   "cell_type": "markdown",
   "metadata": {},
   "source": [
    "# spectrafit.py example\n",
    "\n",
    "This module constains a set of functions designed to fit a model consisting of a sum of pseudo-Voigt profiles to already baseline subtracted Raman spectroscopy data. These functions are primarily accessed in an automated fashion via the dataprep.py module.\n",
    "\n",
    "This module contains the following functions:\n",
    "1. spectrafit.peak_detect( )\n",
    "2. spectrafit.set_parmas( )\n",
    "3. spectrafit.model_fit( )\n",
    "4. spectrafit.plot_fit( )\n",
    "5. spectrafit.export_fit_data( )\n",
    "6. spectrafit.fit_data( )\n",
    "7. spectrafit.build_custom_model( )\n",
    "8. spectrafit.apply_old_model( )\n",
    "9. spectrafit.superimpose_next( )\n",
    "10. spectrafit.superimpose_set( )\n",
    "\n",
    "Developed by the Raman-Noodles team (2019 DIRECT Cohort, University of Washington)"
   ]
  },
  {
   "cell_type": "code",
   "execution_count": 9,
   "metadata": {},
   "outputs": [],
   "source": [
    "# imports\n",
    "import h5py\n",
    "import numpy as np\n",
    "from shutil import copyfile\n",
    "from ramandecompy import spectrafit"
   ]
  },
  {
   "cell_type": "markdown",
   "metadata": {},
   "source": [
    "We will open an example hdf5 file that contains formic acid mixture spectra at 300C and various residence times"
   ]
  },
  {
   "cell_type": "code",
   "execution_count": 11,
   "metadata": {},
   "outputs": [],
   "source": [
    "hdf5 = h5py.File('../ramandecompy/tests/test_files/test_experiment.hdf5', 'r')\n",
    "x_data = np.asarray(hdf5['300C/25s/wavenumber'])\n",
    "y_data = np.asarray(hdf5['300C/25s/counts'])\n",
    "hdf5.close()"
   ]
  },
  {
   "cell_type": "markdown",
   "metadata": {},
   "source": [
    "### spectrafit.peak_detect\n",
    "    A function that utilizes scipy to identify local maxima from input spectral data. Default\n",
    "    detection criteria are based upon normalized values for the y axis (counts) spectra data;\n",
    "    however, the option remains to adjust the parameters to achieve the best fit, if the user\n",
    "    so chooses.\n",
    "    \n",
    "    These detected peaks are used next to begin to define a regression model."
   ]
  },
  {
   "cell_type": "code",
   "execution_count": 16,
   "metadata": {},
   "outputs": [
    {
     "data": {
      "text/plain": [
       "[(314.77, 14.96795),\n",
       " (378.71, 104.63),\n",
       " (418.14, 700.0),\n",
       " (448.67, 38.0575),\n",
       " (578.11, 118.9575),\n",
       " (711.51, 172.735),\n",
       " (751.21, 253.375),\n",
       " (1055.9, 45.846000000000004),\n",
       " (1217.6, 247.8775),\n",
       " (1400.1, 340.66),\n",
       " (1649.3, 373.78),\n",
       " (1714.9, 530.63),\n",
       " (2137.9, 24.81825),\n",
       " (2328.9, 30.69175),\n",
       " (2948.2, 93.00025),\n",
       " (3185.1, 260.8875)]"
      ]
     },
     "execution_count": 16,
     "metadata": {},
     "output_type": "execute_result"
    }
   ],
   "source": [
    "peaks, peak_list = spectrafit.peak_detect(x_data, y_data)\n",
    "peaks"
   ]
  },
  {
   "cell_type": "markdown",
   "metadata": {},
   "source": [
    "### spectrafit.set_params\n",
    "    This function takes in the list of peaks from the peak detection modules, and then uses\n",
    "    that to initialize parameters for a set of Pseudo-Voigt models that are not yet fit.\n",
    "    There is a single model for every peak.\n",
    "\n",
    "    This model and intial guess parameters are then used to fit the spectra data."
   ]
  },
  {
   "cell_type": "code",
   "execution_count": 17,
   "metadata": {},
   "outputs": [],
   "source": [
    "mod, pars = spectrafit.set_params(peaks)"
   ]
  },
  {
   "cell_type": "markdown",
   "metadata": {},
   "source": [
    "### spectrafit.model_fit\n",
    "    This function takes in the x and y data for the spectrum being analyzed, as well as the model\n",
    "    parameters that were generated in `set_params` for each individual peak, and uses it to generate\n",
    "    a fit for the model at each peak position, then returns that fit.\n",
    "    \n",
    "    This function utilizes a powell regression method. The optional reporting feature allows the user to see\n",
    "    how the best fit compares to the initial guess."
   ]
  },
  {
   "cell_type": "code",
   "execution_count": 19,
   "metadata": {},
   "outputs": [
    {
     "name": "stdout",
     "output_type": "stream",
     "text": [
      "[[Model]]\n",
      "    (((((((((((((((Model(pvoigt, prefix='p1_') + Model(pvoigt, prefix='p2_')) + Model(pvoigt, prefix='p3_')) + Model(pvoigt, prefix='p4_')) + Model(pvoigt, prefix='p5_')) + Model(pvoigt, prefix='p6_')) + Model(pvoigt, prefix='p7_')) + Model(pvoigt, prefix='p8_')) + Model(pvoigt, prefix='p9_')) + Model(pvoigt, prefix='p10_')) + Model(pvoigt, prefix='p11_')) + Model(pvoigt, prefix='p12_')) + Model(pvoigt, prefix='p13_')) + Model(pvoigt, prefix='p14_')) + Model(pvoigt, prefix='p15_')) + Model(pvoigt, prefix='p16_'))\n",
      "[[Fit Statistics]]\n",
      "    # fitting method   = Powell\n",
      "    # function evals   = 16720\n",
      "    # data points      = 1941\n",
      "    # variables        = 48\n",
      "    chi-square         = 464281.415\n",
      "    reduced chi-square = 245.262237\n",
      "    Akaike info crit   = 10727.4152\n",
      "    Bayesian info crit = 10994.8212\n",
      "[[Variables]]\n",
      "    p1_fraction:    2.6663e-06 (init = 0.5)\n",
      "    p1_sigma:       9.47784158 (init = 10)\n",
      "    p1_center:      314.77 (fixed)\n",
      "    p1_amplitude:   251.852665 (init = 1496.795)\n",
      "    p1_fwhm:        18.9556832 == '2.0000000*p1_sigma'\n",
      "    p1_height:      12.4817226 == '(((1-p1_fraction)*p1_amplitude)/(p1_sigma*sqrt(pi/log(2)))+(p1_fraction*p1_amplitude)/(pi*p1_sigma))'\n",
      "    p2_fraction:    0.50681314 (init = 0.5)\n",
      "    p2_sigma:       4.01290187 (init = 10)\n",
      "    p2_center:      378.71 (fixed)\n",
      "    p2_amplitude:   1034.00557 (init = 10463)\n",
      "    p2_fwhm:        8.02580373 == '2.0000000*p2_sigma'\n",
      "    p2_height:      101.259963 == '(((1-p2_fraction)*p2_amplitude)/(p2_sigma*sqrt(pi/log(2)))+(p2_fraction*p2_amplitude)/(pi*p2_sigma))'\n",
      "    p3_fraction:    0.63678156 (init = 0.5)\n",
      "    p3_sigma:       3.84759360 (init = 10)\n",
      "    p3_center:      418.14 (fixed)\n",
      "    p3_amplitude:   7306.16244 (init = 70000)\n",
      "    p3_fwhm:        7.69518720 == '2.0000000*p3_sigma'\n",
      "    p3_height:      708.864399 == '(((1-p3_fraction)*p3_amplitude)/(p3_sigma*sqrt(pi/log(2)))+(p3_fraction*p3_amplitude)/(pi*p3_sigma))'\n",
      "    p4_fraction:    2.5523e-05 (init = 0.5)\n",
      "    p4_sigma:       2.69962187 (init = 10)\n",
      "    p4_center:      448.67 (fixed)\n",
      "    p4_amplitude:   193.734175 (init = 3805.75)\n",
      "    p4_fwhm:        5.39924373 == '2.0000000*p4_sigma'\n",
      "    p4_height:      33.7083521 == '(((1-p4_fraction)*p4_amplitude)/(p4_sigma*sqrt(pi/log(2)))+(p4_fraction*p4_amplitude)/(pi*p4_sigma))'\n",
      "    p5_fraction:    0.18866607 (init = 0.5)\n",
      "    p5_sigma:       4.21062240 (init = 10)\n",
      "    p5_center:      578.11 (fixed)\n",
      "    p5_amplitude:   1090.46801 (init = 11895.75)\n",
      "    p5_fwhm:        8.42124480 == '2.0000000*p5_sigma'\n",
      "    p5_height:      114.249897 == '(((1-p5_fraction)*p5_amplitude)/(p5_sigma*sqrt(pi/log(2)))+(p5_fraction*p5_amplitude)/(pi*p5_sigma))'\n",
      "    p6_fraction:    2.4425e-15 (init = 0.5)\n",
      "    p6_sigma:       20.4978721 (init = 10)\n",
      "    p6_center:      711.51 (fixed)\n",
      "    p6_amplitude:   6837.14696 (init = 17273.5)\n",
      "    p6_fwhm:        40.9957442 == '2.0000000*p6_sigma'\n",
      "    p6_height:      156.676525 == '(((1-p6_fraction)*p6_amplitude)/(p6_sigma*sqrt(pi/log(2)))+(p6_fraction*p6_amplitude)/(pi*p6_sigma))'\n",
      "    p7_fraction:    6.8871e-07 (init = 0.5)\n",
      "    p7_sigma:       7.19462208 (init = 10)\n",
      "    p7_center:      751.21 (fixed)\n",
      "    p7_amplitude:   3533.43940 (init = 25337.5)\n",
      "    p7_fwhm:        14.3892442 == '2.0000000*p7_sigma'\n",
      "    p7_height:      230.689251 == '(((1-p7_fraction)*p7_amplitude)/(p7_sigma*sqrt(pi/log(2)))+(p7_fraction*p7_amplitude)/(pi*p7_sigma))'\n",
      "    p8_fraction:    0.00000000 (init = 0.5)\n",
      "    p8_sigma:       18.0051539 (init = 10)\n",
      "    p8_center:      1055.9 (fixed)\n",
      "    p8_amplitude:   1438.23540 (init = 4584.6)\n",
      "    p8_fwhm:        36.0103078 == '2.0000000*p8_sigma'\n",
      "    p8_height:      37.5206997 == '(((1-p8_fraction)*p8_amplitude)/(p8_sigma*sqrt(pi/log(2)))+(p8_fraction*p8_amplitude)/(pi*p8_sigma))'\n",
      "    p9_fraction:    0.84116051 (init = 0.5)\n",
      "    p9_sigma:       29.1588674 (init = 10)\n",
      "    p9_center:      1217.6 (fixed)\n",
      "    p9_amplitude:   20781.3364 (init = 24787.75)\n",
      "    p9_fwhm:        58.3177349 == '2.0000000*p9_sigma'\n",
      "    p9_height:      243.997457 == '(((1-p9_fraction)*p9_amplitude)/(p9_sigma*sqrt(pi/log(2)))+(p9_fraction*p9_amplitude)/(pi*p9_sigma))'\n",
      "    p10_fraction:   1.00000000 (init = 0.5)\n",
      "    p10_sigma:      15.8465921 (init = 10)\n",
      "    p10_center:     1400.1 (fixed)\n",
      "    p10_amplitude:  15275.1267 (init = 34066)\n",
      "    p10_fwhm:       31.6931842 == '2.0000000*p10_sigma'\n",
      "    p10_height:     306.830884 == '(((1-p10_fraction)*p10_amplitude)/(p10_sigma*sqrt(pi/log(2)))+(p10_fraction*p10_amplitude)/(pi*p10_sigma))'\n",
      "    p11_fraction:   1.0518e-05 (init = 0.5)\n",
      "    p11_sigma:      47.9172820 (init = 10)\n",
      "    p11_center:     1649.3 (fixed)\n",
      "    p11_amplitude:  35138.1886 (init = 37378)\n",
      "    p11_fwhm:       95.8345640 == '2.0000000*p11_sigma'\n",
      "    p11_height:     344.447879 == '(((1-p11_fraction)*p11_amplitude)/(p11_sigma*sqrt(pi/log(2)))+(p11_fraction*p11_amplitude)/(pi*p11_sigma))'\n",
      "    p12_fraction:   0.17905768 (init = 0.5)\n",
      "    p12_sigma:      26.2170124 (init = 10)\n",
      "    p12_center:     1714.9 (fixed)\n",
      "    p12_amplitude:  25828.1098 (init = 53063)\n",
      "    p12_fwhm:       52.4340248 == '2.0000000*p12_sigma'\n",
      "    p12_height:     436.042107 == '(((1-p12_fraction)*p12_amplitude)/(p12_sigma*sqrt(pi/log(2)))+(p12_fraction*p12_amplitude)/(pi*p12_sigma))'\n",
      "    p13_fraction:   0.99999998 (init = 0.5)\n",
      "    p13_sigma:      3.77175515 (init = 10)\n",
      "    p13_center:     2137.9 (fixed)\n",
      "    p13_amplitude:  285.943717 (init = 2481.825)\n",
      "    p13_fwhm:       7.54351031 == '2.0000000*p13_sigma'\n",
      "    p13_height:     24.1316599 == '(((1-p13_fraction)*p13_amplitude)/(p13_sigma*sqrt(pi/log(2)))+(p13_fraction*p13_amplitude)/(pi*p13_sigma))'\n",
      "    p14_fraction:   0.48960584 (init = 0.5)\n",
      "    p14_sigma:      3.60812058 (init = 10)\n",
      "    p14_center:     2328.9 (fixed)\n",
      "    p14_amplitude:  255.954584 (init = 3069.175)\n",
      "    p14_fwhm:       7.21624116 == '2.0000000*p14_sigma'\n",
      "    p14_height:     28.0624128 == '(((1-p14_fraction)*p14_amplitude)/(p14_sigma*sqrt(pi/log(2)))+(p14_fraction*p14_amplitude)/(pi*p14_sigma))'\n",
      "    p15_fraction:   1.1102e-16 (init = 0.5)\n",
      "    p15_sigma:      21.9786094 (init = 10)\n",
      "    p15_center:     2948.2 (fixed)\n",
      "    p15_amplitude:  3553.08847 (init = 9300.025)\n",
      "    p15_fwhm:       43.9572187 == '2.0000000*p15_sigma'\n",
      "    p15_height:     75.9352812 == '(((1-p15_fraction)*p15_amplitude)/(p15_sigma*sqrt(pi/log(2)))+(p15_fraction*p15_amplitude)/(pi*p15_sigma))'\n",
      "    p16_fraction:   0.55301068 (init = 0.5)\n",
      "    p16_sigma:      79.8095560 (init = 10)\n",
      "    p16_center:     3185.1 (fixed)\n",
      "    p16_amplitude:  53203.0611 (init = 26088.75)\n",
      "    p16_fwhm:       159.619112 == '2.0000000*p16_sigma'\n",
      "    p16_height:     257.309315 == '(((1-p16_fraction)*p16_amplitude)/(p16_sigma*sqrt(pi/log(2)))+(p16_fraction*p16_amplitude)/(pi*p16_sigma))'\n",
      "\n"
     ]
    }
   ],
   "source": [
    "out = spectrafit.model_fit(x_data, y_data, mod, pars, report=True)"
   ]
  },
  {
   "cell_type": "markdown",
   "metadata": {},
   "source": [
    "### spectrafit.plot_fit\n",
    "    This function plots the fit, each individual pseudo-Voigt profile, and the orginal data for\n",
    "    visual examination.\n",
    "    \n",
    "    It is primarily used as a visual inspection tool. A scientist can quickly identify nonsensical\n",
    "    fit results in some cases before moving on to further analysis. Since this automatic peak detection\n",
    "    only is capable of identifying local maxima in the spectra, overlapping peaks are not always detected.\n",
    "    Later functions will allow for the custom addition and removal of peaks from this auto"
   ]
  },
  {
   "cell_type": "code",
   "execution_count": 21,
   "metadata": {},
   "outputs": [
    {
     "data": {
      "image/png": "[encoded data removed]",
      "text/plain": [
       "<Figure size 1080x432 with 1 Axes>"
      ]
     },
     "metadata": {
      "needs_background": "light"
     },
     "output_type": "display_data"
    }
   ],
   "source": [
    "spectrafit.plot_fit(x_data, y_data, out, plot_components=True)"
   ]
  },
  {
   "cell_type": "markdown",
   "metadata": {},
   "source": [
    "### spectrafit.export_fit_data\n",
    "    This function returns fit information for an input lmfit model set as well as calculates\n",
    "    the area under each individual pseudo-Voigt profile. It specifically formats these values\n",
    "    as a list of lists that later functions will use to save the values into a .hdf5 file."
   ]
  },
  {
   "cell_type": "code",
   "execution_count": 25,
   "metadata": {},
   "outputs": [
    {
     "data": {
      "text/plain": [
       "[[2.6663343662414185e-06,\n",
       "  9.47784157647681,\n",
       "  314.77,\n",
       "  251.85266516909158,\n",
       "  18.95568315295362,\n",
       "  12.481722612766571,\n",
       "  251.85253918930138],\n",
       " [0.5068131437798339,\n",
       "  4.012901866707115,\n",
       "  378.71,\n",
       "  1034.0055674054267,\n",
       "  8.02580373341423,\n",
       "  101.25996252105841,\n",
       "  1028.5887071980997],\n",
       " [0.6367815603244544,\n",
       "  3.8475935994386825,\n",
       "  418.14,\n",
       "  7306.162435095841,\n",
       "  7.695187198877365,\n",
       "  708.8643993377336,\n",
       "  7270.348695381032],\n",
       " [2.5523040143748954e-05,\n",
       "  2.6996218653839077,\n",
       "  448.67,\n",
       "  193.73417517489642,\n",
       "  5.399243730767815,\n",
       "  33.708352142555285,\n",
       "  193.7406253262912],\n",
       " [0.18866606541747744,\n",
       "  4.210622397807715,\n",
       "  578.11,\n",
       "  1090.4680133146153,\n",
       "  8.42124479561543,\n",
       "  114.24989721919599,\n",
       "  1089.487881792328],\n",
       " [2.4424906541753444e-15,\n",
       "  20.497872123028607,\n",
       "  711.51,\n",
       "  6837.146956393162,\n",
       "  40.995744246057214,\n",
       "  156.67652457367774,\n",
       "  6837.146565168508],\n",
       " [6.887108716102652e-07,\n",
       "  7.194622077882865,\n",
       "  751.21,\n",
       "  3533.4394037901616,\n",
       "  14.38924415576573,\n",
       "  230.689251297801,\n",
       "  3533.443153749849],\n",
       " [0.0,\n",
       "  18.005153911203845,\n",
       "  1055.9,\n",
       "  1438.2353955159801,\n",
       "  36.01030782240769,\n",
       "  37.52069970510768,\n",
       "  1438.2350627618032],\n",
       " [0.841160511960571,\n",
       "  29.158867429308064,\n",
       "  1217.6,\n",
       "  20781.336390558612,\n",
       "  58.31773485861613,\n",
       "  243.99745677010503,\n",
       "  20534.06784156282],\n",
       " [0.9999999958720198,\n",
       "  15.84659208009906,\n",
       "  1400.1,\n",
       "  15275.126734709884,\n",
       "  31.69318416019812,\n",
       "  306.8308843528475,\n",
       "  15166.600231641218],\n",
       " [1.0517503648332927e-05,\n",
       "  47.91728199920928,\n",
       "  1649.3,\n",
       "  35138.18858290228,\n",
       "  95.83456399841856,\n",
       "  344.44787947529034,\n",
       "  35138.177910962084],\n",
       " [0.17905767594718713,\n",
       "  26.21701237687833,\n",
       "  1714.9,\n",
       "  25828.10981647024,\n",
       "  52.43402475375666,\n",
       "  436.04210682590485,\n",
       "  25776.733074077863],\n",
       " [0.9999999834524189,\n",
       "  3.771755154361172,\n",
       "  2137.9,\n",
       "  285.9437167432231,\n",
       "  7.543510308722344,\n",
       "  24.13165990975856,\n",
       "  285.521338492586],\n",
       " [0.48960584293338283,\n",
       "  3.6081205823582327,\n",
       "  2328.9,\n",
       "  255.95458378800748,\n",
       "  7.2162411647164655,\n",
       "  28.062412836801506,\n",
       "  255.75276948495386],\n",
       " [1.1102230246251565e-16,\n",
       "  21.978609358676433,\n",
       "  2948.2,\n",
       "  3553.0884730877606,\n",
       "  43.957218717352866,\n",
       "  75.93528124696775,\n",
       "  3553.0889619687778],\n",
       " [0.5530106832888755,\n",
       "  79.80955596495534,\n",
       "  3185.1,\n",
       "  53203.06114608182,\n",
       "  159.61911192991067,\n",
       "  257.3093149405531,\n",
       "  41554.555203908174]]"
      ]
     },
     "execution_count": 25,
     "metadata": {},
     "output_type": "execute_result"
    }
   ],
   "source": [
    "fit_results, residuals = spectrafit.export_fit_data(x_data, y_data, out)\n",
    "fit_results"
   ]
  },
  {
   "cell_type": "code",
   "execution_count": null,
   "metadata": {},
   "outputs": [],
   "source": []
  },
  {
   "cell_type": "code",
   "execution_count": null,
   "metadata": {},
   "outputs": [],
   "source": []
  }
 ],
 "metadata": {
  "kernelspec": {
   "display_name": "Python 3",
   "language": "python",
   "name": "python3"
  },
  "language_info": {
   "codemirror_mode": {
    "name": "ipython",
    "version": 3
   },
   "file_extension": ".py",
   "mimetype": "text/x-python",
   "name": "python",
   "nbconvert_exporter": "python",
   "pygments_lexer": "ipython3",
   "version": "3.7.1"
  }
 },
 "nbformat": 4,
 "nbformat_minor": 2
}
