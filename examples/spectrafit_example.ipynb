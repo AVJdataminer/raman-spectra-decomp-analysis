{
 "cells": [
  {
   "cell_type": "markdown",
   "metadata": {},
   "source": [
    "# spectrafit.py example\n",
    "\n",
    "This module constains a set of functions designed to fit a model consisting of a sum of pseudo-Voigt profiles to already baseline subtracted Raman spectroscopy data. These functions are primarily accessed in an automated fashion via the dataprep.py module.\n",
    "\n",
    "This module contains the following functions:\n",
    "1. spectrafit.peak_detect( )\n",
    "2. spectrafit.set_parmas( )\n",
    "3. spectrafit.model_fit( )\n",
    "4. spectrafit.plot_fit( )\n",
    "5. spectrafit.export_fit_data( )\n",
    "6. spectrafit.fit_data( )\n",
    "7. spectrafit.build_custom_model( )\n",
    "8. spectrafit.apply_old_model( )\n",
    "9. spectrafit.superimpose_next( )\n",
    "10. spectrafit.superimpose_set( )\n",
    "\n",
    "Developed by the Raman-Noodles team (2019 DIRECT Cohort, University of Washington)"
   ]
  },
  {
   "cell_type": "code",
   "execution_count": null,
   "metadata": {},
   "outputs": [],
   "source": []
  }
 ],
 "metadata": {
  "kernelspec": {
   "display_name": "Python 3",
   "language": "python",
   "name": "python3"
  },
  "language_info": {
   "codemirror_mode": {
    "name": "ipython",
    "version": 3
   },
   "file_extension": ".py",
   "mimetype": "text/x-python",
   "name": "python",
   "nbconvert_exporter": "python",
   "pygments_lexer": "ipython3",
   "version": "3.7.1"
  }
 },
 "nbformat": 4,
 "nbformat_minor": 2
}
