{
 "cells": [
  {
   "cell_type": "code",
   "execution_count": 1,
   "metadata": {},
   "outputs": [],
   "source": [
    "import os\n",
    "import h5py\n",
    "import pandas as pd\n",
    "import matplotlib.pyplot as plt\n",
    "import math\n",
    "import numpy as np\n",
    "import lineid_plot\n",
    "from ramandecompy import spectrafit\n",
    "from ramandecompy import peakidentify\n",
    "from ramandecompy import dataprep\n",
    "from ramandecompy import datavis\n",
    "from ramandecompy import dataimport\n",
    "from ramandecompy import machine_learning\n",
    "from scipy import interpolate"
   ]
  },
  {
   "cell_type": "code",
   "execution_count": 2,
   "metadata": {},
   "outputs": [
    {
     "name": "stdout",
     "output_type": "stream",
     "text": [
      "Data from ../ramandecompy/tests/test_files/water.xlsx fit with compound pseudo-Voigt model. Results saved to supervised_calibration_dataset.hdf5.\n",
      "Data from ../ramandecompy/tests/test_files/Hydrogen_Baseline_Calibration.xlsx fit with compound pseudo-Voigt model. Results saved to supervised_calibration_dataset.hdf5.\n",
      "Data from ../ramandecompy/tests/test_files/Methane_Baseline_Calibration.xlsx fit with compound pseudo-Voigt model. Results saved to supervised_calibration_dataset.hdf5.\n",
      "Data from ../ramandecompy/tests/test_files/CarbonMonoxide_Baseline_Calibration.xlsx fit with compound pseudo-Voigt model. Results saved to supervised_calibration_dataset.hdf5.\n",
      "Data from ../ramandecompy/tests/test_files/CO2_100wt%.csv fit with compound pseudo-Voigt model. Results saved to supervised_calibration_dataset.hdf5.\n",
      "Data from ../ramandecompy/tests/test_files/sapphire.xlsx fit with compound pseudo-Voigt model. Results saved to supervised_calibration_dataset.hdf5.\n",
      "Data from ../ramandecompy/tests/test_files/Propane_test.xlsx fit with compound pseudo-Voigt model. Results saved to supervised_calibration_dataset.hdf5.\n",
      "Data from ../ramandecompy/tests/test_files/Ethane_test.xlsx fit with compound pseudo-Voigt model. Results saved to supervised_calibration_dataset.hdf5.\n",
      "Data from ../ramandecompy/tests/test_files/Acetaldehyde_test.xlsx fit with compound pseudo-Voigt model. Results saved to supervised_calibration_dataset.hdf5.\n"
     ]
    }
   ],
   "source": [
    "dataprep.new_hdf5('supervised_calibration_dataset')\n",
    "dataprep.add_calibration('supervised_calibration_dataset.hdf5', '../ramandecompy/tests/test_files/water.xlsx', 'water')\n",
    "dataprep.add_calibration('supervised_calibration_dataset.hdf5', '../ramandecompy/tests/test_files/Hydrogen_Baseline_Calibration.xlsx', 'hydrogen')\n",
    "dataprep.add_calibration('supervised_calibration_dataset.hdf5', '../ramandecompy/tests/test_files/Methane_Baseline_Calibration.xlsx', 'methane')\n",
    "dataprep.add_calibration('supervised_calibration_dataset.hdf5', '../ramandecompy/tests/test_files/CarbonMonoxide_Baseline_Calibration.xlsx', 'carbon monoxide')\n",
    "dataprep.add_calibration('supervised_calibration_dataset.hdf5', '../ramandecompy/tests/test_files/CO2_100wt%.csv', 'carbon dioxide')\n",
    "dataprep.add_calibration('supervised_calibration_dataset.hdf5', '../ramandecompy/tests/test_files/sapphire.xlsx', 'sapphire')\n",
    "dataprep.add_calibration('supervised_calibration_dataset.hdf5', '../ramandecompy/tests/test_files/Propane_test.xlsx', 'Propane')\n",
    "dataprep.add_calibration('supervised_calibration_dataset.hdf5', '../ramandecompy/tests/test_files/Ethane_test.xlsx', 'Ethane')\n",
    "dataprep.add_calibration('supervised_calibration_dataset.hdf5', '../ramandecompy/tests/test_files/Acetaldehyde_test.xlsx', 'Acetaldehyde')"
   ]
  },
  {
   "cell_type": "code",
   "execution_count": null,
   "metadata": {},
   "outputs": [],
   "source": []
  },
  {
   "cell_type": "code",
   "execution_count": null,
   "metadata": {},
   "outputs": [],
   "source": []
  },
  {
   "cell_type": "code",
   "execution_count": 3,
   "metadata": {},
   "outputs": [
    {
     "data": {
      "text/plain": [
       "[[array([0.0007832 , 0.00081809, 0.00086799, ..., 0.19818304, 0.19240399,\n",
       "         0.18681302]),\n",
       "  array([0.00055582, 0.00058175, 0.00062133, ..., 0.12984356, 0.12610134,\n",
       "         0.12248969]),\n",
       "  array([0.00069675, 0.00072632, 0.00076819, ..., 0.15606064, 0.1515106 ,\n",
       "         0.14710962]),\n",
       "  array([0.00086639, 0.0008905 , 0.00092295, ..., 0.08878627, 0.08622151,\n",
       "         0.08374348]),\n",
       "  array([0.00052943, 0.00054457, 0.00056498, ..., 0.14090719, 0.13680425,\n",
       "         0.13282289]),\n",
       "  array([0.00086922, 0.00089962, 0.00094464, ..., 0.28698196, 0.2786606 ,\n",
       "         0.27059492]),\n",
       "  array([0.00054274, 0.00055067, 0.00056081, ..., 0.28839675, 0.27999538,\n",
       "         0.27182459]),\n",
       "  array([0.00084711, 0.00085585, 0.00086649, ..., 0.32010137, 0.31080911,\n",
       "         0.30177047]),\n",
       "  array([0.00072836, 0.00073758, 0.00074812, ..., 0.31358619, 0.3044534 ,\n",
       "         0.29556867]),\n",
       "  array([0.00056593, 0.00057409, 0.00058384, ..., 0.06127215, 0.05951344,\n",
       "         0.0578051 ])],\n",
       " [array([0.00094246, 0.00096629, 0.00099894, ..., 0.19300072, 0.187418  ,\n",
       "         0.18200416]),\n",
       "  array([0.00038413, 0.00039126, 0.00040091, ..., 0.11264832, 0.1093854 ,\n",
       "         0.10621556]),\n",
       "  array([0.00082761, 0.0008557 , 0.00089405, ..., 0.06676915, 0.0648332 ,\n",
       "         0.06297134]),\n",
       "  array([0.00067657, 0.00070724, 0.00075277, ..., 0.30623844, 0.29732357,\n",
       "         0.28868095]),\n",
       "  array([0.00074068, 0.00076704, 0.00080474, ..., 0.04681578, 0.04548956,\n",
       "         0.04422355]),\n",
       "  array([0.00066644, 0.00068493, 0.00071176, ..., 0.28345086, 0.27521296,\n",
       "         0.26721471]),\n",
       "  array([0.00024234, 0.00025689, 0.00027945, ..., 0.07342064, 0.07129723,\n",
       "         0.06924854]),\n",
       "  array([0.00066127, 0.00069168, 0.00073623, ..., 0.14451884, 0.14032533,\n",
       "         0.13627545]),\n",
       "  array([0.00074247, 0.00075551, 0.0007721 , ..., 0.18729462, 0.18186571,\n",
       "         0.1765901 ]),\n",
       "  array([0.00071235, 0.00074418, 0.00078986, ..., 0.08070149, 0.07836829,\n",
       "         0.07612785])],\n",
       " [array([0.00090362, 0.00091571, 0.00092935, ..., 0.20792596, 0.20189003,\n",
       "         0.19601918]),\n",
       "  array([0.00071563, 0.00074118, 0.00077719, ..., 0.0834913 , 0.08108151,\n",
       "         0.07875909]),\n",
       "  array([0.00035182, 0.00037183, 0.00040206, ..., 0.17710515, 0.17194492,\n",
       "         0.16694593]),\n",
       "  array([0.00051535, 0.00053798, 0.00057203, ..., 0.22342027, 0.21692937,\n",
       "         0.21063803]),\n",
       "  array([0.00060192, 0.00062737, 0.00066382, ..., 0.1185841 , 0.11513758,\n",
       "         0.11180762]),\n",
       "  array([0.00057089, 0.0005985 , 0.00064069, ..., 0.16350208, 0.15877268,\n",
       "         0.15420245]),\n",
       "  array([0.00067265, 0.00069421, 0.0007247 , ..., 0.13237476, 0.12854233,\n",
       "         0.1248322 ]),\n",
       "  array([0.000854  , 0.00088901, 0.00093925, ..., 0.2696711 , 0.26181842,\n",
       "         0.25421001]),\n",
       "  array([0.00054201, 0.00055932, 0.00058408, ..., 0.12213864, 0.11859951,\n",
       "         0.11517172]),\n",
       "  array([0.00065331, 0.00067174, 0.00069781, ..., 0.10143015, 0.09851376,\n",
       "         0.09569221])],\n",
       " [array([0.00069576, 0.00070344, 0.0007113 , ..., 0.10067921, 0.09776874,\n",
       "         0.09493642]),\n",
       "  array([0.00039112, 0.00041202, 0.00044367, ..., 0.20305757, 0.19714572,\n",
       "         0.19141647]),\n",
       "  array([0.00066554, 0.00067248, 0.0006796 , ..., 0.18811069, 0.18264555,\n",
       "         0.17732729]),\n",
       "  array([0.00042473, 0.00043941, 0.00046165, ..., 0.30761059, 0.29865612,\n",
       "         0.28995901]),\n",
       "  array([0.00079395, 0.00080278, 0.00081185, ..., 0.26181365, 0.25419343,\n",
       "         0.24677808]),\n",
       "  array([0.00081645, 0.0008271 , 0.00083995, ..., 0.27391413, 0.26596397,\n",
       "         0.2582319 ]),\n",
       "  array([0.00053926, 0.00054417, 0.0005492 , ..., 0.03819136, 0.03711393,\n",
       "         0.03606532]),\n",
       "  array([0.00063354, 0.0006609 , 0.00069966, ..., 0.10955182, 0.10636724,\n",
       "         0.10329299]),\n",
       "  array([0.00086751, 0.00087732, 0.00088738, ..., 0.17942824, 0.17422227,\n",
       "         0.16915619]),\n",
       "  array([0.00055927, 0.00057362, 0.00059433, ..., 0.21140638, 0.20527154,\n",
       "         0.19931545])],\n",
       " [array([0.00094903, 0.00097769, 0.00101728, ..., 0.05711279, 0.05548825,\n",
       "         0.05393083]),\n",
       "  array([0.00077958, 0.00080542, 0.00084123, ..., 0.08074814, 0.07841879,\n",
       "         0.07617349]),\n",
       "  array([0.00031927, 0.00034313, 0.0003797 , ..., 0.01002152, 0.00975145,\n",
       "         0.0095166 ]),\n",
       "  array([0.00039966, 0.00042185, 0.00045393, ..., 0.00601897, 0.00584519,\n",
       "         0.00569763]),\n",
       "  array([0.00088427, 0.00090452, 0.00093256, ..., 0.23938082, 0.23244289,\n",
       "         0.22570819]),\n",
       "  array([0.00077306, 0.00078703, 0.00080524, ..., 0.20541843, 0.19946208,\n",
       "         0.19367476]),\n",
       "  array([0.00053846, 0.00054865, 0.00056215, ..., 0.13296102, 0.12911226,\n",
       "         0.12537394]),\n",
       "  array([0.00053482, 0.00055384, 0.0005793 , ..., 0.02282181, 0.02215801,\n",
       "         0.02152577]),\n",
       "  array([0.00047279, 0.00049827, 0.00053664, ..., 0.19237492, 0.18677687,\n",
       "         0.18135763]),\n",
       "  array([0.00058337, 0.00061197, 0.00065328, ..., 0.10790039, 0.10475966,\n",
       "         0.10173105])],\n",
       " [array([0.00058787, 0.00061149, 0.00064782, ..., 0.2202575 , 0.21387936,\n",
       "         0.20770061]),\n",
       "  array([0.00068818, 0.00070457, 0.00072665, ..., 0.1643838 , 0.15961875,\n",
       "         0.15499391]),\n",
       "  array([0.00018519, 0.00018936, 0.00019559, ..., 0.06372845, 0.0618884 ,\n",
       "         0.06010229]),\n",
       "  array([0.00081143, 0.0008435 , 0.00088881, ..., 0.17627341, 0.17113896,\n",
       "         0.16617129]),\n",
       "  array([0.00025484, 0.0002582 , 0.00026332, ..., 0.1141665 , 0.11086551,\n",
       "         0.10765705]),\n",
       "  array([0.00047384, 0.0005017 , 0.00054296, ..., 0.1500283 , 0.14565623,\n",
       "         0.14143107]),\n",
       "  array([0.00038708, 0.0004137 , 0.00045531, ..., 0.22882188, 0.2221712 ,\n",
       "         0.21573244]),\n",
       "  array([0.00058605, 0.00059695, 0.00061104, ..., 0.0338741 , 0.03292529,\n",
       "         0.03200856]),\n",
       "  array([0.00061222, 0.0006146 , 0.00061728, ..., 0.29312014, 0.28462144,\n",
       "         0.27635169]),\n",
       "  array([0.0004295 , 0.00045025, 0.00048166, ..., 0.02379591, 0.02314229,\n",
       "         0.02252952])],\n",
       " [array([0.00030464, 0.00030815, 0.00031195, ..., 0.00772564, 0.00751547,\n",
       "         0.00731134]),\n",
       "  array([0.00056089, 0.00057948, 0.00060729, ..., 0.29357307, 0.28503876,\n",
       "         0.27675411]),\n",
       "  array([0.00037752, 0.00038465, 0.00039497, ..., 0.12151645, 0.11800363,\n",
       "         0.11459212]),\n",
       "  array([0.00066057, 0.00068581, 0.00072325, ..., 0.16712847, 0.16229795,\n",
       "         0.15762389]),\n",
       "  array([0.00102109, 0.00103908, 0.00106133, ..., 0.11930219, 0.1158631 ,\n",
       "         0.11252508]),\n",
       "  array([0.00035781, 0.00037994, 0.00041467, ..., 0.11719486, 0.11381484,\n",
       "         0.11055344]),\n",
       "  array([0.00045088, 0.00047989, 0.00052345, ..., 0.0970507 , 0.09423041,\n",
       "         0.09151789]),\n",
       "  array([0.00064123, 0.00064756, 0.00065434, ..., 0.13624555, 0.13230452,\n",
       "         0.12847004]),\n",
       "  array([0.00029152, 0.00030867, 0.00033361, ..., 0.0247316 , 0.02400946,\n",
       "         0.02332375]),\n",
       "  array([0.00079586, 0.00080896, 0.00082671, ..., 0.31709332, 0.30788804,\n",
       "         0.29894011])],\n",
       " [array([0.0008903 , 0.00091644, 0.00095276, ..., 0.23132945, 0.22461446,\n",
       "         0.21810191]),\n",
       "  array([0.00061313, 0.00061758, 0.0006222 , ..., 0.22117105, 0.21475129,\n",
       "         0.20850423]),\n",
       "  array([0.00054397, 0.00055927, 0.00057976, ..., 0.07480705, 0.07264142,\n",
       "         0.07054504]),\n",
       "  array([0.00092398, 0.00095999, 0.00101131, ..., 0.20132927, 0.19547791,\n",
       "         0.18981713]),\n",
       "  array([0.00012158, 0.00013589, 0.00015861, ..., 0.04469458, 0.04340378,\n",
       "         0.04216623]),\n",
       "  array([0.00087117, 0.00089295, 0.00092396, ..., 0.30938646, 0.30040348,\n",
       "         0.29168201]),\n",
       "  array([0.0003487 , 0.00037547, 0.00041693, ..., 0.12153052, 0.11800911,\n",
       "         0.11461472]),\n",
       "  array([0.00039265, 0.00040782, 0.00042927, ..., 0.01953486, 0.01897575,\n",
       "         0.01844528]),\n",
       "  array([0.00056365, 0.0005695 , 0.0005771 , ..., 0.17940929, 0.17422454,\n",
       "         0.16918274]),\n",
       "  array([0.00085313, 0.00087737, 0.00091075, ..., 0.2878613 , 0.27948353,\n",
       "         0.27135071])],\n",
       " [array([0.00032461, 0.00034608, 0.00037769, ..., 0.00050127, 0.00049276,\n",
       "         0.00050663]),\n",
       "  array([0.00031073, 0.00033573, 0.00037421, ..., 0.09373351, 0.09101449,\n",
       "         0.08839826]),\n",
       "  array([0.00040971, 0.0004256 , 0.00044908, ..., 0.00160396, 0.00159027,\n",
       "         0.00159349]),\n",
       "  array([0.00026991, 0.00028124, 0.00029797, ..., 0.06159443, 0.05981023,\n",
       "         0.05808578]),\n",
       "  array([0.00080532, 0.00081663, 0.00082907, ..., 0.00159234, 0.00158239,\n",
       "         0.00157448]),\n",
       "  array([0.00100429, 0.00103227, 0.00107048, ..., 0.13539059, 0.13147827,\n",
       "         0.12769304]),\n",
       "  array([0.0005657 , 0.00059022, 0.00062443, ..., 0.00046   , 0.00045204,\n",
       "         0.00046524]),\n",
       "  array([0.00025174, 0.00026448, 0.00028444, ..., 0.18317349, 0.17784657,\n",
       "         0.17267879]),\n",
       "  array([0.00062339, 0.00064442, 0.0006739 , ..., 0.00146104, 0.00144778,\n",
       "         0.00145305]),\n",
       "  array([0.00047237, 0.0005014 , 0.00054535, ..., 0.24228808, 0.23522903,\n",
       "         0.2283926 ])]]"
      ]
     },
     "execution_count": 3,
     "metadata": {},
     "output_type": "execute_result"
    },
    {
     "data": {
      "image/png": "[encoded data removed]",
      "text/plain": [
       "<Figure size 432x288 with 1 Axes>"
      ]
     },
     "metadata": {
      "needs_background": "light"
     },
     "output_type": "display_data"
    }
   ],
   "source": [
    "# first a function that will return a normalized interpolated spectra\n",
    "target_compound = 'water'\n",
    "# compound = 'water'\n",
    "hdf5_filename = 'supervised_calibration_dataset.hdf5'\n",
    "spectra_count = 10\n",
    "hdf5 = h5py.File(hdf5_filename, 'r+')\n",
    "# get list of compounds from hdf5 file\n",
    "y_data_list = []\n",
    "compound_list = list(hdf5.keys())\n",
    "for target_compound in compound_list:\n",
    "    x_data, y_data, labels = machine_learning.generate_spectra_dataset(hdf5_filename, target_compound, spectra_count)\n",
    "    y_data_list.append(y_data)\n",
    "len(x_data)\n",
    "y_data_list"
   ]
  },
  {
   "cell_type": "code",
   "execution_count": 4,
   "metadata": {},
   "outputs": [
    {
     "name": "stdout",
     "output_type": "stream",
     "text": [
      "8 8\n",
      "2 2\n"
     ]
    }
   ],
   "source": [
    "from sklearn.model_selection import train_test_split\n",
    "\n",
    "# divide and extract test/train and validation data\n",
    "\n",
    "X_train, X_test, y_train, y_test = train_test_split(y_data, labels, test_size=0.2)\n",
    "print(len(X_train), len(y_train))\n",
    "print(len(X_test), len(y_test))"
   ]
  },
  {
   "cell_type": "code",
   "execution_count": 5,
   "metadata": {},
   "outputs": [
    {
     "data": {
      "text/plain": [
       "1.0"
      ]
     },
     "execution_count": 5,
     "metadata": {},
     "output_type": "execute_result"
    }
   ],
   "source": [
    "import numpy as np\n",
    "import matplotlib.pyplot as plt\n",
    "from sklearn.linear_model import LogisticRegression\n",
    "\n",
    "\n",
    "logreg = LogisticRegression(C=1e5, solver='lbfgs', multi_class='multinomial')\n",
    "\n",
    "# Create an instance of Logistic Regression Classifier and fit the data.\n",
    "logreg.fit(X_train, y_train)\n",
    "\n",
    "# get predictions\n",
    "Z = logreg.predict(X_test)\n",
    "\n",
    "logreg.score(X_test, y_test)"
   ]
  },
  {
   "cell_type": "code",
   "execution_count": 6,
   "metadata": {},
   "outputs": [
    {
     "data": {
      "text/plain": [
       "<matplotlib.legend.Legend at 0x1bf5e4a62b0>"
      ]
     },
     "execution_count": 6,
     "metadata": {},
     "output_type": "execute_result"
    },
    {
     "data": {
      "image/png": "[encoded data removed]",
      "text/plain": [
       "<Figure size 360x216 with 1 Axes>"
      ]
     },
     "metadata": {
      "needs_background": "light"
     },
     "output_type": "display_data"
    }
   ],
   "source": [
    "\n",
    "\n",
    "\n",
    "fig, ax = plt.subplots(figsize=(5, 3))\n",
    "ax.scatter(x_data, y_data, label='data')\n",
    "# ax.scatter(X_train, y_train, label='train')\n",
    "# ax.scatter(X_test, y_test, label='teste')\n",
    "# ax.scatter(X_test, regr.predict(X_test), label='predicted')\n",
    "\n",
    "# fig, ax = plt.subplots(figsize=(5, 3))\n",
    "# y = dat['fraction'].values\n",
    "# x = dat['height'].values\n",
    "# # Create the linear regression model\n",
    "# LogRegr = linear_model.LogisticRegression() \n",
    "# # plotting the balance\n",
    "# ax.scatter(dat['height'], dat['fraction'], label = 'balance default',color='r')\n",
    "\n",
    "# # fit the linear model \n",
    "# LogRegr.fit(x.reshape(-1,1),y.reshape(-1,1))\n",
    "# xres = np.array(x).reshape(-1,1)\n",
    "# plt.plot(x,LogRegr.predict_proba(xres)[:,1],'o',label = 'fit')\n",
    "# # Find the coefficients B0 and B1\n",
    "# print('B0, B1: ',LogRegr.intercept_, LogRegr.coef_[0])\n",
    "# ax.set_ylabel('Probability Default')\n",
    "# ax.set_xlabel('Balance')\n",
    "# ax.set_title('Probability Default vs. Balance')\n",
    "plt.legend()"
   ]
  },
  {
   "cell_type": "code",
   "execution_count": 7,
   "metadata": {},
   "outputs": [],
   "source": [
    "dataprep.new_hdf5('supervised_calibration_cal')"
   ]
  },
  {
   "cell_type": "code",
   "execution_count": null,
   "metadata": {},
   "outputs": [
    {
     "name": "stdout",
     "output_type": "stream",
     "text": [
      "cal/0/residuals\n",
      "Data from fit with compound pseudo-Voigt model.\n",
      "          Results saved to supervised_calibration_cal.hdf5.\n",
      "cal/1/residuals\n",
      "Data from fit with compound pseudo-Voigt model.\n",
      "          Results saved to supervised_calibration_cal.hdf5.\n",
      "cal/2/residuals\n",
      "Data from fit with compound pseudo-Voigt model.\n",
      "          Results saved to supervised_calibration_cal.hdf5.\n",
      "cal/3/residuals\n",
      "Data from fit with compound pseudo-Voigt model.\n",
      "          Results saved to supervised_calibration_cal.hdf5.\n",
      "cal/4/residuals\n",
      "Data from fit with compound pseudo-Voigt model.\n",
      "          Results saved to supervised_calibration_cal.hdf5.\n"
     ]
    }
   ],
   "source": [
    "hdf5_calfilename = 'supervised_calibration_cal.hdf5' #update to hdf5_calfilename\n",
    "key = 'cal'\n",
    "for num, label in enumerate(labels):\n",
    "    machine_learning.combine_experiment(hdf5_calfilename, key, x_data, y_data, label, num)"
   ]
  },
  {
   "cell_type": "code",
   "execution_count": null,
   "metadata": {},
   "outputs": [],
   "source": [
    "key_list = machine_learning.keyfinder(hdf5_calfilename)\n",
    "key_list"
   ]
  },
  {
   "cell_type": "code",
   "execution_count": null,
   "metadata": {},
   "outputs": [],
   "source": [
    "hdf5_calfilename = 'supervised_calibration_dataset.hdf5' #update to hdf5_calfilename\n",
    "hdf5_expfilename = 'supervised_calibration_cal.hdf5'\n",
    "frames = []\n",
    "for i,key in enumerate(key_list):\n",
    "    df =peakidentify.peak_assignment(hdf5_expfilename, key, hdf5_calfilename, 50, plot =False)\n",
    "    frames.append(df)"
   ]
  },
  {
   "cell_type": "code",
   "execution_count": null,
   "metadata": {},
   "outputs": [],
   "source": [
    "result = pd.concat(frames,axis=0, join='outer', join_axes=None, ignore_index=False,\n",
    "          keys=None, levels=None, names=None, verify_integrity=False,\n",
    "          copy=True,sort=True)"
   ]
  },
  {
   "cell_type": "code",
   "execution_count": null,
   "metadata": {},
   "outputs": [],
   "source": [
    "cal = pd.DataFrame()"
   ]
  },
  {
   "cell_type": "code",
   "execution_count": null,
   "metadata": {},
   "outputs": [],
   "source": [
    "#import the necessary module\n",
    "from sklearn import preprocessing\n",
    "# create the Labelencoder object\n",
    "le = preprocessing.LabelEncoder()\n",
    "cal['fraction']= result[:][0]\n",
    "cal['sigma']= result[:][1]\n",
    "# dat['center']= result[:][2]\n",
    "cal['amplitude']= result[:][3]\n",
    "cal['fwhm']= result[:][4]\n",
    "cal['height']= result[:][5]\n",
    "cal['auc']= result[:][6]\n",
    "cal['labelencoded']=le.fit_transform(result[:][7])\n",
    "cal['labels']= result[:][7]\n",
    "cal['center']= result[:][2]"
   ]
  },
  {
   "cell_type": "code",
   "execution_count": null,
   "metadata": {},
   "outputs": [],
   "source": [
    "dataprep.view_hdf5('dataimport_ML_df-Copy1.hdf5')"
   ]
  },
  {
   "cell_type": "code",
   "execution_count": null,
   "metadata": {},
   "outputs": [],
   "source": [
    "hdf5_calfilename = 'supervised_calibration_dataset.hdf5' \n",
    "hdf5_expfilename = 'dataimport_ML_df-Copy1.hdf5'\n",
    "frames = []\n",
    "for _, key in enumerate(key_list):\n",
    "    df =peakidentify.peak_assignment(hdf5_expfilename, key, hdf5_calfilename, 50, plot =False)\n",
    "    frames.append(df)"
   ]
  },
  {
   "cell_type": "code",
   "execution_count": null,
   "metadata": {},
   "outputs": [],
   "source": [
    "result = pd.concat(frames,axis=0, join='outer', join_axes=None, ignore_index=False,\n",
    "          keys=None, levels=None, names=None, verify_integrity=False,\n",
    "          copy=True,sort=True)"
   ]
  },
  {
   "cell_type": "code",
   "execution_count": null,
   "metadata": {},
   "outputs": [],
   "source": [
    "dat = pd.DataFrame()"
   ]
  },
  {
   "cell_type": "code",
   "execution_count": null,
   "metadata": {},
   "outputs": [],
   "source": [
    "#import the necessary module\n",
    "from sklearn import preprocessing\n",
    "# create the Labelencoder object\n",
    "le = preprocessing.LabelEncoder()\n",
    "dat['fraction']= result[:][0]\n",
    "dat['sigma']= result[:][1]\n",
    "# dat['center']= result[:][2]\n",
    "dat['amplitude']= result[:][3]\n",
    "dat['fwhm']= result[:][4]\n",
    "dat['height']= result[:][5]\n",
    "dat['auc']= result[:][6]\n",
    "dat['labelencoded']=le.fit_transform(result[:][7])\n",
    "dat['labels']= result[:][7]\n",
    "dat['center']= result[:][2]"
   ]
  },
  {
   "cell_type": "code",
   "execution_count": null,
   "metadata": {},
   "outputs": [],
   "source": []
  }
 ],
 "metadata": {
  "kernelspec": {
   "display_name": "Python 3",
   "language": "python",
   "name": "python3"
  },
  "language_info": {
   "codemirror_mode": {
    "name": "ipython",
    "version": 3
   },
   "file_extension": ".py",
   "mimetype": "text/x-python",
   "name": "python",
   "nbconvert_exporter": "python",
   "pygments_lexer": "ipython3",
   "version": "3.7.3"
  }
 },
 "nbformat": 4,
 "nbformat_minor": 2
}
