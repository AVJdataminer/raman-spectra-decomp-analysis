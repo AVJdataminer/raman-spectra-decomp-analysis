{
 "cells": [
  {
   "cell_type": "markdown",
   "metadata": {},
   "source": [
    "### Test function development for the machine_learning.py module"
   ]
  },
  {
   "cell_type": "code",
   "execution_count": 5,
   "metadata": {},
   "outputs": [],
   "source": [
    "import h5py\n",
    "import numpy as np\n",
    "from ramandecompy import machine_learning"
   ]
  },
  {
   "cell_type": "code",
   "execution_count": 10,
   "metadata": {},
   "outputs": [
    {
     "data": {
      "text/plain": [
       "['300C/25s', '300C/35s', '300C/45s', '300C/55s', '300C/65s']"
      ]
     },
     "execution_count": 10,
     "metadata": {},
     "output_type": "execute_result"
    }
   ],
   "source": [
    "ml.keyfinder('ramandecompy/tests/test_files/test_experiment.hdf5')"
   ]
  },
  {
   "cell_type": "code",
   "execution_count": 12,
   "metadata": {},
   "outputs": [],
   "source": [
    "hdf5 = h5py.File('ramandecompy/tests/test_files/test_experiment.hdf5', 'r')"
   ]
  },
  {
   "cell_type": "code",
   "execution_count": 13,
   "metadata": {},
   "outputs": [
    {
     "data": {
      "text/plain": [
       "h5py._hl.group.Group"
      ]
     },
     "execution_count": 13,
     "metadata": {},
     "output_type": "execute_result"
    }
   ],
   "source": [
    "type(hdf5['300C'])"
   ]
  },
  {
   "cell_type": "code",
   "execution_count": 14,
   "metadata": {},
   "outputs": [
    {
     "data": {
      "text/plain": [
       "h5py._hl.group.Group"
      ]
     },
     "execution_count": 14,
     "metadata": {},
     "output_type": "execute_result"
    }
   ],
   "source": [
    "type(hdf5['300C/25s'])"
   ]
  },
  {
   "cell_type": "code",
   "execution_count": 15,
   "metadata": {},
   "outputs": [
    {
     "data": {
      "text/plain": [
       "KeysView(<HDF5 group \"/300C/25s\" (21 members)>)"
      ]
     },
     "execution_count": 15,
     "metadata": {},
     "output_type": "execute_result"
    }
   ],
   "source": [
    "hdf5['300C/25s'].keys()"
   ]
  },
  {
   "cell_type": "code",
   "execution_count": 21,
   "metadata": {},
   "outputs": [
    {
     "name": "stdout",
     "output_type": "stream",
     "text": [
      "A float was passed to the function and was handled well with a TypeError\n",
      "A .txt was passed to the function and was handled well with a TypeError\n"
     ]
    }
   ],
   "source": [
    "# def test_keyfinder(hdf5_filename):\n",
    "\"\"\"\n",
    "docstring\n",
    "\"\"\"\n",
    "hdf5_filename = 'ramandecompy/tests/test_files/test_experiment.hdf5'\n",
    "key_list = machine_learning.keyfinder(hdf5_filename)\n",
    "assert isinstance(key_list, list), 'expected output is not a list'\n",
    "assert isinstance(key_list[0], str), 'first element of list should be a string'\n",
    "assert len(key_list) == 5, 'number of keys in hdf5 file is incorrect'\n",
    "try:\n",
    "    machine_learning.keyfinder(4.2)\n",
    "except TypeError:\n",
    "    print('A float was passed to the function and was handled well with a TypeError')\n",
    "try:\n",
    "    machine_learning.keyfinder('hdf5_filename.txt')\n",
    "except TypeError:\n",
    "    print('A .txt was passed to the function and was handled well with a TypeError')\n"
   ]
  },
  {
   "cell_type": "code",
   "execution_count": 18,
   "metadata": {},
   "outputs": [
    {
     "data": {
      "text/plain": [
       "5"
      ]
     },
     "execution_count": 18,
     "metadata": {},
     "output_type": "execute_result"
    }
   ],
   "source": [
    "len(key_list)"
   ]
  },
  {
   "cell_type": "code",
   "execution_count": 9,
   "metadata": {},
   "outputs": [
    {
     "name": "stdout",
     "output_type": "stream",
     "text": [
      "A float was passed to the function, and was handled well with a TypeError.\n",
      "A .txt was passed to the function, and was handled well with a TypeError.\n",
      "A list was passed to the function, and was handled well with a TypeError.\n"
     ]
    }
   ],
   "source": [
    "HDF5_FILENAME = 'ramandecompy/tests/test_files/test_calibration.hdf5'\n",
    "TARGET_COMPOUND = 'water'\n",
    "HDF5 = h5py.File(HDF5_FILENAME, 'r')\n",
    "X_DATA = np.asarray(HDF5['water/wavenumber'])\n",
    "Y_DATA = np.asarray(HDF5['water/counts'])\n",
    "TUPLE_LIST = zip(X_DATA, Y_DATA)\n",
    "\n",
    "\n",
    "def test_interp_and_norm():\n",
    "    \"\"\"\n",
    "    docstring\n",
    "    \"\"\"\n",
    "    tuple_list = machine_learning.interp_and_norm(HDF5_FILENAME, TARGET_COMPOUND)\n",
    "    assert isinstance(tuple_list, list), '`tuple_list is not a list'\n",
    "    assert isinstance(tuple_list[0], tuple), 'first element of `tuple_list` is not a tuple'\n",
    "    assert isinstance(tuple_list[0][0], np.int64), 'first element of tuple is not a np.int64'\n",
    "    x_data, y_data = zip(*tuple_list)\n",
    "    assert max(y_data) <= 1, 'spectra was not normalized correctly'\n",
    "    try:\n",
    "        machine_learning.interp_and_norm(4.2, TARGET_COMPOUND)\n",
    "    except TypeError:\n",
    "        print('A float was passed to the function, and was handled well with a TypeError.')\n",
    "    try:\n",
    "        machine_learning.interp_and_norm('hdf5.txt', TARGET_COMPOUND)\n",
    "    except TypeError:\n",
    "        print('A .txt was passed to the function, and was handled well with a TypeError.')\n",
    "    try:\n",
    "        machine_learning.interp_and_norm(HDF5_FILENAME, [TARGET_COMPOUND])\n",
    "    except TypeError:\n",
    "        print('A list was passed to the function, and was handled well with a TypeError.')\n",
    "\n",
    "test_interp_and_norm()\n",
    "    \n",
    "def test_apply_scaling():\n",
    "    \"\"\"\n",
    "    docstring\n",
    "    \"\"\"\n",
    "    scaled_tuple_list = machine_learning.apply_scaling(TUPLE_LIST)\n",
    "    assert len(scaled_tuple_list) == len(TUPLE_LIST), 'scaled data not the same size as input data'\n",
    "    assert isinstance(scaled_tuple_list, list), '`scaled_tuple_list` is not a list'\n",
    "    assert isinstance(scaled_tuple_list[0], tuple), 'first element of `scaled_tuple_list` is not a tuple'"
   ]
  },
  {
   "cell_type": "code",
   "execution_count": null,
   "metadata": {},
   "outputs": [],
   "source": []
  }
 ],
 "metadata": {
  "kernelspec": {
   "display_name": "Python 3",
   "language": "python",
   "name": "python3"
  },
  "language_info": {
   "codemirror_mode": {
    "name": "ipython",
    "version": 3
   },
   "file_extension": ".py",
   "mimetype": "text/x-python",
   "name": "python",
   "nbconvert_exporter": "python",
   "pygments_lexer": "ipython3",
   "version": "3.7.1"
  }
 },
 "nbformat": 4,
 "nbformat_minor": 2
}
