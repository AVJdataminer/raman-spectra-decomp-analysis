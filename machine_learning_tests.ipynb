{
 "cells": [
  {
   "cell_type": "markdown",
   "metadata": {},
   "source": [
    "### Test function development for the machine_learning.py module"
   ]
  },
  {
   "cell_type": "code",
   "execution_count": 1,
   "metadata": {},
   "outputs": [],
   "source": [
    "import h5py\n",
    "import numpy as np\n",
    "from ramandecompy import interpolatespectra"
   ]
  },
  {
   "cell_type": "code",
   "execution_count": 9,
   "metadata": {},
   "outputs": [],
   "source": [
    "key_list = interpolatespectra.keyfinder('ramandecompy/tests/test_files/test_experiment.hdf5')"
   ]
  },
  {
   "cell_type": "code",
   "execution_count": 3,
   "metadata": {},
   "outputs": [],
   "source": [
    "hdf5 = h5py.File('ramandecompy/tests/test_files/test_experiment.hdf5', 'r')"
   ]
  },
  {
   "cell_type": "code",
   "execution_count": 4,
   "metadata": {},
   "outputs": [
    {
     "data": {
      "text/plain": [
       "h5py._hl.group.Group"
      ]
     },
     "execution_count": 4,
     "metadata": {},
     "output_type": "execute_result"
    }
   ],
   "source": [
    "type(hdf5['300C'])"
   ]
  },
  {
   "cell_type": "code",
   "execution_count": 5,
   "metadata": {},
   "outputs": [
    {
     "data": {
      "text/plain": [
       "h5py._hl.group.Group"
      ]
     },
     "execution_count": 5,
     "metadata": {},
     "output_type": "execute_result"
    }
   ],
   "source": [
    "type(hdf5['300C/25s'])"
   ]
  },
  {
   "cell_type": "code",
   "execution_count": 6,
   "metadata": {},
   "outputs": [
    {
     "data": {
      "text/plain": [
       "KeysView(<HDF5 group \"/300C/25s\" (21 members)>)"
      ]
     },
     "execution_count": 6,
     "metadata": {},
     "output_type": "execute_result"
    }
   ],
   "source": [
    "hdf5['300C/25s'].keys()"
   ]
  },
  {
   "cell_type": "code",
   "execution_count": 10,
   "metadata": {},
   "outputs": [
    {
     "data": {
      "text/plain": [
       "5"
      ]
     },
     "execution_count": 10,
     "metadata": {},
     "output_type": "execute_result"
    }
   ],
   "source": [
    "len(key_list)"
   ]
  },
  {
   "cell_type": "code",
   "execution_count": 15,
   "metadata": {},
   "outputs": [
    {
     "name": "stdout",
     "output_type": "stream",
     "text": [
      "A float was passed to the function, and was handled well with a TypeError.\n",
      "A .txt was passed to the function, and was handled well with a TypeError.\n",
      "A list was passed to the function, and was handled well with a TypeError.\n",
      "\n",
      "A float was passed to the function, and was handled well with a TypeError.\n",
      "A list not containing tuples was passed to the function,\n",
      "         and was handled well with a TypeError.\n",
      "A float was passed to the function, and was handled well with a TypeError.\n",
      "\n",
      "A float was passed to the function and was handled well with a TypeError\n",
      "A .txt was passed to the function and was handled well with a TypeError\n",
      "An int was passed to the function and was handled well with a TypeError\n",
      "A negative int was passed to the function and was handled well with a TypeError\n",
      "A list was passed to the function and was handled well with a TypeError\n",
      "\n",
      "A float was passed to the function and was handled well with a TypeError\n",
      "A .txt was passed to the function and was handled well with a TypeError\n",
      "\n"
     ]
    },
    {
     "data": {
      "image/png": "[encoded data removed]",
      "text/plain": [
       "<Figure size 432x288 with 1 Axes>"
      ]
     },
     "metadata": {
      "needs_background": "light"
     },
     "output_type": "display_data"
    }
   ],
   "source": [
    "HDF5_FILENAME = 'ramandecompy/tests/test_files/test_calibration.hdf5'\n",
    "TARGET_COMPOUND = 'water'\n",
    "HDF5 = h5py.File(HDF5_FILENAME, 'r')\n",
    "X_DATA = np.asarray(HDF5['{}/wavenumber'.format(TARGET_COMPOUND)])\n",
    "Y_DATA = np.asarray(HDF5['{}/counts'.format(TARGET_COMPOUND)])\n",
    "TUPLE_LIST = list(zip(X_DATA, Y_DATA))\n",
    "\n",
    "\n",
    "def test_interp_and_norm():\n",
    "    \"\"\"\n",
    "    A function that tests that the interpolatespectra.interp_and_norm function is behaving\n",
    "    as expected.\n",
    "    \"\"\"\n",
    "    tuple_list = interpolatespectra.interp_and_norm(HDF5_FILENAME, TARGET_COMPOUND)\n",
    "    assert isinstance(tuple_list, list), '`tuple_list` is not a list'\n",
    "    assert isinstance(tuple_list[0], tuple), 'first element of `tuple_list` is not a tuple'\n",
    "    assert isinstance(tuple_list[0][0], np.int64), 'first element of tuple is not a np.int64'\n",
    "    x_data, y_data = zip(*tuple_list)\n",
    "    assert max(y_data) <= 1, 'spectra was not normalized correctly'\n",
    "    try:\n",
    "        interpolatespectra.interp_and_norm(4.2, TARGET_COMPOUND)\n",
    "    except TypeError:\n",
    "        print('A float was passed to the function, and was handled well with a TypeError.')\n",
    "    try:\n",
    "        interpolatespectra.interp_and_norm('hdf5.txt', TARGET_COMPOUND)\n",
    "    except TypeError:\n",
    "        print('A .txt was passed to the function, and was handled well with a TypeError.')\n",
    "    try:\n",
    "        interpolatespectra.interp_and_norm(HDF5_FILENAME, [TARGET_COMPOUND])\n",
    "    except TypeError:\n",
    "        print('A list was passed to the function, and was handled well with a TypeError.')\n",
    "\n",
    "test_interp_and_norm()\n",
    "print()\n",
    "    \n",
    "def test_apply_scaling():\n",
    "    \"\"\"\n",
    "    A function that tests that the interpolatespectra.apply_scaling function is behaving\n",
    "    as expected.\n",
    "    \"\"\"\n",
    "    # and odd value for j means the compound should be present if i and target_index match\n",
    "    j = 7\n",
    "    i = 3\n",
    "    target_index = 3\n",
    "    scaled_tuple_list = interpolatespectra.apply_scaling(TUPLE_LIST, j, i, target_index)\n",
    "    assert len(scaled_tuple_list) == len(TUPLE_LIST), 'scaled data not the same size as input data'\n",
    "    assert isinstance(scaled_tuple_list, list), '`scaled_tuple_list` is not a list'\n",
    "    assert isinstance(scaled_tuple_list[0], tuple), 'first element of `scaled_tuple_list` is not a tuple'\n",
    "    try:\n",
    "        interpolatespectra.apply_scaling(4.2, j, i, target_index)\n",
    "    except TypeError:\n",
    "        print('A float was passed to the function, and was handled well with a TypeError.')\n",
    "    try:\n",
    "        interpolatespectra.apply_scaling([1, 2, 3, 4], j, i, target_index)\n",
    "    except TypeError:\n",
    "        print(\"\"\"A list not containing tuples was passed to the function,\n",
    "         and was handled well with a TypeError.\"\"\")\n",
    "    try:\n",
    "        interpolatespectra.apply_scaling(TUPLE_LIST, True, i, target_index)\n",
    "    except TypeError:\n",
    "        print('A boolean was passed to the function, and was handled well with a TypeError.')\n",
    "    try:\n",
    "        interpolatespectra.apply_scaling(TUPLE_LIST, j, 3, target_index)\n",
    "    except TypeError:\n",
    "        print('An int was passed to the function, and was handled well with a TypeError.')\n",
    "    try:\n",
    "        interpolatespectra.apply_scaling(TUPLE_LIST, j, i, 4.2)\n",
    "    except TypeError:\n",
    "        print('A float was passed to the function, and was handled well with a TypeError.')\n",
    "        \n",
    "test_apply_scaling()\n",
    "print()\n",
    "\n",
    "\n",
    "def test_generate_spectra_dataset():\n",
    "    \"\"\"\n",
    "    A function that tests that the interpolatespectra.generate_spectra_dataset\n",
    "    function is behaving as expected.\n",
    "    \"\"\"\n",
    "    spectra_count = 20\n",
    "    x_data, y_data, label = interpolatespectra.generate_spectra_dataset(HDF5_FILENAME,\n",
    "                                                                        TARGET_COMPOUND,\n",
    "                                                                        spectra_count)\n",
    "    assert len(x_data) == 20, 'incorrect number of spectra generated (x_data)'\n",
    "    assert len(y_data) == 20, 'incorrect number of spectra generated (y_data)'\n",
    "    assert len(label) == 20, 'incorrect number of spectra generated (label)'\n",
    "    try:\n",
    "        interpolatespectra.generate_spectra_dataset(4.2,\n",
    "                                                    TARGET_COMPOUND,\n",
    "                                                    spectra_count)\n",
    "    except TypeError:\n",
    "        print('A float was passed to the function and was handled well with a TypeError')\n",
    "    try:\n",
    "        interpolatespectra.generate_spectra_dataset('file.txt',\n",
    "                                                    TARGET_COMPOUND,\n",
    "                                                    spectra_count)\n",
    "    except TypeError:\n",
    "        print('A .txt was passed to the function and was handled well with a TypeError')\n",
    "    try:\n",
    "        interpolatespectra.generate_spectra_dataset(HDF5_FILENAME,\n",
    "                                                    7,\n",
    "                                                    spectra_count)\n",
    "    except TypeError:\n",
    "        print('An int was passed to the function and was handled well with a TypeError')\n",
    "    try:\n",
    "        interpolatespectra.generate_spectra_dataset(HDF5_FILENAME,\n",
    "                                                    TARGET_COMPOUND,\n",
    "                                                    -1)\n",
    "    except ValueError:\n",
    "        print('A negative int was passed to the function and was handled well with a TypeError')\n",
    "    try:\n",
    "        interpolatespectra.generate_spectra_dataset(HDF5_FILENAME,\n",
    "                                                    TARGET_COMPOUND,\n",
    "                                                    [1, 2, 3])\n",
    "    except TypeError:\n",
    "        print('A list was passed to the function and was handled well with a TypeError')\n",
    "        \n",
    "test_generate_spectra_dataset()\n",
    "print()\n",
    "\n",
    "def test_keyfinder():\n",
    "    \"\"\"\n",
    "    A function that tests that the interpolatespectra.keyfinder function is behaving\n",
    "    as expected.\n",
    "    \"\"\"\n",
    "    hdf5_filename = 'ramandecompy/tests/test_files/test_experiment.hdf5'\n",
    "    key_list = interpolatespectra.keyfinder(hdf5_filename)\n",
    "    assert isinstance(key_list, list), 'expected output is not a list'\n",
    "    assert isinstance(key_list[0], str), 'first element of list should be a string'\n",
    "    assert len(key_list) == 5, 'number of keys in hdf5 file is incorrect'\n",
    "    try:\n",
    "        interpolatespectra.keyfinder(4.2)\n",
    "    except TypeError:\n",
    "        print('A float was passed to the function and was handled well with a TypeError')\n",
    "    try:\n",
    "        interpolatespectra.keyfinder('hdf5_filename.txt')\n",
    "    except TypeError:\n",
    "        print('A .txt was passed to the function and was handled well with a TypeError')\n",
    "        \n",
    "test_keyfinder()\n",
    "print()"
   ]
  },
  {
   "cell_type": "code",
   "execution_count": 13,
   "metadata": {},
   "outputs": [
    {
     "name": "stdout",
     "output_type": "stream",
     "text": [
      "A float was passed to the function and was handled well with a TypeError\n",
      "A .txt was passed to the function and was handled well with a TypeError\n",
      "An int was passed to the function and was handled well with a TypeError\n",
      "A negative int was passed to the function and was handled well with a TypeError\n",
      "A list was passed to the function and was handled well with a TypeError\n"
     ]
    },
    {
     "data": {
      "image/png": "[encoded data removed]",
      "text/plain": [
       "<Figure size 432x288 with 1 Axes>"
      ]
     },
     "metadata": {
      "needs_background": "light"
     },
     "output_type": "display_data"
    }
   ],
   "source": []
  },
  {
   "cell_type": "code",
   "execution_count": null,
   "metadata": {},
   "outputs": [],
   "source": []
  },
  {
   "cell_type": "code",
   "execution_count": null,
   "metadata": {},
   "outputs": [],
   "source": []
  }
 ],
 "metadata": {
  "kernelspec": {
   "display_name": "Python 3",
   "language": "python",
   "name": "python3"
  },
  "language_info": {
   "codemirror_mode": {
    "name": "ipython",
    "version": 3
   },
   "file_extension": ".py",
   "mimetype": "text/x-python",
   "name": "python",
   "nbconvert_exporter": "python",
   "pygments_lexer": "ipython3",
   "version": "3.7.1"
  }
 },
 "nbformat": 4,
 "nbformat_minor": 2
}
